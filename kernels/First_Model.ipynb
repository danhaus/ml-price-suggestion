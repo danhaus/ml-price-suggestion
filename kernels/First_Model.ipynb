{
 "cells": [
  {
   "cell_type": "code",
   "execution_count": 1,
   "metadata": {},
   "outputs": [],
   "source": [
    "import numpy as np\n",
    "import pandas as pd"
   ]
  },
  {
   "cell_type": "markdown",
   "metadata": {},
   "source": [
    "# Settings"
   ]
  },
  {
   "cell_type": "code",
   "execution_count": 2,
   "metadata": {},
   "outputs": [],
   "source": [
    "settings = { \n",
    "            'data_size': int(2e5), # size of data subset after shuffle is performed\n",
    "            'test_size': 0.25, # fraction of data set to be assigned as test data\n",
    "            'save_env': False, # save environment\n",
    "            'del': True # Delete variables that are no longer needed to proceed in computations to save place\n",
    "           }"
   ]
  },
  {
   "cell_type": "markdown",
   "metadata": {},
   "source": [
    "# Load Data: load dataset, shuffle it and take subset"
   ]
  },
  {
   "cell_type": "code",
   "execution_count": 3,
   "metadata": {},
   "outputs": [],
   "source": [
    "PATH = \"../data/\""
   ]
  },
  {
   "cell_type": "code",
   "execution_count": 4,
   "metadata": {},
   "outputs": [],
   "source": [
    "data_full = pd.read_csv(f'{PATH}train.tsv', sep='\\t')"
   ]
  },
  {
   "cell_type": "code",
   "execution_count": 5,
   "metadata": {},
   "outputs": [
    {
     "data": {
      "text/html": [
       "<div>\n",
       "<style scoped>\n",
       "    .dataframe tbody tr th:only-of-type {\n",
       "        vertical-align: middle;\n",
       "    }\n",
       "\n",
       "    .dataframe tbody tr th {\n",
       "        vertical-align: top;\n",
       "    }\n",
       "\n",
       "    .dataframe thead th {\n",
       "        text-align: right;\n",
       "    }\n",
       "</style>\n",
       "<table border=\"1\" class=\"dataframe\">\n",
       "  <thead>\n",
       "    <tr style=\"text-align: right;\">\n",
       "      <th></th>\n",
       "      <th>train_id</th>\n",
       "      <th>name</th>\n",
       "      <th>item_condition_id</th>\n",
       "      <th>category_name</th>\n",
       "      <th>brand_name</th>\n",
       "      <th>price</th>\n",
       "      <th>shipping</th>\n",
       "      <th>item_description</th>\n",
       "    </tr>\n",
       "  </thead>\n",
       "  <tbody>\n",
       "    <tr>\n",
       "      <th>0</th>\n",
       "      <td>0</td>\n",
       "      <td>MLB Cincinnati Reds T Shirt Size XL</td>\n",
       "      <td>3</td>\n",
       "      <td>Men/Tops/T-shirts</td>\n",
       "      <td>NaN</td>\n",
       "      <td>10.0</td>\n",
       "      <td>1</td>\n",
       "      <td>No description yet</td>\n",
       "    </tr>\n",
       "    <tr>\n",
       "      <th>1</th>\n",
       "      <td>1</td>\n",
       "      <td>Razer BlackWidow Chroma Keyboard</td>\n",
       "      <td>3</td>\n",
       "      <td>Electronics/Computers &amp; Tablets/Components &amp; P...</td>\n",
       "      <td>Razer</td>\n",
       "      <td>52.0</td>\n",
       "      <td>0</td>\n",
       "      <td>This keyboard is in great condition and works ...</td>\n",
       "    </tr>\n",
       "    <tr>\n",
       "      <th>2</th>\n",
       "      <td>2</td>\n",
       "      <td>AVA-VIV Blouse</td>\n",
       "      <td>1</td>\n",
       "      <td>Women/Tops &amp; Blouses/Blouse</td>\n",
       "      <td>Target</td>\n",
       "      <td>10.0</td>\n",
       "      <td>1</td>\n",
       "      <td>Adorable top with a hint of lace and a key hol...</td>\n",
       "    </tr>\n",
       "    <tr>\n",
       "      <th>3</th>\n",
       "      <td>3</td>\n",
       "      <td>Leather Horse Statues</td>\n",
       "      <td>1</td>\n",
       "      <td>Home/Home Décor/Home Décor Accents</td>\n",
       "      <td>NaN</td>\n",
       "      <td>35.0</td>\n",
       "      <td>1</td>\n",
       "      <td>New with tags. Leather horses. Retail for [rm]...</td>\n",
       "    </tr>\n",
       "    <tr>\n",
       "      <th>4</th>\n",
       "      <td>4</td>\n",
       "      <td>24K GOLD plated rose</td>\n",
       "      <td>1</td>\n",
       "      <td>Women/Jewelry/Necklaces</td>\n",
       "      <td>NaN</td>\n",
       "      <td>44.0</td>\n",
       "      <td>0</td>\n",
       "      <td>Complete with certificate of authenticity</td>\n",
       "    </tr>\n",
       "  </tbody>\n",
       "</table>\n",
       "</div>"
      ],
      "text/plain": [
       "   train_id                                 name  item_condition_id  \\\n",
       "0         0  MLB Cincinnati Reds T Shirt Size XL                  3   \n",
       "1         1     Razer BlackWidow Chroma Keyboard                  3   \n",
       "2         2                       AVA-VIV Blouse                  1   \n",
       "3         3                Leather Horse Statues                  1   \n",
       "4         4                 24K GOLD plated rose                  1   \n",
       "\n",
       "                                       category_name brand_name  price  \\\n",
       "0                                  Men/Tops/T-shirts        NaN   10.0   \n",
       "1  Electronics/Computers & Tablets/Components & P...      Razer   52.0   \n",
       "2                        Women/Tops & Blouses/Blouse     Target   10.0   \n",
       "3                 Home/Home Décor/Home Décor Accents        NaN   35.0   \n",
       "4                            Women/Jewelry/Necklaces        NaN   44.0   \n",
       "\n",
       "   shipping                                   item_description  \n",
       "0         1                                 No description yet  \n",
       "1         0  This keyboard is in great condition and works ...  \n",
       "2         1  Adorable top with a hint of lace and a key hol...  \n",
       "3         1  New with tags. Leather horses. Retail for [rm]...  \n",
       "4         0          Complete with certificate of authenticity  "
      ]
     },
     "execution_count": 5,
     "metadata": {},
     "output_type": "execute_result"
    }
   ],
   "source": [
    "data_full.head()"
   ]
  },
  {
   "cell_type": "code",
   "execution_count": 6,
   "metadata": {},
   "outputs": [
    {
     "data": {
      "text/plain": [
       "1482535"
      ]
     },
     "execution_count": 6,
     "metadata": {},
     "output_type": "execute_result"
    }
   ],
   "source": [
    "len(data_full)"
   ]
  },
  {
   "cell_type": "code",
   "execution_count": 7,
   "metadata": {},
   "outputs": [],
   "source": [
    "from sklearn.utils import shuffle\n",
    "data_shuffled = shuffle(data_full)"
   ]
  },
  {
   "cell_type": "code",
   "execution_count": 8,
   "metadata": {},
   "outputs": [],
   "source": [
    "if (settings['del']):\n",
    "    del data_full"
   ]
  },
  {
   "cell_type": "code",
   "execution_count": 9,
   "metadata": {},
   "outputs": [],
   "source": [
    "data = data_shuffled.iloc[:settings['data_size'], :]"
   ]
  },
  {
   "cell_type": "code",
   "execution_count": 10,
   "metadata": {},
   "outputs": [],
   "source": [
    "if (settings['del']):\n",
    "    del data_shuffled"
   ]
  },
  {
   "cell_type": "code",
   "execution_count": 11,
   "metadata": {},
   "outputs": [
    {
     "data": {
      "text/plain": [
       "200000"
      ]
     },
     "execution_count": 11,
     "metadata": {},
     "output_type": "execute_result"
    }
   ],
   "source": [
    "len(data)"
   ]
  },
  {
   "cell_type": "code",
   "execution_count": 12,
   "metadata": {},
   "outputs": [
    {
     "data": {
      "text/html": [
       "<div>\n",
       "<style scoped>\n",
       "    .dataframe tbody tr th:only-of-type {\n",
       "        vertical-align: middle;\n",
       "    }\n",
       "\n",
       "    .dataframe tbody tr th {\n",
       "        vertical-align: top;\n",
       "    }\n",
       "\n",
       "    .dataframe thead th {\n",
       "        text-align: right;\n",
       "    }\n",
       "</style>\n",
       "<table border=\"1\" class=\"dataframe\">\n",
       "  <thead>\n",
       "    <tr style=\"text-align: right;\">\n",
       "      <th></th>\n",
       "      <th>train_id</th>\n",
       "      <th>name</th>\n",
       "      <th>item_condition_id</th>\n",
       "      <th>category_name</th>\n",
       "      <th>brand_name</th>\n",
       "      <th>price</th>\n",
       "      <th>shipping</th>\n",
       "      <th>item_description</th>\n",
       "    </tr>\n",
       "  </thead>\n",
       "  <tbody>\n",
       "    <tr>\n",
       "      <th>1237964</th>\n",
       "      <td>1237964</td>\n",
       "      <td>Light Up \"M\"</td>\n",
       "      <td>2</td>\n",
       "      <td>Home/Home Décor/Home Décor Accents</td>\n",
       "      <td>NaN</td>\n",
       "      <td>14.0</td>\n",
       "      <td>0</td>\n",
       "      <td>Mint condition. Super cute decor</td>\n",
       "    </tr>\n",
       "    <tr>\n",
       "      <th>623176</th>\n",
       "      <td>623176</td>\n",
       "      <td>ZARA : graphic tee</td>\n",
       "      <td>2</td>\n",
       "      <td>Women/Tops &amp; Blouses/T-Shirts</td>\n",
       "      <td>ZARA</td>\n",
       "      <td>17.0</td>\n",
       "      <td>0</td>\n",
       "      <td>\"Self confidence is the best outfit\" tee</td>\n",
       "    </tr>\n",
       "    <tr>\n",
       "      <th>203562</th>\n",
       "      <td>203562</td>\n",
       "      <td>Old Navy Active</td>\n",
       "      <td>3</td>\n",
       "      <td>Women/Tops &amp; Blouses/T-Shirts</td>\n",
       "      <td>Old Navy</td>\n",
       "      <td>5.0</td>\n",
       "      <td>1</td>\n",
       "      <td>See through long sleeve work out shirt.</td>\n",
       "    </tr>\n",
       "    <tr>\n",
       "      <th>538344</th>\n",
       "      <td>538344</td>\n",
       "      <td>IKEA Sanela Curtains</td>\n",
       "      <td>2</td>\n",
       "      <td>Home/Home Décor/Window Treatments</td>\n",
       "      <td>IKEA</td>\n",
       "      <td>24.0</td>\n",
       "      <td>0</td>\n",
       "      <td>One set of beautiful dark brown velvet panel c...</td>\n",
       "    </tr>\n",
       "    <tr>\n",
       "      <th>179589</th>\n",
       "      <td>179589</td>\n",
       "      <td>Old Navy Swimsuit</td>\n",
       "      <td>2</td>\n",
       "      <td>Women/Swimwear/Two-Piece</td>\n",
       "      <td>Old Navy</td>\n",
       "      <td>8.0</td>\n",
       "      <td>1</td>\n",
       "      <td>New, never worn only tried on. Reddish pink co...</td>\n",
       "    </tr>\n",
       "  </tbody>\n",
       "</table>\n",
       "</div>"
      ],
      "text/plain": [
       "         train_id                  name  item_condition_id  \\\n",
       "1237964   1237964          Light Up \"M\"                  2   \n",
       "623176     623176    ZARA : graphic tee                  2   \n",
       "203562     203562       Old Navy Active                  3   \n",
       "538344     538344  IKEA Sanela Curtains                  2   \n",
       "179589     179589     Old Navy Swimsuit                  2   \n",
       "\n",
       "                              category_name brand_name  price  shipping  \\\n",
       "1237964  Home/Home Décor/Home Décor Accents        NaN   14.0         0   \n",
       "623176        Women/Tops & Blouses/T-Shirts       ZARA   17.0         0   \n",
       "203562        Women/Tops & Blouses/T-Shirts   Old Navy    5.0         1   \n",
       "538344    Home/Home Décor/Window Treatments       IKEA   24.0         0   \n",
       "179589             Women/Swimwear/Two-Piece   Old Navy    8.0         1   \n",
       "\n",
       "                                          item_description  \n",
       "1237964                   Mint condition. Super cute decor  \n",
       "623176            \"Self confidence is the best outfit\" tee  \n",
       "203562             See through long sleeve work out shirt.  \n",
       "538344   One set of beautiful dark brown velvet panel c...  \n",
       "179589   New, never worn only tried on. Reddish pink co...  "
      ]
     },
     "execution_count": 12,
     "metadata": {},
     "output_type": "execute_result"
    }
   ],
   "source": [
    "data.head()"
   ]
  },
  {
   "cell_type": "markdown",
   "metadata": {},
   "source": [
    "# Data preparation"
   ]
  },
  {
   "cell_type": "markdown",
   "metadata": {},
   "source": [
    "## Item Category"
   ]
  },
  {
   "cell_type": "markdown",
   "metadata": {},
   "source": [
    "Split category_name into main_cat, subcat_1 and subcat_2"
   ]
  },
  {
   "cell_type": "code",
   "execution_count": 13,
   "metadata": {},
   "outputs": [],
   "source": [
    "# reference: BuryBuryZymon at https://www.kaggle.com/maheshdadhich/i-will-sell-everything-for-free-0-55\n",
    "def split_cat(text):\n",
    "    try: return text.split(\"/\")\n",
    "    except: return (\"No Label\", \"No Label\", \"No Label\")"
   ]
  },
  {
   "cell_type": "code",
   "execution_count": 14,
   "metadata": {},
   "outputs": [],
   "source": [
    "data.loc[:,'main_cat'], data.loc[:,'subcat_1'], data.loc[:,'subcat_2'] = \\\n",
    "zip(*data.loc[:,'category_name'].apply(lambda x: split_cat(x)))\n",
    "# data.head()"
   ]
  },
  {
   "cell_type": "code",
   "execution_count": 15,
   "metadata": {},
   "outputs": [
    {
     "data": {
      "text/html": [
       "<div>\n",
       "<style scoped>\n",
       "    .dataframe tbody tr th:only-of-type {\n",
       "        vertical-align: middle;\n",
       "    }\n",
       "\n",
       "    .dataframe tbody tr th {\n",
       "        vertical-align: top;\n",
       "    }\n",
       "\n",
       "    .dataframe thead th {\n",
       "        text-align: right;\n",
       "    }\n",
       "</style>\n",
       "<table border=\"1\" class=\"dataframe\">\n",
       "  <thead>\n",
       "    <tr style=\"text-align: right;\">\n",
       "      <th></th>\n",
       "      <th>train_id</th>\n",
       "      <th>name</th>\n",
       "      <th>item_condition_id</th>\n",
       "      <th>category_name</th>\n",
       "      <th>brand_name</th>\n",
       "      <th>price</th>\n",
       "      <th>shipping</th>\n",
       "      <th>item_description</th>\n",
       "      <th>main_cat</th>\n",
       "      <th>subcat_1</th>\n",
       "      <th>subcat_2</th>\n",
       "    </tr>\n",
       "  </thead>\n",
       "  <tbody>\n",
       "    <tr>\n",
       "      <th>1237964</th>\n",
       "      <td>1237964</td>\n",
       "      <td>Light Up \"M\"</td>\n",
       "      <td>2</td>\n",
       "      <td>Home/Home Décor/Home Décor Accents</td>\n",
       "      <td>NaN</td>\n",
       "      <td>14.0</td>\n",
       "      <td>0</td>\n",
       "      <td>Mint condition. Super cute decor</td>\n",
       "      <td>Home</td>\n",
       "      <td>Home Décor</td>\n",
       "      <td>Home Décor Accents</td>\n",
       "    </tr>\n",
       "    <tr>\n",
       "      <th>623176</th>\n",
       "      <td>623176</td>\n",
       "      <td>ZARA : graphic tee</td>\n",
       "      <td>2</td>\n",
       "      <td>Women/Tops &amp; Blouses/T-Shirts</td>\n",
       "      <td>ZARA</td>\n",
       "      <td>17.0</td>\n",
       "      <td>0</td>\n",
       "      <td>\"Self confidence is the best outfit\" tee</td>\n",
       "      <td>Women</td>\n",
       "      <td>Tops &amp; Blouses</td>\n",
       "      <td>T-Shirts</td>\n",
       "    </tr>\n",
       "    <tr>\n",
       "      <th>203562</th>\n",
       "      <td>203562</td>\n",
       "      <td>Old Navy Active</td>\n",
       "      <td>3</td>\n",
       "      <td>Women/Tops &amp; Blouses/T-Shirts</td>\n",
       "      <td>Old Navy</td>\n",
       "      <td>5.0</td>\n",
       "      <td>1</td>\n",
       "      <td>See through long sleeve work out shirt.</td>\n",
       "      <td>Women</td>\n",
       "      <td>Tops &amp; Blouses</td>\n",
       "      <td>T-Shirts</td>\n",
       "    </tr>\n",
       "    <tr>\n",
       "      <th>538344</th>\n",
       "      <td>538344</td>\n",
       "      <td>IKEA Sanela Curtains</td>\n",
       "      <td>2</td>\n",
       "      <td>Home/Home Décor/Window Treatments</td>\n",
       "      <td>IKEA</td>\n",
       "      <td>24.0</td>\n",
       "      <td>0</td>\n",
       "      <td>One set of beautiful dark brown velvet panel c...</td>\n",
       "      <td>Home</td>\n",
       "      <td>Home Décor</td>\n",
       "      <td>Window Treatments</td>\n",
       "    </tr>\n",
       "    <tr>\n",
       "      <th>179589</th>\n",
       "      <td>179589</td>\n",
       "      <td>Old Navy Swimsuit</td>\n",
       "      <td>2</td>\n",
       "      <td>Women/Swimwear/Two-Piece</td>\n",
       "      <td>Old Navy</td>\n",
       "      <td>8.0</td>\n",
       "      <td>1</td>\n",
       "      <td>New, never worn only tried on. Reddish pink co...</td>\n",
       "      <td>Women</td>\n",
       "      <td>Swimwear</td>\n",
       "      <td>Two-Piece</td>\n",
       "    </tr>\n",
       "  </tbody>\n",
       "</table>\n",
       "</div>"
      ],
      "text/plain": [
       "         train_id                  name  item_condition_id  \\\n",
       "1237964   1237964          Light Up \"M\"                  2   \n",
       "623176     623176    ZARA : graphic tee                  2   \n",
       "203562     203562       Old Navy Active                  3   \n",
       "538344     538344  IKEA Sanela Curtains                  2   \n",
       "179589     179589     Old Navy Swimsuit                  2   \n",
       "\n",
       "                              category_name brand_name  price  shipping  \\\n",
       "1237964  Home/Home Décor/Home Décor Accents        NaN   14.0         0   \n",
       "623176        Women/Tops & Blouses/T-Shirts       ZARA   17.0         0   \n",
       "203562        Women/Tops & Blouses/T-Shirts   Old Navy    5.0         1   \n",
       "538344    Home/Home Décor/Window Treatments       IKEA   24.0         0   \n",
       "179589             Women/Swimwear/Two-Piece   Old Navy    8.0         1   \n",
       "\n",
       "                                          item_description main_cat  \\\n",
       "1237964                   Mint condition. Super cute decor     Home   \n",
       "623176            \"Self confidence is the best outfit\" tee    Women   \n",
       "203562             See through long sleeve work out shirt.    Women   \n",
       "538344   One set of beautiful dark brown velvet panel c...     Home   \n",
       "179589   New, never worn only tried on. Reddish pink co...    Women   \n",
       "\n",
       "               subcat_1            subcat_2  \n",
       "1237964      Home Décor  Home Décor Accents  \n",
       "623176   Tops & Blouses            T-Shirts  \n",
       "203562   Tops & Blouses            T-Shirts  \n",
       "538344       Home Décor   Window Treatments  \n",
       "179589         Swimwear           Two-Piece  "
      ]
     },
     "execution_count": 15,
     "metadata": {},
     "output_type": "execute_result"
    }
   ],
   "source": [
    "data.head()"
   ]
  },
  {
   "cell_type": "markdown",
   "metadata": {},
   "source": [
    "## Overview"
   ]
  },
  {
   "cell_type": "code",
   "execution_count": 16,
   "metadata": {},
   "outputs": [
    {
     "name": "stdout",
     "output_type": "stream",
     "text": [
      "Number of unique fields:\n",
      "\n",
      "main_cat: \t11\n",
      "subcat_1: \t114\n",
      "subcat_2: \t748\n",
      "brand_name: \t2602\n",
      "\n",
      "859 items have no category\n",
      "85425 items have no brand\n"
     ]
    }
   ],
   "source": [
    "print(\"Number of unique fields:\\n\")\n",
    "\n",
    "print(\"main_cat: \\t%d\" % data['main_cat'].nunique())\n",
    "print(\"subcat_1: \\t%d\" % data['subcat_1'].nunique())\n",
    "print(\"subcat_2: \\t%d\" % data['subcat_2'].nunique())\n",
    "print(\"brand_name: \\t%d\" % data['brand_name'].nunique())\n",
    "print()\n",
    "\n",
    "print(\"%d items have no category\" % len(data.loc[data['main_cat'] == 'No Label']))\n",
    "print(\"%d items have no brand\" % data['brand_name'].isna().sum())"
   ]
  },
  {
   "cell_type": "markdown",
   "metadata": {},
   "source": [
    "## Numerically represent features"
   ]
  },
  {
   "cell_type": "markdown",
   "metadata": {},
   "source": [
    "### train_id: copy"
   ]
  },
  {
   "cell_type": "markdown",
   "metadata": {},
   "source": [
    "Create new DataFrame called data_num for numerical representations"
   ]
  },
  {
   "cell_type": "code",
   "execution_count": 17,
   "metadata": {},
   "outputs": [],
   "source": [
    "data_num = pd.DataFrame(data.loc[:,'train_id'], columns=['train_id'])"
   ]
  },
  {
   "cell_type": "markdown",
   "metadata": {},
   "source": [
    "### name: represent name by its length as name_len"
   ]
  },
  {
   "cell_type": "code",
   "execution_count": 18,
   "metadata": {},
   "outputs": [],
   "source": [
    "data_num.loc[:,'name_len'] = data['name'].str.len()"
   ]
  },
  {
   "cell_type": "markdown",
   "metadata": {},
   "source": [
    "### item_condition_id, price, shipping: copy"
   ]
  },
  {
   "cell_type": "code",
   "execution_count": 19,
   "metadata": {},
   "outputs": [],
   "source": [
    "data_num[['item_condition_id', 'price', 'shipping']] = data.loc[:,['item_condition_id', 'price', 'shipping']]"
   ]
  },
  {
   "cell_type": "markdown",
   "metadata": {},
   "source": [
    "### item_description"
   ]
  },
  {
   "cell_type": "markdown",
   "metadata": {},
   "source": [
    "Represent item_description by its length as item_description_len"
   ]
  },
  {
   "cell_type": "code",
   "execution_count": 20,
   "metadata": {},
   "outputs": [],
   "source": [
    "item_description_len = data.loc[:,'item_description'].str.len()\n",
    "data_num['item_description_len'] = item_description_len\n",
    "\n",
    "# Replace NaN in data_num.item_description_len column by zeros\n",
    "data_num['item_description_len'] = data_num['item_description_len'].fillna(0)\n",
    "\n",
    "# Change data type of this column to uint16 provided the max val is less than 65535\n",
    "if (data_num.item_description_len.max() < 65535):\n",
    "    data_num['item_description_len'] = data_num['item_description_len'].astype(np.uint16)"
   ]
  },
  {
   "cell_type": "code",
   "execution_count": 21,
   "metadata": {},
   "outputs": [],
   "source": [
    "# data_num.head()"
   ]
  },
  {
   "cell_type": "code",
   "execution_count": 22,
   "metadata": {},
   "outputs": [],
   "source": [
    "# data.head()"
   ]
  },
  {
   "cell_type": "markdown",
   "metadata": {},
   "source": [
    "### Define function for making binary columns"
   ]
  },
  {
   "cell_type": "code",
   "execution_count": 23,
   "metadata": {},
   "outputs": [],
   "source": [
    "def make_binary_columns(df_str, df_num, column_name):\n",
    "    \"\"\"\n",
    "    Turns a single column named column_name (with various categories) into m binary columns, where m is the number\n",
    "    of unique values in the original column. For each sample, the value for all new columns is 0 apart the one\n",
    "    that matches the value of the original column. Names of new binary columns are formed as follows:\n",
    "    column_name + '_' + str(original column value)\n",
    "    Inputs:\n",
    "        two pandas DataFrames: df_str where a single column contains information about given category\n",
    "                               df_num that will later contain many binary columns\n",
    "        column_name: name of the column that will be split into several binary columns\n",
    "    Returns nothing. It appends the collumns directly into df_num to increase performance.\n",
    "    \"\"\"\n",
    "    m = len(df_str)\n",
    "    if (m != len(df_num)):\n",
    "        raise Exception(\"df_str and df_num must have the same size.\")\n",
    " \n",
    "    categories = df_str[column_name].unique()\n",
    "\n",
    "    from tqdm import tqdm_notebook # progress bar\n",
    "\n",
    "    # Create a new feature for each category and initialize it to 0\n",
    "    for i in tqdm_notebook(categories, desc='1/2'):\n",
    "        df_num[column_name + '_' + str(i)] = np.zeros((m, 1), dtype=np.int8)\n",
    "\n",
    "#     Loop thorugh all rows and assign 1 to the column whose name is the same as category\n",
    "    for i in tqdm_notebook(df_str.index, desc='2/2'): # loop through all rows\n",
    "        category = str(df_str.at[i, column_name])\n",
    "        df_num.at[i, column_name + '_' + category] = 1"
   ]
  },
  {
   "cell_type": "markdown",
   "metadata": {},
   "source": [
    "### brand_name: for each unique one create new binary feature"
   ]
  },
  {
   "cell_type": "code",
   "execution_count": 24,
   "metadata": {},
   "outputs": [
    {
     "data": {
      "application/vnd.jupyter.widget-view+json": {
       "model_id": "696ef226528e4e5195379c103a431ca9",
       "version_major": 2,
       "version_minor": 0
      },
      "text/plain": [
       "HBox(children=(IntProgress(value=0, description='1/2', max=2603), HTML(value='')))"
      ]
     },
     "metadata": {},
     "output_type": "display_data"
    },
    {
     "name": "stdout",
     "output_type": "stream",
     "text": [
      "\n"
     ]
    },
    {
     "data": {
      "application/vnd.jupyter.widget-view+json": {
       "model_id": "b3143be333844640a23615eeabc25eff",
       "version_major": 2,
       "version_minor": 0
      },
      "text/plain": [
       "HBox(children=(IntProgress(value=0, description='2/2', max=200000), HTML(value='')))"
      ]
     },
     "metadata": {},
     "output_type": "display_data"
    },
    {
     "name": "stdout",
     "output_type": "stream",
     "text": [
      "\n"
     ]
    }
   ],
   "source": [
    "make_binary_columns(data, data_num, 'brand_name')"
   ]
  },
  {
   "cell_type": "code",
   "execution_count": 25,
   "metadata": {},
   "outputs": [],
   "source": [
    "# data.head()"
   ]
  },
  {
   "cell_type": "markdown",
   "metadata": {},
   "source": [
    "### main_cat, subcat_1, subcat_2: for each unique one create new binary feature"
   ]
  },
  {
   "cell_type": "code",
   "execution_count": 26,
   "metadata": {},
   "outputs": [
    {
     "data": {
      "application/vnd.jupyter.widget-view+json": {
       "model_id": "b29a7a9344d74b8190ce116828f8e184",
       "version_major": 2,
       "version_minor": 0
      },
      "text/plain": [
       "HBox(children=(IntProgress(value=0, description='1/2', max=11), HTML(value='')))"
      ]
     },
     "metadata": {},
     "output_type": "display_data"
    },
    {
     "name": "stdout",
     "output_type": "stream",
     "text": [
      "\n"
     ]
    },
    {
     "data": {
      "application/vnd.jupyter.widget-view+json": {
       "model_id": "a75917d6242b486ba00863ce04e293dc",
       "version_major": 2,
       "version_minor": 0
      },
      "text/plain": [
       "HBox(children=(IntProgress(value=0, description='2/2', max=200000), HTML(value='')))"
      ]
     },
     "metadata": {},
     "output_type": "display_data"
    },
    {
     "name": "stdout",
     "output_type": "stream",
     "text": [
      "\n"
     ]
    },
    {
     "data": {
      "application/vnd.jupyter.widget-view+json": {
       "model_id": "69bd4dee07b4468a82a25a8cf989271e",
       "version_major": 2,
       "version_minor": 0
      },
      "text/plain": [
       "HBox(children=(IntProgress(value=0, description='1/2', max=114), HTML(value='')))"
      ]
     },
     "metadata": {},
     "output_type": "display_data"
    },
    {
     "name": "stdout",
     "output_type": "stream",
     "text": [
      "\n"
     ]
    },
    {
     "data": {
      "application/vnd.jupyter.widget-view+json": {
       "model_id": "ef92aeaa9d3844c39daf70a83a934389",
       "version_major": 2,
       "version_minor": 0
      },
      "text/plain": [
       "HBox(children=(IntProgress(value=0, description='2/2', max=200000), HTML(value='')))"
      ]
     },
     "metadata": {},
     "output_type": "display_data"
    },
    {
     "name": "stdout",
     "output_type": "stream",
     "text": [
      "\n"
     ]
    },
    {
     "data": {
      "application/vnd.jupyter.widget-view+json": {
       "model_id": "13d9787a38b744249d262589ea507cc1",
       "version_major": 2,
       "version_minor": 0
      },
      "text/plain": [
       "HBox(children=(IntProgress(value=0, description='1/2', max=748), HTML(value='')))"
      ]
     },
     "metadata": {},
     "output_type": "display_data"
    },
    {
     "name": "stdout",
     "output_type": "stream",
     "text": [
      "\n"
     ]
    },
    {
     "data": {
      "application/vnd.jupyter.widget-view+json": {
       "model_id": "7fabb4c8fd6a418e8970b5c14b67879e",
       "version_major": 2,
       "version_minor": 0
      },
      "text/plain": [
       "HBox(children=(IntProgress(value=0, description='2/2', max=200000), HTML(value='')))"
      ]
     },
     "metadata": {},
     "output_type": "display_data"
    },
    {
     "name": "stdout",
     "output_type": "stream",
     "text": [
      "\n"
     ]
    }
   ],
   "source": [
    "make_binary_columns(data, data_num, 'main_cat')\n",
    "make_binary_columns(data, data_num, 'subcat_1')\n",
    "make_binary_columns(data, data_num, 'subcat_2')"
   ]
  },
  {
   "cell_type": "code",
   "execution_count": 27,
   "metadata": {},
   "outputs": [],
   "source": [
    "if (settings['del']):\n",
    "    del data"
   ]
  },
  {
   "cell_type": "markdown",
   "metadata": {},
   "source": [
    "# Split data and extract X, y and train_id"
   ]
  },
  {
   "cell_type": "code",
   "execution_count": 28,
   "metadata": {},
   "outputs": [],
   "source": [
    "from sklearn.model_selection import train_test_split\n",
    "X_train, X_test = train_test_split(data_num, test_size = settings['test_size'], random_state=None) # randomly split data\n",
    "# ! X_train and X_test STILL CONTAINS PRICE AT THIS MOMENT !"
   ]
  },
  {
   "cell_type": "code",
   "execution_count": 29,
   "metadata": {},
   "outputs": [],
   "source": [
    "if (settings['del']):\n",
    "    del data_num"
   ]
  },
  {
   "cell_type": "code",
   "execution_count": 30,
   "metadata": {},
   "outputs": [],
   "source": [
    "# Pop price from X_train and X_test\n",
    "y_train = X_train.pop('price')\n",
    "y_test = X_test.pop('price')"
   ]
  },
  {
   "cell_type": "code",
   "execution_count": 31,
   "metadata": {},
   "outputs": [],
   "source": [
    "# Pop id_train from both training and test data set\n",
    "\n",
    "id_train = X_train.pop('train_id')\n",
    "id_test = X_test.pop('train_id')"
   ]
  },
  {
   "cell_type": "markdown",
   "metadata": {},
   "source": [
    "# Scale data"
   ]
  },
  {
   "cell_type": "code",
   "execution_count": 32,
   "metadata": {},
   "outputs": [],
   "source": [
    "from sklearn.preprocessing import MaxAbsScaler\n",
    "\n",
    "scaler = MaxAbsScaler()\n",
    "scaler.fit(X_train) # Compute the mean adn std of training data to be used for future scaling\n",
    "\n",
    "X_train_scaled = pd.DataFrame(scaler.transform(X_train), index=X_train.index, columns=X_train.columns)\n",
    "if (settings['del']):\n",
    "    del X_train\n",
    "\n",
    "X_test_scaled = pd.DataFrame(scaler.transform(X_test), index=X_test.index, columns=X_test.columns)\n",
    "if (settings['del']):\n",
    "    del X_test"
   ]
  },
  {
   "cell_type": "code",
   "execution_count": 33,
   "metadata": {},
   "outputs": [],
   "source": [
    "# X_train_scaled.head()"
   ]
  },
  {
   "cell_type": "code",
   "execution_count": 34,
   "metadata": {},
   "outputs": [],
   "source": [
    "# X_train.head()"
   ]
  },
  {
   "cell_type": "code",
   "execution_count": 35,
   "metadata": {},
   "outputs": [],
   "source": [
    "# X_test_scaled.head()"
   ]
  },
  {
   "cell_type": "code",
   "execution_count": 36,
   "metadata": {},
   "outputs": [],
   "source": [
    "# X_test.head()"
   ]
  },
  {
   "cell_type": "code",
   "execution_count": 37,
   "metadata": {},
   "outputs": [
    {
     "name": "stdout",
     "output_type": "stream",
     "text": [
      "MaxAbsScaler\t PATH\t X_test_scaled\t X_train_scaled\t id_test\t id_train\t item_description_len\t make_binary_columns\t np\t \n",
      "pd\t scaler\t settings\t shuffle\t split_cat\t train_test_split\t y_test\t y_train\t \n"
     ]
    }
   ],
   "source": [
    "who"
   ]
  },
  {
   "cell_type": "code",
   "execution_count": 38,
   "metadata": {},
   "outputs": [],
   "source": [
    "if (settings['save_env']):\n",
    "    import dill                            #pip install dill --user\n",
    "    dill.dump_session('splittedData.pkl')"
   ]
  },
  {
   "cell_type": "markdown",
   "metadata": {},
   "source": [
    "# Check size of variables"
   ]
  },
  {
   "cell_type": "code",
   "execution_count": 39,
   "metadata": {},
   "outputs": [
    {
     "name": "stdout",
     "output_type": "stream",
     "text": [
      "                X_train_scaled:   3.9GiB\n",
      "                 X_test_scaled:   1.3GiB\n",
      "          item_description_len:   8.1MiB\n",
      "                       y_train:   2.3MiB\n",
      "                      id_train:   2.3MiB\n",
      "                        y_test: 781.3KiB\n",
      "                       id_test: 781.3KiB\n",
      "                             _:   3.8KiB\n",
      "                           _15:   3.8KiB\n",
      "                            _5:   2.1KiB\n"
     ]
    }
   ],
   "source": [
    "import sys\n",
    "def sizeof_fmt(num, suffix='B'):\n",
    "    ''' By Fred Cirera, after https://stackoverflow.com/a/1094933/1870254'''\n",
    "    for unit in ['','Ki','Mi','Gi','Ti','Pi','Ei','Zi']:\n",
    "        if abs(num) < 1024.0:\n",
    "            return \"%3.1f%s%s\" % (num, unit, suffix)\n",
    "        num /= 1024.0\n",
    "    return \"%.1f%s%s\" % (num, 'Yi', suffix)\n",
    "\n",
    "for name, size in sorted(((name, sys.getsizeof(value)) for name,value in locals().items()),\n",
    "                         key= lambda x: -x[1])[:10]:\n",
    "    print(\"{:>30}: {:>8}\".format(name,sizeof_fmt(size)))"
   ]
  },
  {
   "cell_type": "markdown",
   "metadata": {},
   "source": [
    "# Performance measure: RMSE\n",
    "\n",
    "$$\\text{RMSE} \\left( \\mathbf{Y} , \\mathbf{\\hat{Y}} \\right) = \\sqrt{\\frac{1}{n} \\sum_{i=1}^n \\left( y_i - \\hat{y_i} \\right)^2 } $$"
   ]
  },
  {
   "cell_type": "code",
   "execution_count": 40,
   "metadata": {},
   "outputs": [],
   "source": [
    "def rmse(y_test, y_pred):\n",
    "    from sklearn.metrics import mean_squared_error\n",
    "    return np.sqrt(mean_squared_error(y_test, y_pred))"
   ]
  },
  {
   "cell_type": "markdown",
   "metadata": {},
   "source": [
    "# Apply linear regression"
   ]
  },
  {
   "cell_type": "code",
   "execution_count": 41,
   "metadata": {},
   "outputs": [
    {
     "name": "stdout",
     "output_type": "stream",
     "text": [
      "Trainig...\n",
      "Training done.\n",
      "Evaluating performance on the training set...\n",
      "Training set RMSE: 31.32\n",
      "Evaluating performance on the test test...\n",
      "Test set RMSE: 411737971077.58\n"
     ]
    }
   ],
   "source": [
    "# Fit linear regression\n",
    "from sklearn.linear_model import LinearRegression\n",
    "lnr_regr = LinearRegression(n_jobs=-1)\n",
    "print(\"Trainig...\")\n",
    "lnr_regr.fit(X_train_scaled, y_train)\n",
    "print(\"Training done.\")\n",
    "\n",
    "if (settings['save_env']):\n",
    "    dill.dump_session('linearModel.pkl')\n",
    "    \n",
    "# Make predictions and report train and test RMSEs\n",
    "\n",
    "print(\"Evaluating performance on the training set...\")\n",
    "pred_train = lnr_regr.predict(X_train_scaled)\n",
    "rmse_train = rmse(y_train, pred_train)\n",
    "print(\"Training set RMSE: %.2f\" % rmse_train)\n",
    "\n",
    "print(\"Evaluating performance on the test test...\")\n",
    "pred_test = lnr_regr.predict(X_test_scaled)\n",
    "rmse_test = rmse(y_test, pred_test)\n",
    "print(\"Test set RMSE: %.2f\" % rmse_test)"
   ]
  },
  {
   "cell_type": "markdown",
   "metadata": {},
   "source": [
    "# Learning curves"
   ]
  },
  {
   "cell_type": "code",
   "execution_count": null,
   "metadata": {},
   "outputs": [],
   "source": []
  },
  {
   "cell_type": "code",
   "execution_count": null,
   "metadata": {},
   "outputs": [],
   "source": [
    "# import dill"
   ]
  },
  {
   "cell_type": "code",
   "execution_count": null,
   "metadata": {},
   "outputs": [],
   "source": [
    "# dill.load_session('linearModel.pkl')"
   ]
  },
  {
   "cell_type": "code",
   "execution_count": null,
   "metadata": {},
   "outputs": [],
   "source": [
    "# who"
   ]
  },
  {
   "cell_type": "code",
   "execution_count": null,
   "metadata": {},
   "outputs": [],
   "source": []
  },
  {
   "cell_type": "code",
   "execution_count": null,
   "metadata": {},
   "outputs": [],
   "source": []
  }
 ],
 "metadata": {
  "kernelspec": {
   "display_name": "Python 3",
   "language": "python",
   "name": "python3"
  },
  "language_info": {
   "codemirror_mode": {
    "name": "ipython",
    "version": 3
   },
   "file_extension": ".py",
   "mimetype": "text/x-python",
   "name": "python",
   "nbconvert_exporter": "python",
   "pygments_lexer": "ipython3",
   "version": "3.7.0"
  }
 },
 "nbformat": 4,
 "nbformat_minor": 2
}
