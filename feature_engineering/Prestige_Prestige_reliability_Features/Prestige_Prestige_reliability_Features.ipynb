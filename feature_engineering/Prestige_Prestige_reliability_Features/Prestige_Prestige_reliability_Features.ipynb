{
 "cells": [
  {
   "cell_type": "markdown",
   "metadata": {},
   "source": [
    "# Description of algorithm"
   ]
  },
  {
   "cell_type": "markdown",
   "metadata": {},
   "source": [
    "### Data preparation"
   ]
  },
  {
   "cell_type": "markdown",
   "metadata": {},
   "source": [
    "Loads data set and filteres out sample that do not have a category_name. Then it replaces each NaN in brand_name column by 'No Brand'."
   ]
  },
  {
   "cell_type": "markdown",
   "metadata": {},
   "source": [
    "### Prestige"
   ]
  },
  {
   "cell_type": "markdown",
   "metadata": {},
   "source": [
    "The algorithm first creates four dictionaries for storing brand occurences (absolute), brand occurences by category, votes and prestigue, where brand names are the keyes and the values are initialised to 0.\n",
    "The algorithm retrieves unique categories from category_name columns and loops through them. For each category, it performs the following:\n",
    "* Loops through all the brands in that category and for every brand it obtains a mean price (across all the items in that category and brand)\n",
    "* Computes median from the brand mean prices\n",
    "* Loops through all the brands in that category again and peforms the following:\n",
    "    * Adds 1 to the brand votes dictionary if the mean for the given brand is more then threshold*median (current treshold is 1.5)\n",
    "    * Adds 1 to the brand occurences by category dict for the given brand\n",
    "\n",
    "Brand prestige is then computed as (number of votes) / (number of occurences by category), where these values are contained in the brand votes and brand occurences dictionaries."
   ]
  },
  {
   "cell_type": "markdown",
   "metadata": {},
   "source": [
    "### Prestige reliability"
   ]
  },
  {
   "cell_type": "markdown",
   "metadata": {},
   "source": [
    "Prestige reliability is number of absolute occurences of a brand divided by maximum number of occurences of any brand (not including 'No Brand')"
   ]
  },
  {
   "cell_type": "markdown",
   "metadata": {},
   "source": [
    "# Settings"
   ]
  },
  {
   "cell_type": "code",
   "execution_count": null,
   "metadata": {},
   "outputs": [],
   "source": [
    "settings = {\n",
    "            'del': True, # Delete variables that are no longer needed to proceed in computations to save place\n",
    "            'filename_str': 'prestige.csv', # File for saving the new dataset\n",
    "           }"
   ]
  },
  {
   "cell_type": "markdown",
   "metadata": {},
   "source": [
    "# Load data set"
   ]
  },
  {
   "cell_type": "code",
   "execution_count": null,
   "metadata": {},
   "outputs": [],
   "source": [
    "import numpy as np\n",
    "import pandas as pd"
   ]
  },
  {
   "cell_type": "code",
   "execution_count": null,
   "metadata": {},
   "outputs": [],
   "source": [
    "PATH = \"../../data/\"\n",
    "data_full = pd.read_csv(f'{PATH}train.tsv', sep='\\t')"
   ]
  },
  {
   "cell_type": "code",
   "execution_count": null,
   "metadata": {},
   "outputs": [],
   "source": [
    "data_full.head()"
   ]
  },
  {
   "cell_type": "markdown",
   "metadata": {},
   "source": [
    "# Filter out samples that does not have category_name"
   ]
  },
  {
   "cell_type": "code",
   "execution_count": null,
   "metadata": {},
   "outputs": [],
   "source": [
    "data_reduced = data_full.loc[data_full['category_name'].notnull()]\n",
    "\n",
    "if (settings['del']):\n",
    "    del data_full"
   ]
  },
  {
   "cell_type": "code",
   "execution_count": null,
   "metadata": {},
   "outputs": [],
   "source": [
    "# double check\n",
    "print(\"%d items have no category_name\" % data_reduced['category_name'].isna().sum())"
   ]
  },
  {
   "cell_type": "markdown",
   "metadata": {},
   "source": [
    "# Replace NaN in brand_name by 'No Brand'"
   ]
  },
  {
   "cell_type": "code",
   "execution_count": null,
   "metadata": {},
   "outputs": [],
   "source": [
    "data_reduced['brand_name'] = data_reduced['brand_name'].fillna('No Brand')"
   ]
  },
  {
   "cell_type": "code",
   "execution_count": null,
   "metadata": {},
   "outputs": [],
   "source": [
    "data_reduced.head()"
   ]
  },
  {
   "cell_type": "code",
   "execution_count": null,
   "metadata": {},
   "outputs": [],
   "source": [
    "unique_cns = data_reduced.category_name.unique() # array of unique category names\n",
    "unique_brands = data_reduced.brand_name.unique() # array of unique brand names"
   ]
  },
  {
   "cell_type": "markdown",
   "metadata": {},
   "source": [
    "# Generate dictionaries with brand occurences, votes and prestige"
   ]
  },
  {
   "cell_type": "code",
   "execution_count": null,
   "metadata": {},
   "outputs": [],
   "source": [
    "# every time a brand occurs in a given category,its cat occurance will be increased by one (loops through categories)\n",
    "brand_occurences_cat = dict(zip(unique_brands, len(unique_brands)*[0])) # {brand_name: occurence}\n",
    "\n",
    "# every time a brand occurs, its occurence will be increased by 1\n",
    "brand_occurences = dict(zip(unique_brands, len(unique_brands)*[0])) # {brand_name: occurence}\n",
    "\n",
    "# every time a brand is determined as prestigious, increase its vote by one, otherwise don't do anything\n",
    "brand_votes = dict(zip(unique_brands, len(unique_brands)*[0])) # {brand_name: vote}, initialised to zeros\n",
    "\n",
    "brand_prestige = {} # {brand_name: prestigue} will hold prestigue for every brand, where prestigue is number of votes divided by number of occurences\n",
    "\n",
    "from tqdm import tqdm_notebook\n",
    "for cat_name in tqdm_notebook(unique_cns): # iterate through all categories\n",
    "    \n",
    "    data_filtered_cn = data_reduced.loc[data_reduced.category_name == cat_name] # get data subset for the given category\n",
    "    brands = data_filtered_cn.brand_name.unique() # array of unique brand names for the given category\n",
    "    \n",
    "    # Get mean for each brand in the given category\n",
    "    brand_means = {} # {brand_name: mean} dictionary to store mean price for every brand in the given category\n",
    "    for b in brands:\n",
    "        data_brand = data_filtered_cn.loc[data_filtered_cn['brand_name'] == b] # data frame containing only one specific brand for one category\n",
    "        brand_means[b] = data_brand.price.mean()\n",
    "        brand_occurences[b] = brand_occurences[b] + len(data_brand)\n",
    "    \n",
    "    # Increase vote by 1 for presitgious brands, otherwise keep current vote\n",
    "    \n",
    "    def vote(val, treshold):\n",
    "        if (val >= treshold):\n",
    "            return 1\n",
    "        return 0\n",
    "    \n",
    "    treshold = 1.5 * np.median(list(brand_means.values())) # 1.5 * (median of the brands means)\n",
    "    \n",
    "    for brand in brands:\n",
    "        # vote\n",
    "        votes_so_far = brand_votes[brand]\n",
    "        new_vote = vote(brand_means[brand], treshold)\n",
    "        brand_votes[brand] = votes_so_far + new_vote\n",
    "        \n",
    "        # add occurence for category\n",
    "        brand_occurences_cat[brand] = brand_occurences_cat[brand] + 1\n",
    "    \n",
    "for brand in unique_brands:\n",
    "    brand_prestige[brand] = brand_votes[brand] / brand_occurences_cat[brand]\n",
    "    "
   ]
  },
  {
   "cell_type": "code",
   "execution_count": null,
   "metadata": {},
   "outputs": [],
   "source": [
    "# brand_votes"
   ]
  },
  {
   "cell_type": "code",
   "execution_count": null,
   "metadata": {},
   "outputs": [],
   "source": [
    "# brand_occurences"
   ]
  },
  {
   "cell_type": "code",
   "execution_count": null,
   "metadata": {},
   "outputs": [],
   "source": [
    "# brand_prestige"
   ]
  },
  {
   "cell_type": "markdown",
   "metadata": {},
   "source": [
    "# Parse the dictionaries into DataFrame"
   ]
  },
  {
   "cell_type": "code",
   "execution_count": null,
   "metadata": {},
   "outputs": [],
   "source": [
    "# parse votes, occurences and prestige dictionaries for pandas\n",
    "\n",
    "parsed_brands = {'brand_name': [], 'votes':[], 'occurences':[], 'prestige':[], 'prestige_reliability': []}\n",
    "\n",
    "# get number of occurences for the second most occurent brand (the first one is going to be 'No Brand'\n",
    "# with radically large number)\n",
    "brand_occurences_vals = list(brand_occurences.values())\n",
    "brand_occurences_vals.sort(reverse=True)\n",
    "max_occurence = brand_occurences_vals[1]\n",
    "\n",
    "for brand in unique_brands:\n",
    "    parsed_brands['brand_name'].append(brand)\n",
    "    parsed_brands['votes'].append(brand_votes[brand])\n",
    "    parsed_brands['occurences'].append(brand_occurences[brand])\n",
    "    parsed_brands['prestige'].append(brand_prestige[brand])\n",
    "    parsed_brands['prestige_reliability'].append(brand_occurences[brand] / max_occurence) # it is scaled occurence"
   ]
  },
  {
   "cell_type": "code",
   "execution_count": null,
   "metadata": {},
   "outputs": [],
   "source": [
    "prestige_df = pd.DataFrame.from_dict(parsed_brands)"
   ]
  },
  {
   "cell_type": "markdown",
   "metadata": {},
   "source": [
    "## Set prestige_reliability for 'No Brand' to 1 (otherwise its value is too large because scaling was done using the most occurent brand that is not 'No Brand')"
   ]
  },
  {
   "cell_type": "code",
   "execution_count": null,
   "metadata": {},
   "outputs": [],
   "source": [
    "no_brand_index = prestige_df.loc[prestige_df['brand_name'] == 'No Brand'].index\n",
    "prestige_df.at[no_brand_index, 'prestige_reliability'] = 1"
   ]
  },
  {
   "cell_type": "code",
   "execution_count": null,
   "metadata": {},
   "outputs": [],
   "source": [
    "prestige_df.head()"
   ]
  },
  {
   "cell_type": "markdown",
   "metadata": {},
   "source": [
    "# Insert prestige and prestige_reliability columns to the data_reduced DataFrame (parses the prestige_df DataFrame)"
   ]
  },
  {
   "cell_type": "code",
   "execution_count": null,
   "metadata": {},
   "outputs": [],
   "source": [
    "data_reduced.insert(loc=len(data_reduced.columns), column='prestige', value=np.nan)\n",
    "data_reduced.insert(loc=len(data_reduced.columns), column='prestige_reliability', value=np.nan)\n",
    "for index, row in tqdm_notebook(data_reduced.iterrows()):\n",
    "    brand_info = prestige_df.loc[prestige_df['brand_name'] == row['brand_name']]\n",
    "    data_reduced.at[index, 'prestige'] = brand_info['prestige']\n",
    "    data_reduced.at[index, 'prestige_reliability'] = brand_info['prestige_reliability']"
   ]
  },
  {
   "cell_type": "code",
   "execution_count": null,
   "metadata": {},
   "outputs": [],
   "source": [
    "data_reduced.to_csv(settings['filename_str'])\n",
    "print(\"Data saved to:\", settings['filename_str'])"
   ]
  }
 ],
 "metadata": {
  "kernelspec": {
   "display_name": "Python 3",
   "language": "python",
   "name": "python3"
  },
  "language_info": {
   "codemirror_mode": {
    "name": "ipython",
    "version": 3
   },
   "file_extension": ".py",
   "mimetype": "text/x-python",
   "name": "python",
   "nbconvert_exporter": "python",
   "pygments_lexer": "ipython3",
   "version": "3.7.0"
  }
 },
 "nbformat": 4,
 "nbformat_minor": 2
}
