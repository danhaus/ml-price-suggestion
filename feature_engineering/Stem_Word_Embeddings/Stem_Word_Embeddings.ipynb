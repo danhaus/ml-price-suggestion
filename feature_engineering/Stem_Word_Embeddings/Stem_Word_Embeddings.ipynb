{
 "cells": [
  {
   "cell_type": "code",
   "execution_count": 1,
   "metadata": {},
   "outputs": [],
   "source": [
    "from nltk.stem import PorterStemmer\n",
    "import sys\n",
    "\n",
    "filename_in = 'glove.840B.300d.txt'\n",
    "filename_out = 'stemmed_glove.840B.300d.txt'\n",
    "\n",
    "ps = PorterStemmer()\n",
    "voc = set()\n",
    "num_lines = sum(1 for line in open(filename_in))"
   ]
  },
  {
   "cell_type": "code",
   "execution_count": 2,
   "metadata": {},
   "outputs": [],
   "source": [
    "model_orig = open(filename_in, 'r')\n",
    "model_stemmed = open(filename_out, 'a')"
   ]
  },
  {
   "cell_type": "code",
   "execution_count": 3,
   "metadata": {},
   "outputs": [
    {
     "name": "stdout",
     "output_type": "stream",
     "text": [
      "Progress: 99%"
     ]
    }
   ],
   "source": [
    "line_n = 0\n",
    "one_percent = int(num_lines / 100)\n",
    "for line in model_orig:\n",
    "    \n",
    "    line_n += 1\n",
    "    if (line_n % one_percent == 0):\n",
    "        sys.stdout.write('\\r'+\"Progress: {}%\".format(int( (line_n * 100) / num_lines )))\n",
    "    \n",
    "    line_split = line.split()\n",
    "    word, vector = line_split[0], line_split[1:]\n",
    "    stemmed_word = ps.stem(word)\n",
    "    if stemmed_word not in voc:\n",
    "        voc.add(stemmed_word)\n",
    "        line_to_write = ' '.join([stemmed_word] + vector) + '\\n'\n",
    "        model_stemmed.write(line_to_write)\n",
    "model_stemmed.close()\n",
    "model_orig.close()"
   ]
  },
  {
   "cell_type": "code",
   "execution_count": 4,
   "metadata": {},
   "outputs": [
    {
     "name": "stdout",
     "output_type": "stream",
     "text": [
      "Reduced the size of the file by 31.224667204306712%\n"
     ]
    }
   ],
   "source": [
    "num_lines_out = sum(1 for line in open(filename_out))\n",
    "print(\"Reduced the size of the file by {}%\".format( (1 - num_lines_out/num_lines) * 100 ))"
   ]
  },
  {
   "cell_type": "markdown",
   "metadata": {},
   "source": [
    "### Convert GloVe into word2vec"
   ]
  },
  {
   "cell_type": "code",
   "execution_count": 5,
   "metadata": {},
   "outputs": [
    {
     "data": {
      "text/plain": [
       "(1510318, 300)"
      ]
     },
     "execution_count": 5,
     "metadata": {},
     "output_type": "execute_result"
    }
   ],
   "source": [
    "from gensim.scripts.glove2word2vec import glove2word2vec\n",
    "glove_input_file = 'stemmed_glove.840B.300d.txt'\n",
    "word2vec_output_file = 'stemmed_glove.840B.300d.txt.word2vec'\n",
    "glove2word2vec(glove_input_file, word2vec_output_file)"
   ]
  },
  {
   "cell_type": "code",
   "execution_count": null,
   "metadata": {},
   "outputs": [],
   "source": []
  }
 ],
 "metadata": {
  "kernelspec": {
   "display_name": "Python 3",
   "language": "python",
   "name": "python3"
  },
  "language_info": {
   "codemirror_mode": {
    "name": "ipython",
    "version": 3
   },
   "file_extension": ".py",
   "mimetype": "text/x-python",
   "name": "python",
   "nbconvert_exporter": "python",
   "pygments_lexer": "ipython3",
   "version": "3.7.0"
  }
 },
 "nbformat": 4,
 "nbformat_minor": 2
}
