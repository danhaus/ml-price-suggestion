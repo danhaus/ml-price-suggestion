{
 "cells": [
  {
   "cell_type": "code",
   "execution_count": 1,
   "metadata": {},
   "outputs": [
    {
     "name": "stdout",
     "output_type": "stream",
     "text": [
      "Following functions has been loaded:\n",
      "\n",
      "replace_nan\n",
      "rmse\n",
      "extract_n_random_cats\n",
      "tokenize\n",
      "\n"
     ]
    }
   ],
   "source": [
    "import numpy as np\n",
    "import pandas as pd\n",
    "# import spacy\n",
    "# nlp = spacy.load('en_core_web_sm')\n",
    "from collections import OrderedDict\n",
    "from tqdm import tqdm_notebook\n",
    "\n",
    "import sys\n",
    "sys.path.append(\"../../lib\") # Adds higher directory to python modules path.\n",
    "import helper_functions as hf\n",
    "import language_processing as lp\n",
    "import feature_extraction as fe"
   ]
  },
  {
   "cell_type": "code",
   "execution_count": 2,
   "metadata": {},
   "outputs": [],
   "source": [
    "PATH = \"../../data/\"\n",
    "data_full = pd.read_csv(f'{PATH}train.tsv', sep='\\t')"
   ]
  },
  {
   "cell_type": "markdown",
   "metadata": {},
   "source": [
    "## Replace NaN"
   ]
  },
  {
   "cell_type": "code",
   "execution_count": 3,
   "metadata": {},
   "outputs": [],
   "source": [
    "data_full = hf.replace_nan(data_full)"
   ]
  },
  {
   "cell_type": "code",
   "execution_count": 4,
   "metadata": {},
   "outputs": [
    {
     "data": {
      "text/html": [
       "<div>\n",
       "<style scoped>\n",
       "    .dataframe tbody tr th:only-of-type {\n",
       "        vertical-align: middle;\n",
       "    }\n",
       "\n",
       "    .dataframe tbody tr th {\n",
       "        vertical-align: top;\n",
       "    }\n",
       "\n",
       "    .dataframe thead th {\n",
       "        text-align: right;\n",
       "    }\n",
       "</style>\n",
       "<table border=\"1\" class=\"dataframe\">\n",
       "  <thead>\n",
       "    <tr style=\"text-align: right;\">\n",
       "      <th></th>\n",
       "      <th>train_id</th>\n",
       "      <th>name</th>\n",
       "      <th>item_condition_id</th>\n",
       "      <th>category_name</th>\n",
       "      <th>brand_name</th>\n",
       "      <th>price</th>\n",
       "      <th>shipping</th>\n",
       "      <th>item_description</th>\n",
       "    </tr>\n",
       "  </thead>\n",
       "  <tbody>\n",
       "    <tr>\n",
       "      <th>0</th>\n",
       "      <td>0</td>\n",
       "      <td>MLB Cincinnati Reds T Shirt Size XL</td>\n",
       "      <td>3</td>\n",
       "      <td>Men/Tops/T-shirts</td>\n",
       "      <td>No Brand</td>\n",
       "      <td>10.0</td>\n",
       "      <td>1</td>\n",
       "      <td>No description yet</td>\n",
       "    </tr>\n",
       "    <tr>\n",
       "      <th>1</th>\n",
       "      <td>1</td>\n",
       "      <td>Razer BlackWidow Chroma Keyboard</td>\n",
       "      <td>3</td>\n",
       "      <td>Electronics/Computers &amp; Tablets/Components &amp; P...</td>\n",
       "      <td>Razer</td>\n",
       "      <td>52.0</td>\n",
       "      <td>0</td>\n",
       "      <td>This keyboard is in great condition and works ...</td>\n",
       "    </tr>\n",
       "    <tr>\n",
       "      <th>2</th>\n",
       "      <td>2</td>\n",
       "      <td>AVA-VIV Blouse</td>\n",
       "      <td>1</td>\n",
       "      <td>Women/Tops &amp; Blouses/Blouse</td>\n",
       "      <td>Target</td>\n",
       "      <td>10.0</td>\n",
       "      <td>1</td>\n",
       "      <td>Adorable top with a hint of lace and a key hol...</td>\n",
       "    </tr>\n",
       "    <tr>\n",
       "      <th>3</th>\n",
       "      <td>3</td>\n",
       "      <td>Leather Horse Statues</td>\n",
       "      <td>1</td>\n",
       "      <td>Home/Home Décor/Home Décor Accents</td>\n",
       "      <td>No Brand</td>\n",
       "      <td>35.0</td>\n",
       "      <td>1</td>\n",
       "      <td>New with tags. Leather horses. Retail for [rm]...</td>\n",
       "    </tr>\n",
       "    <tr>\n",
       "      <th>4</th>\n",
       "      <td>4</td>\n",
       "      <td>24K GOLD plated rose</td>\n",
       "      <td>1</td>\n",
       "      <td>Women/Jewelry/Necklaces</td>\n",
       "      <td>No Brand</td>\n",
       "      <td>44.0</td>\n",
       "      <td>0</td>\n",
       "      <td>Complete with certificate of authenticity</td>\n",
       "    </tr>\n",
       "  </tbody>\n",
       "</table>\n",
       "</div>"
      ],
      "text/plain": [
       "   train_id                                 name  item_condition_id  \\\n",
       "0         0  MLB Cincinnati Reds T Shirt Size XL                  3   \n",
       "1         1     Razer BlackWidow Chroma Keyboard                  3   \n",
       "2         2                       AVA-VIV Blouse                  1   \n",
       "3         3                Leather Horse Statues                  1   \n",
       "4         4                 24K GOLD plated rose                  1   \n",
       "\n",
       "                                       category_name brand_name  price  \\\n",
       "0                                  Men/Tops/T-shirts   No Brand   10.0   \n",
       "1  Electronics/Computers & Tablets/Components & P...      Razer   52.0   \n",
       "2                        Women/Tops & Blouses/Blouse     Target   10.0   \n",
       "3                 Home/Home Décor/Home Décor Accents   No Brand   35.0   \n",
       "4                            Women/Jewelry/Necklaces   No Brand   44.0   \n",
       "\n",
       "   shipping                                   item_description  \n",
       "0         1                                 No description yet  \n",
       "1         0  This keyboard is in great condition and works ...  \n",
       "2         1  Adorable top with a hint of lace and a key hol...  \n",
       "3         1  New with tags. Leather horses. Retail for [rm]...  \n",
       "4         0          Complete with certificate of authenticity  "
      ]
     },
     "execution_count": 4,
     "metadata": {},
     "output_type": "execute_result"
    }
   ],
   "source": [
    "data_full.head()"
   ]
  },
  {
   "cell_type": "markdown",
   "metadata": {},
   "source": [
    "## Select randomly N categories"
   ]
  },
  {
   "cell_type": "code",
   "execution_count": 5,
   "metadata": {},
   "outputs": [],
   "source": [
    "data_10_cats = hf.extract_n_random_cats(data_full, 10, random_seed=27)"
   ]
  },
  {
   "cell_type": "code",
   "execution_count": 6,
   "metadata": {},
   "outputs": [
    {
     "name": "stdout",
     "output_type": "stream",
     "text": [
      "8648\titems in\tWomen/Underwear/Panties\n",
      "756\titems in\tMen/Jeans/Boot Cut\n",
      "5325\titems in\tWomen/Women's Accessories/Hair Accessories\n",
      "2152\titems in\tElectronics/Cell Phones & Accessories/Screen Protectors\n",
      "146\titems in\tHome/Bedding/Quilts\n",
      "313\titems in\tHome/Storage & Organization/Racks, Shelves & Drawers\n",
      "44\titems in\tHandmade/Others/Other\n",
      "6\titems in\tHandmade/Children/Other\n",
      "3\titems in\tVintage & Collectibles/Serving/Butter Dish\n",
      "1\titems in\tHandmade/Accessories/Mirror\n"
     ]
    }
   ],
   "source": [
    "extracted_cats = data_10_cats.category_name.unique()\n",
    "for cat in extracted_cats:\n",
    "    print('{}\\titems in\\t{}'.format(len(data_10_cats.loc[data_10_cats.category_name == cat]), cat))"
   ]
  },
  {
   "cell_type": "code",
   "execution_count": null,
   "metadata": {},
   "outputs": [],
   "source": []
  },
  {
   "cell_type": "code",
   "execution_count": null,
   "metadata": {},
   "outputs": [],
   "source": []
  },
  {
   "cell_type": "markdown",
   "metadata": {},
   "source": [
    "# For now, work with just one category"
   ]
  },
  {
   "cell_type": "code",
   "execution_count": 7,
   "metadata": {},
   "outputs": [],
   "source": [
    "cat_df = data_10_cats.loc[data_10_cats.category_name == 'Electronics/Cell Phones & Accessories/Screen Protectors']\n",
    "# cat_df = data_10_cats.loc[data_10_cats.category_name == 'Women/Underwear/Panties']"
   ]
  },
  {
   "cell_type": "code",
   "execution_count": 8,
   "metadata": {},
   "outputs": [
    {
     "data": {
      "text/html": [
       "<div>\n",
       "<style scoped>\n",
       "    .dataframe tbody tr th:only-of-type {\n",
       "        vertical-align: middle;\n",
       "    }\n",
       "\n",
       "    .dataframe tbody tr th {\n",
       "        vertical-align: top;\n",
       "    }\n",
       "\n",
       "    .dataframe thead th {\n",
       "        text-align: right;\n",
       "    }\n",
       "</style>\n",
       "<table border=\"1\" class=\"dataframe\">\n",
       "  <thead>\n",
       "    <tr style=\"text-align: right;\">\n",
       "      <th></th>\n",
       "      <th>train_id</th>\n",
       "      <th>name</th>\n",
       "      <th>item_condition_id</th>\n",
       "      <th>category_name</th>\n",
       "      <th>brand_name</th>\n",
       "      <th>price</th>\n",
       "      <th>shipping</th>\n",
       "      <th>item_description</th>\n",
       "    </tr>\n",
       "  </thead>\n",
       "  <tbody>\n",
       "    <tr>\n",
       "      <th>1063</th>\n",
       "      <td>1063</td>\n",
       "      <td>Tempered glass screen protectors</td>\n",
       "      <td>1</td>\n",
       "      <td>Electronics/Cell Phones &amp; Accessories/Screen P...</td>\n",
       "      <td>No Brand</td>\n",
       "      <td>6.0</td>\n",
       "      <td>1</td>\n",
       "      <td>New, (3) iPhone 6-6s tempered glass screen pro...</td>\n",
       "    </tr>\n",
       "    <tr>\n",
       "      <th>2480</th>\n",
       "      <td>2480</td>\n",
       "      <td>iPhone 6/6s/7 tempered glass</td>\n",
       "      <td>1</td>\n",
       "      <td>Electronics/Cell Phones &amp; Accessories/Screen P...</td>\n",
       "      <td>No Brand</td>\n",
       "      <td>7.0</td>\n",
       "      <td>1</td>\n",
       "      <td>Brand new free shipping You will get 2 tempere...</td>\n",
       "    </tr>\n",
       "    <tr>\n",
       "      <th>2486</th>\n",
       "      <td>2486</td>\n",
       "      <td>Galaxy S6 Edge Invisible Shield</td>\n",
       "      <td>1</td>\n",
       "      <td>Electronics/Cell Phones &amp; Accessories/Screen P...</td>\n",
       "      <td>No Brand</td>\n",
       "      <td>5.0</td>\n",
       "      <td>1</td>\n",
       "      <td>INVISIBLE SHIELD for Samsung Galaxy S 6 Edge. ...</td>\n",
       "    </tr>\n",
       "    <tr>\n",
       "      <th>2505</th>\n",
       "      <td>2505</td>\n",
       "      <td>Tempered Glass for iPhone 7</td>\n",
       "      <td>1</td>\n",
       "      <td>Electronics/Cell Phones &amp; Accessories/Screen P...</td>\n",
       "      <td>Apple</td>\n",
       "      <td>6.0</td>\n",
       "      <td>1</td>\n",
       "      <td>The screen protector is made of specially proc...</td>\n",
       "    </tr>\n",
       "    <tr>\n",
       "      <th>3500</th>\n",
       "      <td>3500</td>\n",
       "      <td>iPhone 7 plus screen protector glass</td>\n",
       "      <td>1</td>\n",
       "      <td>Electronics/Cell Phones &amp; Accessories/Screen P...</td>\n",
       "      <td>Apple</td>\n",
       "      <td>8.0</td>\n",
       "      <td>1</td>\n",
       "      <td>•TEMPERED GLASS SCREEN PROTECTOR PRIVACY• Avai...</td>\n",
       "    </tr>\n",
       "  </tbody>\n",
       "</table>\n",
       "</div>"
      ],
      "text/plain": [
       "      train_id                                  name  item_condition_id  \\\n",
       "1063      1063      Tempered glass screen protectors                  1   \n",
       "2480      2480          iPhone 6/6s/7 tempered glass                  1   \n",
       "2486      2486       Galaxy S6 Edge Invisible Shield                  1   \n",
       "2505      2505           Tempered Glass for iPhone 7                  1   \n",
       "3500      3500  iPhone 7 plus screen protector glass                  1   \n",
       "\n",
       "                                          category_name brand_name  price  \\\n",
       "1063  Electronics/Cell Phones & Accessories/Screen P...   No Brand    6.0   \n",
       "2480  Electronics/Cell Phones & Accessories/Screen P...   No Brand    7.0   \n",
       "2486  Electronics/Cell Phones & Accessories/Screen P...   No Brand    5.0   \n",
       "2505  Electronics/Cell Phones & Accessories/Screen P...      Apple    6.0   \n",
       "3500  Electronics/Cell Phones & Accessories/Screen P...      Apple    8.0   \n",
       "\n",
       "      shipping                                   item_description  \n",
       "1063         1  New, (3) iPhone 6-6s tempered glass screen pro...  \n",
       "2480         1  Brand new free shipping You will get 2 tempere...  \n",
       "2486         1  INVISIBLE SHIELD for Samsung Galaxy S 6 Edge. ...  \n",
       "2505         1  The screen protector is made of specially proc...  \n",
       "3500         1  •TEMPERED GLASS SCREEN PROTECTOR PRIVACY• Avai...  "
      ]
     },
     "execution_count": 8,
     "metadata": {},
     "output_type": "execute_result"
    }
   ],
   "source": [
    "cat_df.head()"
   ]
  },
  {
   "cell_type": "markdown",
   "metadata": {},
   "source": [
    "### Extract labels"
   ]
  },
  {
   "cell_type": "code",
   "execution_count": 9,
   "metadata": {},
   "outputs": [],
   "source": [
    "import price_classifier\n",
    "# from importlib import reload\n",
    "# reload(price_classifier)"
   ]
  },
  {
   "cell_type": "code",
   "execution_count": 10,
   "metadata": {},
   "outputs": [],
   "source": [
    "pc = price_classifier.PriceClassifier(cat_df, 5)\n",
    "y = pc.extract(cat_df)"
   ]
  },
  {
   "cell_type": "code",
   "execution_count": 11,
   "metadata": {},
   "outputs": [
    {
     "data": {
      "text/plain": [
       "1063     6.0-8.0\n",
       "2480     6.0-8.0\n",
       "2486     5.0-6.0\n",
       "2505     6.0-8.0\n",
       "3500    8.0-10.0\n",
       "dtype: object"
      ]
     },
     "execution_count": 11,
     "metadata": {},
     "output_type": "execute_result"
    }
   ],
   "source": [
    "y.head()"
   ]
  },
  {
   "cell_type": "markdown",
   "metadata": {},
   "source": [
    "### Train & Test split"
   ]
  },
  {
   "cell_type": "code",
   "execution_count": 12,
   "metadata": {},
   "outputs": [],
   "source": [
    "from sklearn.model_selection import train_test_split\n",
    "\n",
    "df_train, df_test, y_train, y_test = train_test_split(cat_df, y, test_size=0.25, random_state=42)"
   ]
  },
  {
   "cell_type": "markdown",
   "metadata": {},
   "source": [
    "### Convert GloVe into word2vec"
   ]
  },
  {
   "cell_type": "code",
   "execution_count": 13,
   "metadata": {},
   "outputs": [],
   "source": [
    "# from gensim.scripts.glove2word2vec import glove2word2vec\n",
    "# glove_input_file = f'{PATH}glove.6B/glove.6B.300d.txt'\n",
    "# word2vec_output_file = f'{PATH}glove.6B/glove.6B.300d.txt.word2vec'\n",
    "# glove2word2vec(glove_input_file, word2vec_output_file)"
   ]
  },
  {
   "cell_type": "markdown",
   "metadata": {},
   "source": [
    "### Load the word2vec model"
   ]
  },
  {
   "cell_type": "code",
   "execution_count": 14,
   "metadata": {},
   "outputs": [],
   "source": [
    "from gensim.models import KeyedVectors\n",
    "\n",
    "# UNCOMMENT ONE OF THE FOLLOWING\n",
    "\n",
    "# filename = f'{PATH}glove/glove.6B.100d.txt.word2vec' # GloVe Wikipedia + Gigaword\n",
    "# model = KeyedVectors.load_word2vec_format(filename, binary=False)\n",
    "\n",
    "filename = f'{PATH}glove/glove.6B.300d.txt.word2vec' # GloVe Wikipedia + Gigaword\n",
    "model = KeyedVectors.load_word2vec_format(filename, binary=False)\n",
    "\n",
    "\n",
    "# filename = f'{PATH}google/GoogleNews-vectors-negative300.bin'# Google News\n",
    "# model = KeyedVectors.load_word2vec_format(filename, binary=True)"
   ]
  },
  {
   "cell_type": "markdown",
   "metadata": {},
   "source": [
    "### Exctract features"
   ]
  },
  {
   "cell_type": "code",
   "execution_count": 15,
   "metadata": {},
   "outputs": [],
   "source": [
    "pipe = fe.Pipeline(steps=[('base', fe.BaseFeatureExtractor()),\n",
    "                          ('word2vec_item_description', lp.MeanEmbeddingVectorizer(model, df_train, 'item_description')),\n",
    "                          ('word2vec_tokens_name', lp.MeanEmbeddingVectorizer(model, df_train, 'name')),\n",
    "#                           ('stemmed_tokens_item_description', lp.CountVectorizer(df_train, 'item_description', stem=True, normalize=True)),\n",
    "#                           ('stemmed_tokens_name', lp.CountVectorizer(df_train, 'name', stem=True, normalize=True))\n",
    "                         ])"
   ]
  },
  {
   "cell_type": "code",
   "execution_count": 16,
   "metadata": {},
   "outputs": [
    {
     "name": "stdout",
     "output_type": "stream",
     "text": [
      "Extracting features for the training set...\n",
      "Done\n",
      "Extracting features for the test set...\n",
      "Done\n"
     ]
    }
   ],
   "source": [
    "print(\"Extracting features for the training set...\")\n",
    "X_train = pipe.extract_features(df_train)\n",
    "print(\"Done\")\n",
    "print(\"Extracting features for the test set...\")\n",
    "X_test = pipe.extract_features(df_test)\n",
    "print(\"Done\")"
   ]
  },
  {
   "cell_type": "markdown",
   "metadata": {},
   "source": [
    "### Analysis on word embeddings (item_description)"
   ]
  },
  {
   "cell_type": "code",
   "execution_count": 17,
   "metadata": {},
   "outputs": [],
   "source": [
    "voc_set_model = pipe.named_steps['word2vec_item_description'].voc_set_model\n",
    "voc_set_df_train = pipe.named_steps['word2vec_item_description'].voc_set_df_train\n",
    "voc_set_intersect = pipe.named_steps['word2vec_item_description'].voc_set_intersect"
   ]
  },
  {
   "cell_type": "code",
   "execution_count": 18,
   "metadata": {},
   "outputs": [
    {
     "name": "stdout",
     "output_type": "stream",
     "text": [
      "Size of model vocabulary: 400000\n",
      "Size of df_train vocabulary: 1931\n",
      "Size of intersect vocabulary: 1513\n"
     ]
    }
   ],
   "source": [
    "print(\"Size of model vocabulary: {}\".format(len(voc_set_model)))\n",
    "print(\"Size of df_train vocabulary: {}\".format(len(voc_set_df_train)))\n",
    "print(\"Size of intersect vocabulary: {}\".format(len(voc_set_intersect)))"
   ]
  },
  {
   "cell_type": "code",
   "execution_count": 19,
   "metadata": {},
   "outputs": [
    {
     "name": "stdout",
     "output_type": "stream",
     "text": [
      "Intersect vocabulary: {'al', 's6', 'holidays', 'work', 'portable', 'miss', 'color', 'mailer', 'upgraded', 'perfectly', 'amazing', 'specifications', 'phones', '4.7', 'come', 'texture', 'within', 'stickers', 'mobile', 'mesh', 'high', 'lowest', 'good', 'destroying', 'assurance', 'shield', 'feet', 'curve', 'ship', 'allow', 'prints', 'fingerprint', '6p', 'nature', 'stick', 'filter', 'features', 'business', 'walgreens', 'sharp', 'therefore', '35', 'technical', 'after', 'purchased', 'upgrading', 'tracking', 'corners', 'questions', 'days', 'whole', 'users', 'bumps', 'trim', 'see', '–', 'maxx', '3-d', 'becasue', 'hdx', 'touch', 'proof', 'slide', 'protective', 'grease', 'layer', 'added', 'contour', 'slim', 'southern', 'all', 'kama', 'films', 'temper', 'lower', 'yet', 'durability', 'toughest', 'panes', 'luxe', 'special', 'except', 'instead', 'accidentally', 'enjoyable', 'processing', '“', 'satin', 'clarity', '12.9', 'cellphone', 'was', 'mm', 'solid', 'awesome', 'other', 'your', 'hey', 'effective', 'putting', 'received', 'shatterproof', '.3', 'getting', 'ios', 'per', 'hrs', 'instant', 'economy', 'explosion', 'mind', '2-3-4', 'panti', 'one', 'complements', 'packaged', 'screens', '1.', 'today', 'last', '2.7', '***', 'been', 'yours', 'resists', 'snow', 'appearance', 'pushing', 'tpu', 'glide', 'micro', 'considering', 'prevent', 'typical', 'black', 'ice', 'detachable', 'sizes', 'beautiful', 'unsure', 'which', '5.9', 'off', 'generation', 'item', 'contoured', 'not', '7/7', 'electronic', \"'d\", 'satisfy', 'significantly', 'stock', 'tracked', 'attention', 'complementary', 'removing', 'g3', 'ballistic', 'leaving', 'self-healing', 'absorber', 'just', 'holder', 'will', 'crafted', 'fenix', 'super-strong', 'small', 'realized', 'covers', 'outer', 'sorry', 's8', ';', 't-mobile', 'point', 'tag', 'offer', 'thank', 'smudges', 'firmly', 'pry', 'ask', 'husbands', 'ensuring', 'stylo', 'premium', 'align', 'a', 'layers', 'full', 'direct', 'prior', 'secondary', 'freely', 'are', '42', 'cutout', 'want', 'wrong', 'prevents', 'big', 'fingers', 'blaze', 'wear', 'zero', 'darken', 'af', 'either', 'message', 'out', 'website', 'rainy', 'bundle', 'keeps', 'tool', 'have', 'iphone', 'broken', 'hours', 'packaging', 'personally', 'cloth', 'size', 'making', 'charger', 'through', 'guards', 'sets', 'absorbent', 'frustration', 'coating', 'of', 'know', 'zmax', 'cat', 'if', 'responsibility', 'behalf', 'self-adhesive', 'beveled', 'replacements', 'privacy', 'while', 'delivery', 'still', 'using', 'gain', 'average', 'things', 'iq', '-', 'green', 'perfect', 'advantage', 'spot', 'photo', 'suction', 'built-in', 'read', 'deal', 'several', 'stay', 'install', 'wish', 'materials', '-5', 'us', 'responsiveness', 'ailun', 'dsi', 'moto', 'assumes', 'add', 'much', 'list', 'numbers', 'tested', 'is', 'different', 'reduce', 'coupled', 'ages', 'j5', 'love', 'hardness', 'priced', 'picture', 'obstruct', 'selling', 'fastest', 'long-lasting', 'ensures', 'spray', '3-4', 'because', 'nanostructured', 'loss', '3.', 'specification', 'going', 'cell', 'uv', 'responsible', 'gets', 'jayla', 'bulk', '$', 'armor', 'htc', '10', 'alcohol', 'reduces', ',', 'firm', 'imported', 'into', 'retail', 'time', 'items', 'crystal', 'sticks', 'disappear', 'yellow', 'unused', 'obstructing', 'delivered', 'ordered', 'expect', 'tags', 'each', 'made', '0.33', 'exactly', 'clean', 'happens', 'retails', '{', 'j7', 'repels', 'designed', 'process', 'remains', 'down', 'guardian', 'cover', 'forgot', 'tips', '|', 'use', 'agc', 'sale', 'providing', 'z4', 'viewing', 'there', 'cables', 'pink', 'installed', 'anti', 'so', 'transparent', 'stores', 'best', 'tough', 'premier', '+', 'satisfaction', 'deliver', 'w', 'numerical', 'less', 'thanks', '2x', 'listings', 'really', 'trusted', 'created', 'portion', 'stain', 'brown', 'excluding', 'notice', 'edge', 'computer', 'creates', 'lighting', 'provided', 'scrapes', 'x', 'original', 'snap', 'fire', '25g', 'easy', 'everything', 'rid', 'shock', 'worry', '**', 'same', 'interfere', 'listing', 'm8', 'glass-like', 'now', 'individual', 'finished', 'cuts', 'this', 'swab', 'visibility', 'drop', 'extra', 'upon', 'quick', 'plastic', 'pet', 'buying', 'proper', 'else', 'alpha', 'comfortably', 'give', 'waste', 'stuff', 'deleted', 'maintaining', '2.5', 'devices', 'seamlessly', 'damaged', '3rd', 'cases', 'details', 'returned', 'laser', 'dents', 'red', 'piece', 'daily', 'open', 'went', 'product', 'history', 'by', 'take', 'flawless', 'function', 'capacitive', 'updated', 'protectors', 'display', 'peek', 'ended', 'ultra', \"''\", 'external', 'm4', 'feature', 'up', 'security', 'even', 'had', 'low-carbon', 'ton', 'usability', 'supplies', 'rating', 'please', 'tee', 'keeping', 'question', 'comes', 'plz', '2-7', 'alcatel', '30', 'usb', 'sensors', 'polymer', 'thermoplastic', 'optically', 'hq', '24', 'usps', '8h', 'control', 'but', 'break', 'smoke-free', 'stylus', 'for', 'save', '6s', 'lcd', 'applied', 'ultimate', 'touch-screen', 'battery', 'pay', 'air', 'sunday', 'clearance', '45', 'eat', '5s', 'return', 'insuring', 'turn', 'undesired', 'entire', 'utilizes', 'applicant', 'warranty', 'information', 'halo', 'home', 'shipped', 'fingerprints', 'private', 'resistance', 'condition', 'arrived', '3h', 'as', 'separate', 'hk', 'inc', 'high-quality', 'personal', 'glasses', 'physical', 'leaves', '13', 'correct', 'juice', '*', 'accounts', 'astm', 'does', '360', 'follow', 'gift', 'units', 'error-free', 'merges', 'kit', 'normal', 'shipping', 'hybrid', 'electrostatic', '20', 'specifically', 'shockproof', 'pcs', 's5', 'number', 'shocks', 'preserve', 'update', 'times', 'description', 'actual', 'application', 'thankyou', 'strong', 'clot', 'compatible', 's4', 'infused', 'them', 'faceplate', 'nexus', '4', 'already', 'smartphone', 'natural', 'brand-new', 'screen', 'pen', 'military-grade', 'edition', 'opening', 'damage', 'leave', 'hd', 'holds', 'safe', 'somes', 'formulated', 'glass', 'connector', 'blue', 'fix', 'includes', 'cheapest', 'processed', 'cost', 'its', 'dust', 'available', 'interference', 'contaminants', 'co', 'tear', 'replace', '4x', '1mm', 'cutouts', 'resistant', 'means', 'preventing', 'colors', '6/6', 'sensitive', 'go', 'play', 'can', 'cling', 'poor', '11', 'pin', 'minimum', 'lg', '24hrs', 'flexibility', 'blocked', 'someone', 'watch', 'opened', 'ebay', 'water', 'tray', 'seal', 'california', 'cracking', 'what', 'wrap', 'contents', 'backing', 'durable', 'more', 'k10', '0-2', 'decal', 'used', 'device', 'cross', 'unlike', 'sheer', 'line', 'tightly', 'drops', 'silver', 'oil', 'tablet', 'cracked', 'ago', 'resale', 'or', 'idol', '6x', 'returns', 'these', 'make', 'a8', 'free', 'dusting', 'protector', 'experience', 'applicator', 'completely', 'longer', '...', 'rugged', 'dual', 'rm', 'sold', 'cnc', 'military', 'preserves', 'interactivity', 'friday', 'brand', 'nicely', 'variety', 'attached', 'four', 'affect', 'greasy', 'how', 'recommend', 'to', 'an', \"n't\", 'delicate', 'smart', 'coated', 'viewable', 'board', 'fits', 'retina', '25', 'match', 'screwdrivers', 'mini', 'scuffs', 'bag', 'magnetic', 'sure', 'discounts', 'fitting', 'pc', 'protects', 'bright', 'ease', 'brush', 'art', 'exquisitely', ':', 'package', 'comments', 'accentuates', 'back', 'unlocking', 'kindle', 'verizon', 'usa', 'great', 'speeds', 'featuring', 'hard', 'like', 'address', 'tools', 'u', 'pure', 'well', '9.7', 'otherwise', 'place', 'in', 'google', 'real', 'form', 'call', 'nano', 'functions', 'extreme', '5x', 'that', 'need', 'searching', 'att', 'strength', 'with', 'dots', 'am', 'crystal-clear', 'plus', 'got', 'smoke', 'adhesive', 'choices', 'cup', 'absorbing', 'stretch', 'works', 'front', 'dispersion', '6', 'chargers', 'breaking', 'thin', 'together', 'gives', 'plenty', '9h', 'proprietary', 'pad', 'issues', 'maximum', 'film', 'tempered', \"'m\", 'white', 'right', 'says', 'galaxy', 'asking', 'cracks', 'outstanding', 'comfortable', 'estimated', 'image', '.', 'mirror', 'nor', 'our', 'wet', 'minor', 'wrapped', 'housing', 'from', 'japanese', 'gifts', 'non-slip', 'material', 'negotiable', 'arrives', 'weekends', 'cute', 'indicate', 'baa', 'accuracy', 'charge', '’', 'paper', 'grit', 'christmas', 'let', 'worthy', 'only', 'rude', 'those', 'yellowing', 'offers', 'droid', 'at', 'page', 'packs', 'store', 'excess', 'conditions', 'reinforced', '%', 'edge-to-edge', 'replacement', 'weekend', 'supported', 'nintendo', 'keys', 'round', 'look', 'tablets', 'comma', 'environment', 'any', 'rated', 'ultraviolet', 'unaffected', 'slightly', 'shatter', 'patented', 'residue', 'throw', 'ill', 'guard', 'falls', 'solve', 'friendly', 'regular', 'models', 'glitters', 'exceptionally', 'gilded', 'vision', 'adsorption', 'receive', 'envelope', 'contact', 'transparency', 'waterproof', 'definition', 'three', '98', 'first', 'heavy', 'check', 'included', 'state', 'guidance', 'unopened', 'resolution', 'part', 'lte', 'impact', 'arrival', 'keyboard', 'fast', 'mounted', 'remove', 'stronger', 'technology', 'ray', 'compatibility', 'able', '0.3', 'z', 'bubble', 'my', 'effectively', 'ft', 'properly', 'team', '90', 'body', 'scratched', 'cricket', 'step', 'finish', '5h', 'inspection', 'always', 'came', 'tinted', 'gon', 'the', 'broke', 'pleasure', 'applies', 'welcome', 'j', 'assure', 'makes', 'se', 'face', 're-installation', 'aquos', 'looks', 'pressure', \"'ll\", 'protected', 'factory', 'applications', 'wonderful', 'against', 'exclusively', 'reserve', 'sprint', 'carefully', 'repair', 'most', 'tech', 'ensure', 'advanced', 'multi', 'between', 'steel', 'affecting', 'very', 'punctures', 'finger', 'optical', 'reinforce', 'carbon', 'spy', 'left', 'reinstallation', 'such', '1', 'r-1', 'custom', 'super', 'burst', 'installers', 'help', 'ds', 'paying', 'precision', 'independently', 'willing', 'sony', 'lifetime', 'bundles', 'hit', '4pm', 'on', '/', 'mail', 'wo', 'nwt', 'tab', 'choice', 'peace', 'zte', 'motorola', 'back-up', 'fitbit', 'pack', 'stocking', 'mic', 'order', 'unscratched', 'specially', 'environments', 'sell', 'quantity', 'otter', 'healing', 'nosey', 'set', 'side', 'key', 'instructions', 'investment', 'prepare', 'provides', 'lasting', 'standard', 'restrictive', 'buyer', 'active', 'radiation', 'allows', 'no', 'et', 'authentic', 'without', 'series', 'note', 'multiple', 'unbeatable', 'various', 'worrying', 'fitted', 'influence', 'common', '2-5', '5.', 'effect', '38', 'precise', '5.5', 'instruction', '2.', 'you', 'deletion', 'below', 'arrive', 'absorption', 'machine', 'orange', 'operation', 'angle', 'fully', 'construction', 'knives', 'scratch', 'taken', 'naked', 'transmittance', 'iridescence', 'gaps', 'unit', 'world', 'hesitate', 'both', '180', 'diminish', 'box', 'promises', 'versions', 'nearly', 'design', 'unique', 'inside', 'oils', 'area', 'five', 'negotiate', 'matte', 'silicone', 'ready', 'data', 'responded', 'prevention', '99.9', 'sealed', 'liquid', '&', 'provide', '1-2', 'too', 'they', '0.19', 'urethane', 'ignore', 'impenetrable', 'bio', 'two', 'value', 'content', 'abrasion', 'receiving', 'long', 'holes', 'build', 'gadget', 'comment', 'general', 'enhanced', 'picks', 'unless', 'options', 'it', 'six', 'damages', 'alta', 'length', 'bought', 'anti-', 'total', 'sticky', '8', 'be', 'keywords', 'aligning', 'refund', 'oops', 'scratches', '3-5', 'protect', 'many', 'light', 'show', 'pic', 'day', 'polka', 'pictures', 'surface', '(', 'cut', 'touchscreen', 'guarantee', 'compliments', '!', 'shopping', 'pred', 'gray', '26', 'smoking', 'macbook', 'beauty', 'onlookers', '#', 'bundling', 'innovative', 'melds', 'and/or', 'monday', 'attaches', 'happen', 'new', 'colorful', 'nearest', 'frame', 'complete', 'enjoy', 'placement', 'adhesives', 'weight', 'model', 'bond', 'fees', 'feel', 'thickness', 'rose', 'constructed', '1x', 'get', 'i', 'eliminate', 'about', '5pm', 'sticker', 'silicon', 'via', '3x', 'did', 'continue', 'g4', '6/7', 'possible', 'protection', 'myself', 'messages', 'individually', 's', '5c', 'error', 'lot', 'guaranteed', 'objects', 'ups', 'prices', 'cody', 'also', 'quality', 'extremely', 'paramount', 'speaker', 'packages', 'prep', 'smudge', 'we', 'hot', '3d', 'power', 'single', 'cord', 'over', 'responsive', 'effortlessly', 'online', 'coverage', 'unchanged', 'diamond', 'chemical', 'glitter', 'pre-cut', ')', 'z3', 'electronics', 'seconds', 'bursting', 'terminator', 'invisible', 'tempering', 'meaning', 'put', 'button', 'send', 'lens', 'low', '[', 'pics', 'ratings', 'listed', 'following', 'wipes', 'structured', 'easiest', 'across', 'buds', '100', 'ipod', 'do', 'squeegee', 'stamped', 'customer', '”', 'pieces', \"'\", 'worked', 'dry', 'never', 'remover', 'degrees', 'anything', 'reliable', 'feeling', 'handle', 'stylish', 'would', 'next', 'installation', 'lightweight', 'removal', 'curved', 'brass', 'z2', 'helps', 'better', 'mix', 'v10', 'avoid', 'easily', 'results', 'fiber', 'neither', 'bubbles', 'maintains', 'buy', 'phone', 'star', 'originally', 'include', 'stuffer', 'once', 'confidence', 'marks', 'insertion', '``', '3', 'gorilla', 'represents', 'orders', 'smooth', 'card', '38mm', 'led', 'decode', 'recommended', 'm', 'cleaning', 'complement', 'static', 'glue', 'bling', 'everyone', 'rounded', 'gold', '~', 'alignment', 'credit', 'samsung', 'camera', 'flat', 'otterbox', 'purple', 'damping', 'superior', 'crack', 'self', 'tape', 'classified', '5', 'bottle', 'keep', 'xperia', 'undisturbed', \"'s\", 'kits', 'polishing', 'happy', 'improve', 'price', 'rear', 'bar', 'apple', 'grade', 'thick', 'final', 'absorb', 'm9', 'excellent', '7', 'method', '99', 'co.', 'dark', 'aqua', 'clear', 'precisely', 'inch', 'ships', 'mask', 'g5', 'contains', 'towards', 'cheap', '12', 'liner', 'cable', '--', \"'ve\", 'abrasions', 'around', 'response', 'eye', 'maintain', 'luxury', 'during', 'na', 'elastic', 'correctly', 'choose', 'intuitive', 'grip', 's3', 'tampered', 'wipe', 'iphones', 'case', 'seller', 'gear', 'impacts', 'saved', 'gravity', 'totally', 'registered', 'before', '9', 'edges', 'flexible', 'ear', '.1', 'than', 'feed', 'virtually', 'way', 'purchasing', 'lightning', 's7', 'rate', 'adjustments', 'guide', '3m', 'rag', 'pencil', 'squeeze', 'revolutionary', 'brightness', 'lights', 'random', 'pricing', 'find', 'ultra-thin', 'ipad', 'discount', 'degree', 'ones', 'fit', 'kind', 'another', 'products', 'metal', 'wholesale', 'pixel', 'search', 'gently', 'visible', 'due', 'clearing', 'g2', 'bellow', 'survive', 'removed', 'and', 'profile', 'problem', 'microfiber', '36', 'secure', '-6', 'breaks', 'shown', 'safer', 'pro', 'sent', 'high-definition', 'interested', '=', 'input', 'sensitivity', '1,2', 't', 'glare', 'pretty', 'saturday', 'needed', 'version', 'sheets', 'production', ']', 'alternative', 'traces', 'market', 'apply', 'selected', '}', 'piercing', 'friend', 'me', 'burlap', 'has', 'suit', 'when', 'goal', 'simple', 'dirt', 'artifact', 'dropped', 'n', 'confirm', 'lite', 'highly', 'evo', 'looking', 'adhesion', 'manual', 'sales', '2', 'withstand', 'user', 'lister', 'powerful', 'test', 'switch', 'digitizer', 'chip', 'k7', 'unbranded', 'their', 'purchase', 'skin', 'contain', 'solution', 'head', 'class'}\n"
     ]
    }
   ],
   "source": [
    "print(\"Intersect vocabulary: {}\".format(voc_set_intersect))"
   ]
  },
  {
   "cell_type": "code",
   "execution_count": 20,
   "metadata": {},
   "outputs": [
    {
     "name": "stdout",
     "output_type": "stream",
     "text": [
      "Vocabulary that is in df_train but is NOT in model:\n",
      "lentght: 418\n",
      "voc: {'tracking••', '14.9cm', '3pcs', '6/7/6s', 'sync/charging', '1xalcohol', 'mizoo', '❤new', 'brandnew', 'glass,9h', 'friendly-siania', 'rosegold', '✅wet', '6/6plus', 'easiy', '6+/6s+', '♠️oleophobic', '4.', 'anti-spy', '✅', 'iphone4/4s', '⭐️', '2xtwo', '✅guide', 'shatterguard', '0.2mm', '*when', '♠️anti', 'included**', '♠️scratch', '-ultra', 'anti-uv', '*******does', 'shatter-resistant', '5.easy', '✅if', '6\\\\6s', 'black-silver', 'plus/7', '-alcohol', '6s/iphone', 'rjv', '✅available', '6/6+', 'glass+', '❗️❗️❗️listing', '4.sensitive', '-high', 'plus/', '/6s', 'scratch-resistant', 'anti-yellowing', 'plus,6s', '=hardness', 'non-sticky', 'nani16', '9-h', '6s/6s', '~brand', '-easy', '-9h', '2xglass', '1-take', '¶see', 'dust-free', 'clear,98', '-dust', '2-pack', 'n7100', 'mothca', '**item', 'purchasing***', 's8+', 'chemicaily', '4/4s', '6pack', '-self-healing', 'plus|', 'iwatch', '•delicate', '6s❗️❗️❗️', 'deviceunlike', 'instructionsinnovative', '4.the', '-you', '..', '/7', 'se/', 'supershieldz', 'polished,2.5d', '6-', 'hope/kind', 'temperedglass', '-glass', 'techskin', '•silicone', 'dry/wet', '.drying', '•oleophobic', 'one-push', 'ofscreen', 'plus..', '7/iphone', '5inch', '•the', 'frustration-free', '6+', '*tempered', 'anti-slip', 'compatible-', 'oleophobic', 'anti-blue', 'scratch/', 'd3363', '3-pack', '1×film', '*non', '******', 'plus/6s', 'screeun', '❤', 'dust-absorber', '✨', 'uv-resistant', '-zero-residue', '5/5c/5s', '-scratch', '.33mm', 'error-proof', '‼️', '1×alcohol', 'anti-broken', 'anti-fingerprints', 'site/premium', 'plus/iphone', '*real', 'play,9h', '*crystal', 'anti-bubble', '4.unobstructed', '-scratch-proof', '5/5s/5c/se/6/6s/6', '•comes', 'militaryshield', '.dust', '♡', '/6s/7', 'temperd', 'newstyle', 'fosmon', '*applicator', 'cracking‼️', '/iphone', 'anti-scratch', '6-pack', '2xdust-absorber', '•ultra-thin', 'armorsuit', 'j2cc', 'edge.it', 'scractches.it', 'plusp', '-find', 'bubble-free', '•only', '1×cleaning', 'privary', 'willnot', '9h*', 'lint-free', 'phone*******', '*not', 'screens*', 'matteskin', 'anti-glare', '⚡package', '2pack', '*space', 'phone-if', '~super', 'ultra-slim', 'anti-fingerprint', 'antiglare', 'shatter-proof', '6-iphone', 'inch/ipad', '*no', ',3x', '6splus', '2.5d', '•package', '-the', 'non-screen', '=oil', 'smoothy.it', '‼️it', '☆', '•dust-free', '*************', 'film-', '⬅️', 'guarenteed', '2packs', 'shield®', 'w/', '*i', 'iphone5/5s/6/6plus/7/7plus', '■no', 'cleophobic', '*the', 'glass/without', 'resiliant', '-extra', 'nano-plated', 'shipping✅', '•', '•tempered', 'hardness,2.5d', 'hotbin', 'zagg', '1×', '✨only', '7plus', 'cleaner+', 'bodyguardz', '*purchase', 'protectors-unused', '*phond', 'skinomi®', 'iphone7', 'anti-shatter', '*.33', '*cleaning', 'active/', '~fits', 'monday**', '-package', '7+', 'treates', 'application/removal', '-advance', '•9h', '1xretail', 'tech21', 'save❤❤', '0.30mm', '7/7plus', '6/iphone', 'skinomi', '5/5s/5c/se/6/6s/7/', '8-9h', '+glass', 'non-adhesive', 'wet/dry', '⭐️check', '-top', 'illumishield', '3×', '____________________________________________________________', '6-6s', '***bundle', 'protecter', 'protecters', '-impact', '-screen', 'wet-install', 'shatter-safe', 'true-to-form', '**after', 'antibubble', 'anti-shattered', '*free', '6/6+/7/7+', 'shipping.✨✨', 'package/order', '**fast', '*fingerprint', '-iphone', '1-pack', '•shatter', 's5/s6/s6', '2pcs', '➡️', '✨✨', 'scren', '6/6s', '➜', 'shock-resistant', 'iphone5/5s/5c/6/6s/6plus/7/7plus', 'stalion®', '♥️policy♥️if', 'earpod', '5/5s/5c/se', 'quantities¶', '-microfiber', '•no', '6plus', '1pcs', '*fast', 'coatedwith', 'easy-to-install', 'save*', 'yootech', '-smooth', '5/5s/se', 'j7,2.5d', '✅dust', 'air/ipad', '•bubble', 'air-air', 'mercaris', '2×', '-0.26mm', 'self-heal', '••fast', '6/6s/7', '*for', 'w/wet/dry', 'note4/5/galaxy', 'stain-proof', '♠️9h', '-surface', '-shatter', '*easy', 'shademe', '.cleansing', 'liquidskin', 'matte/anti-glare', 'amaizing', '3pk', 'air2', 'self-adhering', '•nano', 'piexes', '42mm', '5/5s/5c', 'w/tracking', 'shipping⚡️', 's6/s7', 'mini4', 'ultra-clear', '**phone', '❌no', '+clean', 'included■', '***i', 'oil-resistant', '-we', '2015-release', '-no', '0.26mm', '1/2/3,9h', '✅retail', '⚡️fast', 's4/5/6/7', '✅glass', '=sleek', 'offers~', '0.3mm', 'gold-gold-shiny', 'chip，therefore', '✨screen', '•self', '6.9cm', '*bundle', '*2.5d', 'hassle-free', 'anti-peeping', '6/', 'v10/', '3pack', '6/6plus/7/7plus', '-does', 'ivoler', '1×hard', 'sync/charger', 'soft-touch', '-custom', 'used/opened', 'g5,9h', 'highly-sensitive', 'case-friendly', 'compatiable', 'g3/', '-cleaning', 'anit-shatter', '-perfect', '•••', '•explosion-proof', 'yorur', 'water-proof', 'compatiblity', 'wear-and-tear', 'easy-installation', 'fingerprint-free', 'non-yellowing', '*keeps', '***make', '⚡️all', '6s+', 'fontar', 'home*', 'radiaetion', 'powerxcel', '5/5s', 'filmclassified', '•hd', '0.33mm', '1*360', 'material-', '-anti-shatter', 'anti-oil', '×3', '6.', 'case.4', 'flipcase', 'militaryshield®', '~oil'}\n"
     ]
    }
   ],
   "source": [
    "voc_diff = voc_set_df_train.difference(voc_set_model)\n",
    "print(\"Vocabulary that is in df_train but is NOT in model:\\nlentght: {}\\nvoc: {}\".format(len(voc_diff), voc_diff))"
   ]
  },
  {
   "cell_type": "markdown",
   "metadata": {},
   "source": [
    "### Random Forest"
   ]
  },
  {
   "cell_type": "code",
   "execution_count": 21,
   "metadata": {},
   "outputs": [
    {
     "data": {
      "text/plain": [
       "RandomForestClassifier(bootstrap=True, class_weight=None, criterion='gini',\n",
       "            max_depth=50, max_features='auto', max_leaf_nodes=None,\n",
       "            min_impurity_decrease=0.0, min_impurity_split=None,\n",
       "            min_samples_leaf=1, min_samples_split=2,\n",
       "            min_weight_fraction_leaf=0.0, n_estimators=100, n_jobs=None,\n",
       "            oob_score=False, random_state=0, verbose=0, warm_start=False)"
      ]
     },
     "execution_count": 21,
     "metadata": {},
     "output_type": "execute_result"
    }
   ],
   "source": [
    "from sklearn.ensemble import RandomForestClassifier\n",
    "\n",
    "clf = RandomForestClassifier(n_estimators=100,\n",
    "                             max_depth=50,\n",
    "                             min_samples_leaf=1,\n",
    "                             random_state=0\n",
    "                            )\n",
    "clf.fit(X_train, y_train)"
   ]
  },
  {
   "cell_type": "code",
   "execution_count": 22,
   "metadata": {},
   "outputs": [],
   "source": [
    "pred_train = clf.predict(X_train)\n",
    "pred_test = clf.predict(X_test)"
   ]
  },
  {
   "cell_type": "code",
   "execution_count": 23,
   "metadata": {},
   "outputs": [
    {
     "name": "stdout",
     "output_type": "stream",
     "text": [
      "Train accuracy:  0.9925650557620818\n",
      "Test accuracy:  0.5427509293680297\n"
     ]
    }
   ],
   "source": [
    "from sklearn.metrics import accuracy_score\n",
    "\n",
    "acc_train = accuracy_score(y_train, pred_train)\n",
    "print('Train accuracy: ', acc_train)\n",
    "\n",
    "acc_test = accuracy_score(y_test, pred_test)\n",
    "print('Test accuracy: ', acc_test)"
   ]
  },
  {
   "cell_type": "markdown",
   "metadata": {},
   "source": [
    "# Naive algorithm: predicting average of the class"
   ]
  },
  {
   "cell_type": "code",
   "execution_count": 24,
   "metadata": {},
   "outputs": [],
   "source": [
    "mode = y_train.mode()\n",
    "\n",
    "pred_train_naive = y_train.copy()\n",
    "pred_test_naive = y_test.copy()\n",
    "pred_train_naive.loc[:] = mode.values[0]\n",
    "pred_test_naive.loc[:] = mode.values[0]"
   ]
  },
  {
   "cell_type": "code",
   "execution_count": 25,
   "metadata": {},
   "outputs": [
    {
     "name": "stdout",
     "output_type": "stream",
     "text": [
      "Naive train accuracy:  0.29120198265179675\n",
      "Naive test accuracy:  0.2732342007434944\n"
     ]
    }
   ],
   "source": [
    "print('Naive train accuracy: ', accuracy_score(y_train, pred_train_naive))\n",
    "print('Naive test accuracy: ', accuracy_score(y_test, pred_test_naive))"
   ]
  },
  {
   "cell_type": "code",
   "execution_count": null,
   "metadata": {},
   "outputs": [],
   "source": []
  },
  {
   "cell_type": "code",
   "execution_count": 26,
   "metadata": {},
   "outputs": [],
   "source": [
    "# from importlib import reload\n",
    "# fe = reload(fe)\n",
    "# lp = reload(lp)"
   ]
  },
  {
   "cell_type": "code",
   "execution_count": null,
   "metadata": {},
   "outputs": [],
   "source": []
  }
 ],
 "metadata": {
  "kernelspec": {
   "display_name": "Python 3",
   "language": "python",
   "name": "python3"
  },
  "language_info": {
   "codemirror_mode": {
    "name": "ipython",
    "version": 3
   },
   "file_extension": ".py",
   "mimetype": "text/x-python",
   "name": "python",
   "nbconvert_exporter": "python",
   "pygments_lexer": "ipython3",
   "version": "3.7.0"
  }
 },
 "nbformat": 4,
 "nbformat_minor": 2
}
