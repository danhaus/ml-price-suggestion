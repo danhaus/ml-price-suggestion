{
 "cells": [
  {
   "cell_type": "code",
   "execution_count": 1,
   "metadata": {},
   "outputs": [
    {
     "name": "stdout",
     "output_type": "stream",
     "text": [
      "Following functions has been loaded:\n",
      "\n",
      "replace_nan\n",
      "rmse\n",
      "extract_n_random_cats\n",
      "tokenize\n",
      "\n"
     ]
    }
   ],
   "source": [
    "import numpy as np\n",
    "import pandas as pd\n",
    "# import spacy\n",
    "# nlp = spacy.load('en_core_web_sm')\n",
    "from collections import OrderedDict\n",
    "from tqdm import tqdm_notebook\n",
    "\n",
    "import sys\n",
    "sys.path.append(\"../../lib\") # Adds higher directory to python modules path.\n",
    "import helper_functions as hf\n",
    "import language_processing as lp\n",
    "import feature_extraction as fe"
   ]
  },
  {
   "cell_type": "code",
   "execution_count": 2,
   "metadata": {},
   "outputs": [],
   "source": [
    "PATH = \"../../data/\"\n",
    "data_full = pd.read_csv(f'{PATH}train.tsv', sep='\\t')"
   ]
  },
  {
   "cell_type": "markdown",
   "metadata": {},
   "source": [
    "## Replace NaN"
   ]
  },
  {
   "cell_type": "code",
   "execution_count": 3,
   "metadata": {},
   "outputs": [],
   "source": [
    "data_full = hf.replace_nan(data_full)"
   ]
  },
  {
   "cell_type": "code",
   "execution_count": 4,
   "metadata": {},
   "outputs": [
    {
     "data": {
      "text/html": [
       "<div>\n",
       "<style scoped>\n",
       "    .dataframe tbody tr th:only-of-type {\n",
       "        vertical-align: middle;\n",
       "    }\n",
       "\n",
       "    .dataframe tbody tr th {\n",
       "        vertical-align: top;\n",
       "    }\n",
       "\n",
       "    .dataframe thead th {\n",
       "        text-align: right;\n",
       "    }\n",
       "</style>\n",
       "<table border=\"1\" class=\"dataframe\">\n",
       "  <thead>\n",
       "    <tr style=\"text-align: right;\">\n",
       "      <th></th>\n",
       "      <th>train_id</th>\n",
       "      <th>name</th>\n",
       "      <th>item_condition_id</th>\n",
       "      <th>category_name</th>\n",
       "      <th>brand_name</th>\n",
       "      <th>price</th>\n",
       "      <th>shipping</th>\n",
       "      <th>item_description</th>\n",
       "    </tr>\n",
       "  </thead>\n",
       "  <tbody>\n",
       "    <tr>\n",
       "      <th>0</th>\n",
       "      <td>0</td>\n",
       "      <td>MLB Cincinnati Reds T Shirt Size XL</td>\n",
       "      <td>3</td>\n",
       "      <td>Men/Tops/T-shirts</td>\n",
       "      <td>No Brand</td>\n",
       "      <td>10.0</td>\n",
       "      <td>1</td>\n",
       "      <td>No description yet</td>\n",
       "    </tr>\n",
       "    <tr>\n",
       "      <th>1</th>\n",
       "      <td>1</td>\n",
       "      <td>Razer BlackWidow Chroma Keyboard</td>\n",
       "      <td>3</td>\n",
       "      <td>Electronics/Computers &amp; Tablets/Components &amp; P...</td>\n",
       "      <td>Razer</td>\n",
       "      <td>52.0</td>\n",
       "      <td>0</td>\n",
       "      <td>This keyboard is in great condition and works ...</td>\n",
       "    </tr>\n",
       "    <tr>\n",
       "      <th>2</th>\n",
       "      <td>2</td>\n",
       "      <td>AVA-VIV Blouse</td>\n",
       "      <td>1</td>\n",
       "      <td>Women/Tops &amp; Blouses/Blouse</td>\n",
       "      <td>Target</td>\n",
       "      <td>10.0</td>\n",
       "      <td>1</td>\n",
       "      <td>Adorable top with a hint of lace and a key hol...</td>\n",
       "    </tr>\n",
       "    <tr>\n",
       "      <th>3</th>\n",
       "      <td>3</td>\n",
       "      <td>Leather Horse Statues</td>\n",
       "      <td>1</td>\n",
       "      <td>Home/Home Décor/Home Décor Accents</td>\n",
       "      <td>No Brand</td>\n",
       "      <td>35.0</td>\n",
       "      <td>1</td>\n",
       "      <td>New with tags. Leather horses. Retail for [rm]...</td>\n",
       "    </tr>\n",
       "    <tr>\n",
       "      <th>4</th>\n",
       "      <td>4</td>\n",
       "      <td>24K GOLD plated rose</td>\n",
       "      <td>1</td>\n",
       "      <td>Women/Jewelry/Necklaces</td>\n",
       "      <td>No Brand</td>\n",
       "      <td>44.0</td>\n",
       "      <td>0</td>\n",
       "      <td>Complete with certificate of authenticity</td>\n",
       "    </tr>\n",
       "  </tbody>\n",
       "</table>\n",
       "</div>"
      ],
      "text/plain": [
       "   train_id                                 name  item_condition_id  \\\n",
       "0         0  MLB Cincinnati Reds T Shirt Size XL                  3   \n",
       "1         1     Razer BlackWidow Chroma Keyboard                  3   \n",
       "2         2                       AVA-VIV Blouse                  1   \n",
       "3         3                Leather Horse Statues                  1   \n",
       "4         4                 24K GOLD plated rose                  1   \n",
       "\n",
       "                                       category_name brand_name  price  \\\n",
       "0                                  Men/Tops/T-shirts   No Brand   10.0   \n",
       "1  Electronics/Computers & Tablets/Components & P...      Razer   52.0   \n",
       "2                        Women/Tops & Blouses/Blouse     Target   10.0   \n",
       "3                 Home/Home Décor/Home Décor Accents   No Brand   35.0   \n",
       "4                            Women/Jewelry/Necklaces   No Brand   44.0   \n",
       "\n",
       "   shipping                                   item_description  \n",
       "0         1                                 No description yet  \n",
       "1         0  This keyboard is in great condition and works ...  \n",
       "2         1  Adorable top with a hint of lace and a key hol...  \n",
       "3         1  New with tags. Leather horses. Retail for [rm]...  \n",
       "4         0          Complete with certificate of authenticity  "
      ]
     },
     "execution_count": 4,
     "metadata": {},
     "output_type": "execute_result"
    }
   ],
   "source": [
    "data_full.head()"
   ]
  },
  {
   "cell_type": "markdown",
   "metadata": {},
   "source": [
    "## Select randomly N categories"
   ]
  },
  {
   "cell_type": "code",
   "execution_count": 5,
   "metadata": {},
   "outputs": [],
   "source": [
    "data_10_cats = hf.extract_n_random_cats(data_full, 10, random_seed=27)"
   ]
  },
  {
   "cell_type": "code",
   "execution_count": 6,
   "metadata": {},
   "outputs": [
    {
     "name": "stdout",
     "output_type": "stream",
     "text": [
      "8648\titems in\tWomen/Underwear/Panties\n",
      "756\titems in\tMen/Jeans/Boot Cut\n",
      "5325\titems in\tWomen/Women's Accessories/Hair Accessories\n",
      "2152\titems in\tElectronics/Cell Phones & Accessories/Screen Protectors\n",
      "146\titems in\tHome/Bedding/Quilts\n",
      "313\titems in\tHome/Storage & Organization/Racks, Shelves & Drawers\n",
      "44\titems in\tHandmade/Others/Other\n",
      "6\titems in\tHandmade/Children/Other\n",
      "3\titems in\tVintage & Collectibles/Serving/Butter Dish\n",
      "1\titems in\tHandmade/Accessories/Mirror\n"
     ]
    }
   ],
   "source": [
    "extracted_cats = data_10_cats.category_name.unique()\n",
    "for cat in extracted_cats:\n",
    "    print('{}\\titems in\\t{}'.format(len(data_10_cats.loc[data_10_cats.category_name == cat]), cat))"
   ]
  },
  {
   "cell_type": "code",
   "execution_count": null,
   "metadata": {},
   "outputs": [],
   "source": []
  },
  {
   "cell_type": "code",
   "execution_count": null,
   "metadata": {},
   "outputs": [],
   "source": []
  },
  {
   "cell_type": "markdown",
   "metadata": {},
   "source": [
    "# For now, work with just one category"
   ]
  },
  {
   "cell_type": "code",
   "execution_count": 7,
   "metadata": {},
   "outputs": [],
   "source": [
    "cat_df = data_10_cats.loc[data_10_cats.category_name == 'Electronics/Cell Phones & Accessories/Screen Protectors']\n",
    "# cat_df = data_10_cats.loc[data_10_cats.category_name == 'Women/Underwear/Panties']"
   ]
  },
  {
   "cell_type": "code",
   "execution_count": 8,
   "metadata": {},
   "outputs": [
    {
     "data": {
      "text/html": [
       "<div>\n",
       "<style scoped>\n",
       "    .dataframe tbody tr th:only-of-type {\n",
       "        vertical-align: middle;\n",
       "    }\n",
       "\n",
       "    .dataframe tbody tr th {\n",
       "        vertical-align: top;\n",
       "    }\n",
       "\n",
       "    .dataframe thead th {\n",
       "        text-align: right;\n",
       "    }\n",
       "</style>\n",
       "<table border=\"1\" class=\"dataframe\">\n",
       "  <thead>\n",
       "    <tr style=\"text-align: right;\">\n",
       "      <th></th>\n",
       "      <th>train_id</th>\n",
       "      <th>name</th>\n",
       "      <th>item_condition_id</th>\n",
       "      <th>category_name</th>\n",
       "      <th>brand_name</th>\n",
       "      <th>price</th>\n",
       "      <th>shipping</th>\n",
       "      <th>item_description</th>\n",
       "    </tr>\n",
       "  </thead>\n",
       "  <tbody>\n",
       "    <tr>\n",
       "      <th>1063</th>\n",
       "      <td>1063</td>\n",
       "      <td>Tempered glass screen protectors</td>\n",
       "      <td>1</td>\n",
       "      <td>Electronics/Cell Phones &amp; Accessories/Screen P...</td>\n",
       "      <td>No Brand</td>\n",
       "      <td>6.0</td>\n",
       "      <td>1</td>\n",
       "      <td>New, (3) iPhone 6-6s tempered glass screen pro...</td>\n",
       "    </tr>\n",
       "    <tr>\n",
       "      <th>2480</th>\n",
       "      <td>2480</td>\n",
       "      <td>iPhone 6/6s/7 tempered glass</td>\n",
       "      <td>1</td>\n",
       "      <td>Electronics/Cell Phones &amp; Accessories/Screen P...</td>\n",
       "      <td>No Brand</td>\n",
       "      <td>7.0</td>\n",
       "      <td>1</td>\n",
       "      <td>Brand new free shipping You will get 2 tempere...</td>\n",
       "    </tr>\n",
       "    <tr>\n",
       "      <th>2486</th>\n",
       "      <td>2486</td>\n",
       "      <td>Galaxy S6 Edge Invisible Shield</td>\n",
       "      <td>1</td>\n",
       "      <td>Electronics/Cell Phones &amp; Accessories/Screen P...</td>\n",
       "      <td>No Brand</td>\n",
       "      <td>5.0</td>\n",
       "      <td>1</td>\n",
       "      <td>INVISIBLE SHIELD for Samsung Galaxy S 6 Edge. ...</td>\n",
       "    </tr>\n",
       "    <tr>\n",
       "      <th>2505</th>\n",
       "      <td>2505</td>\n",
       "      <td>Tempered Glass for iPhone 7</td>\n",
       "      <td>1</td>\n",
       "      <td>Electronics/Cell Phones &amp; Accessories/Screen P...</td>\n",
       "      <td>Apple</td>\n",
       "      <td>6.0</td>\n",
       "      <td>1</td>\n",
       "      <td>The screen protector is made of specially proc...</td>\n",
       "    </tr>\n",
       "    <tr>\n",
       "      <th>3500</th>\n",
       "      <td>3500</td>\n",
       "      <td>iPhone 7 plus screen protector glass</td>\n",
       "      <td>1</td>\n",
       "      <td>Electronics/Cell Phones &amp; Accessories/Screen P...</td>\n",
       "      <td>Apple</td>\n",
       "      <td>8.0</td>\n",
       "      <td>1</td>\n",
       "      <td>•TEMPERED GLASS SCREEN PROTECTOR PRIVACY• Avai...</td>\n",
       "    </tr>\n",
       "  </tbody>\n",
       "</table>\n",
       "</div>"
      ],
      "text/plain": [
       "      train_id                                  name  item_condition_id  \\\n",
       "1063      1063      Tempered glass screen protectors                  1   \n",
       "2480      2480          iPhone 6/6s/7 tempered glass                  1   \n",
       "2486      2486       Galaxy S6 Edge Invisible Shield                  1   \n",
       "2505      2505           Tempered Glass for iPhone 7                  1   \n",
       "3500      3500  iPhone 7 plus screen protector glass                  1   \n",
       "\n",
       "                                          category_name brand_name  price  \\\n",
       "1063  Electronics/Cell Phones & Accessories/Screen P...   No Brand    6.0   \n",
       "2480  Electronics/Cell Phones & Accessories/Screen P...   No Brand    7.0   \n",
       "2486  Electronics/Cell Phones & Accessories/Screen P...   No Brand    5.0   \n",
       "2505  Electronics/Cell Phones & Accessories/Screen P...      Apple    6.0   \n",
       "3500  Electronics/Cell Phones & Accessories/Screen P...      Apple    8.0   \n",
       "\n",
       "      shipping                                   item_description  \n",
       "1063         1  New, (3) iPhone 6-6s tempered glass screen pro...  \n",
       "2480         1  Brand new free shipping You will get 2 tempere...  \n",
       "2486         1  INVISIBLE SHIELD for Samsung Galaxy S 6 Edge. ...  \n",
       "2505         1  The screen protector is made of specially proc...  \n",
       "3500         1  •TEMPERED GLASS SCREEN PROTECTOR PRIVACY• Avai...  "
      ]
     },
     "execution_count": 8,
     "metadata": {},
     "output_type": "execute_result"
    }
   ],
   "source": [
    "cat_df.head()"
   ]
  },
  {
   "cell_type": "markdown",
   "metadata": {},
   "source": [
    "### Extract labels"
   ]
  },
  {
   "cell_type": "code",
   "execution_count": 9,
   "metadata": {},
   "outputs": [],
   "source": [
    "import price_classifier\n",
    "# from importlib import reload\n",
    "# reload(price_classifier)"
   ]
  },
  {
   "cell_type": "code",
   "execution_count": 10,
   "metadata": {},
   "outputs": [],
   "source": [
    "pc = price_classifier.PriceClassifier(cat_df, 5)\n",
    "y = pc.extract(cat_df)"
   ]
  },
  {
   "cell_type": "code",
   "execution_count": 11,
   "metadata": {},
   "outputs": [
    {
     "data": {
      "text/plain": [
       "1063     6.0-8.0\n",
       "2480     6.0-8.0\n",
       "2486     5.0-6.0\n",
       "2505     6.0-8.0\n",
       "3500    8.0-10.0\n",
       "dtype: object"
      ]
     },
     "execution_count": 11,
     "metadata": {},
     "output_type": "execute_result"
    }
   ],
   "source": [
    "y.head()"
   ]
  },
  {
   "cell_type": "markdown",
   "metadata": {},
   "source": [
    "### Train & Test split"
   ]
  },
  {
   "cell_type": "code",
   "execution_count": 12,
   "metadata": {},
   "outputs": [],
   "source": [
    "from sklearn.model_selection import train_test_split\n",
    "\n",
    "df_train, df_test, y_train, y_test = train_test_split(cat_df, y, test_size=0.25, random_state=42)"
   ]
  },
  {
   "cell_type": "markdown",
   "metadata": {},
   "source": [
    "### Convert GloVe into word2vec"
   ]
  },
  {
   "cell_type": "code",
   "execution_count": 211,
   "metadata": {},
   "outputs": [
    {
     "data": {
      "text/plain": [
       "(400000, 300)"
      ]
     },
     "execution_count": 211,
     "metadata": {},
     "output_type": "execute_result"
    }
   ],
   "source": [
    "# from gensim.scripts.glove2word2vec import glove2word2vec\n",
    "# glove_input_file = f'{PATH}glove.6B/glove.6B.300d.txt'\n",
    "# word2vec_output_file = f'{PATH}glove.6B/glove.6B.300d.txt.word2vec'\n",
    "# glove2word2vec(glove_input_file, word2vec_output_file)"
   ]
  },
  {
   "cell_type": "markdown",
   "metadata": {},
   "source": [
    "### Load the word2vec model"
   ]
  },
  {
   "cell_type": "code",
   "execution_count": 219,
   "metadata": {},
   "outputs": [],
   "source": [
    "from gensim.models import KeyedVectors\n",
    "\n",
    "# UNCOMMENT ONE OF THE FOLLOWING\n",
    "filename = f'{PATH}glove.6B/glove.6B.300d.txt.word2vec' # GloVe Wikipedia + Gigaword\n",
    "model = KeyedVectors.load_word2vec_format(filename, binary=False)\n",
    "\n",
    "\n",
    "# filename = f'{PATH}google/GoogleNews-vectors-negative300.bin'# Google News\n",
    "# model = KeyedVectors.load_word2vec_format(filename, binary=True)"
   ]
  },
  {
   "cell_type": "markdown",
   "metadata": {},
   "source": [
    "### Exctract features"
   ]
  },
  {
   "cell_type": "code",
   "execution_count": 222,
   "metadata": {},
   "outputs": [],
   "source": [
    "pipe = fe.Pipeline(steps=[('base', fe.BaseFeatureExtractor()),\n",
    "                          ('word2vec_item_description', lp.MeanEmbeddingVectorizer(model, df_train, 'item_description')),\n",
    "                          ('word2vec_tokens_name', lp.MeanEmbeddingVectorizer(model, df_train, 'name')),\n",
    "#                           ('stemmed_tokens_item_description', lp.CountVectorizer(df_train, 'item_description', stem=True, normalize=True)),\n",
    "#                           ('stemmed_tokens_name', lp.CountVectorizer(df_train, 'name', stem=True, normalize=True))\n",
    "                         ])"
   ]
  },
  {
   "cell_type": "code",
   "execution_count": 223,
   "metadata": {},
   "outputs": [
    {
     "name": "stdout",
     "output_type": "stream",
     "text": [
      "Extracting features for the training set...\n",
      "Done\n",
      "Extracting features for the test set...\n",
      "Done\n"
     ]
    }
   ],
   "source": [
    "print(\"Extracting features for the training set...\")\n",
    "X_train = pipe.extract_features(df_train)\n",
    "print(\"Done\")\n",
    "print(\"Extracting features for the test set...\")\n",
    "X_test = pipe.extract_features(df_test)\n",
    "print(\"Done\")"
   ]
  },
  {
   "cell_type": "code",
   "execution_count": 224,
   "metadata": {},
   "outputs": [
    {
     "data": {
      "text/html": [
       "<div>\n",
       "<style scoped>\n",
       "    .dataframe tbody tr th:only-of-type {\n",
       "        vertical-align: middle;\n",
       "    }\n",
       "\n",
       "    .dataframe tbody tr th {\n",
       "        vertical-align: top;\n",
       "    }\n",
       "\n",
       "    .dataframe thead th {\n",
       "        text-align: right;\n",
       "    }\n",
       "</style>\n",
       "<table border=\"1\" class=\"dataframe\">\n",
       "  <thead>\n",
       "    <tr style=\"text-align: right;\">\n",
       "      <th></th>\n",
       "      <th>name_len</th>\n",
       "      <th>item_description_len</th>\n",
       "      <th>item_condition_id</th>\n",
       "      <th>shipping</th>\n",
       "      <th>mev_item_description_minimum</th>\n",
       "      <th>mev_item_description_normal</th>\n",
       "      <th>mev_item_description_together</th>\n",
       "      <th>mev_item_description_return</th>\n",
       "      <th>mev_item_description_go</th>\n",
       "      <th>mev_item_description_6s</th>\n",
       "      <th>...</th>\n",
       "      <th>mev_name_reserve</th>\n",
       "      <th>mev_name_deal</th>\n",
       "      <th>mev_name_glass</th>\n",
       "      <th>mev_name_marble</th>\n",
       "      <th>mev_name_s6</th>\n",
       "      <th>mev_name_1x</th>\n",
       "      <th>mev_name_pixel</th>\n",
       "      <th>mev_name_one</th>\n",
       "      <th>mev_name_protection</th>\n",
       "      <th>mev_name_8</th>\n",
       "    </tr>\n",
       "  </thead>\n",
       "  <tbody>\n",
       "    <tr>\n",
       "      <th>185890</th>\n",
       "      <td>40</td>\n",
       "      <td>588</td>\n",
       "      <td>1</td>\n",
       "      <td>1</td>\n",
       "      <td>0.0</td>\n",
       "      <td>0.0</td>\n",
       "      <td>0.000000</td>\n",
       "      <td>0.0</td>\n",
       "      <td>0.0</td>\n",
       "      <td>0.0</td>\n",
       "      <td>...</td>\n",
       "      <td>0.0</td>\n",
       "      <td>0.0</td>\n",
       "      <td>-0.012019</td>\n",
       "      <td>0.0</td>\n",
       "      <td>0.000000</td>\n",
       "      <td>0.0</td>\n",
       "      <td>0.0</td>\n",
       "      <td>0.0</td>\n",
       "      <td>0.0</td>\n",
       "      <td>0.0</td>\n",
       "    </tr>\n",
       "    <tr>\n",
       "      <th>1228366</th>\n",
       "      <td>39</td>\n",
       "      <td>468</td>\n",
       "      <td>1</td>\n",
       "      <td>1</td>\n",
       "      <td>0.0</td>\n",
       "      <td>0.0</td>\n",
       "      <td>0.001974</td>\n",
       "      <td>0.0</td>\n",
       "      <td>0.0</td>\n",
       "      <td>0.0</td>\n",
       "      <td>...</td>\n",
       "      <td>0.0</td>\n",
       "      <td>0.0</td>\n",
       "      <td>0.000000</td>\n",
       "      <td>0.0</td>\n",
       "      <td>0.000000</td>\n",
       "      <td>0.0</td>\n",
       "      <td>0.0</td>\n",
       "      <td>0.0</td>\n",
       "      <td>0.0</td>\n",
       "      <td>0.0</td>\n",
       "    </tr>\n",
       "    <tr>\n",
       "      <th>1131355</th>\n",
       "      <td>37</td>\n",
       "      <td>135</td>\n",
       "      <td>1</td>\n",
       "      <td>1</td>\n",
       "      <td>0.0</td>\n",
       "      <td>0.0</td>\n",
       "      <td>0.000000</td>\n",
       "      <td>0.0</td>\n",
       "      <td>0.0</td>\n",
       "      <td>0.0</td>\n",
       "      <td>...</td>\n",
       "      <td>0.0</td>\n",
       "      <td>0.0</td>\n",
       "      <td>-0.012019</td>\n",
       "      <td>0.0</td>\n",
       "      <td>0.000000</td>\n",
       "      <td>0.0</td>\n",
       "      <td>0.0</td>\n",
       "      <td>0.0</td>\n",
       "      <td>0.0</td>\n",
       "      <td>0.0</td>\n",
       "    </tr>\n",
       "    <tr>\n",
       "      <th>384365</th>\n",
       "      <td>37</td>\n",
       "      <td>875</td>\n",
       "      <td>1</td>\n",
       "      <td>1</td>\n",
       "      <td>0.0</td>\n",
       "      <td>0.0</td>\n",
       "      <td>0.000000</td>\n",
       "      <td>0.0</td>\n",
       "      <td>0.0</td>\n",
       "      <td>0.0</td>\n",
       "      <td>...</td>\n",
       "      <td>0.0</td>\n",
       "      <td>0.0</td>\n",
       "      <td>0.000000</td>\n",
       "      <td>0.0</td>\n",
       "      <td>0.000000</td>\n",
       "      <td>0.0</td>\n",
       "      <td>0.0</td>\n",
       "      <td>0.0</td>\n",
       "      <td>0.0</td>\n",
       "      <td>0.0</td>\n",
       "    </tr>\n",
       "    <tr>\n",
       "      <th>1458638</th>\n",
       "      <td>40</td>\n",
       "      <td>18</td>\n",
       "      <td>1</td>\n",
       "      <td>1</td>\n",
       "      <td>0.0</td>\n",
       "      <td>0.0</td>\n",
       "      <td>0.000000</td>\n",
       "      <td>0.0</td>\n",
       "      <td>0.0</td>\n",
       "      <td>0.0</td>\n",
       "      <td>...</td>\n",
       "      <td>0.0</td>\n",
       "      <td>0.0</td>\n",
       "      <td>-0.012019</td>\n",
       "      <td>0.0</td>\n",
       "      <td>0.003425</td>\n",
       "      <td>0.0</td>\n",
       "      <td>0.0</td>\n",
       "      <td>0.0</td>\n",
       "      <td>0.0</td>\n",
       "      <td>0.0</td>\n",
       "    </tr>\n",
       "  </tbody>\n",
       "</table>\n",
       "<p>5 rows × 1721 columns</p>\n",
       "</div>"
      ],
      "text/plain": [
       "         name_len  item_description_len  item_condition_id  shipping  \\\n",
       "185890         40                   588                  1         1   \n",
       "1228366        39                   468                  1         1   \n",
       "1131355        37                   135                  1         1   \n",
       "384365         37                   875                  1         1   \n",
       "1458638        40                    18                  1         1   \n",
       "\n",
       "         mev_item_description_minimum  mev_item_description_normal  \\\n",
       "185890                            0.0                          0.0   \n",
       "1228366                           0.0                          0.0   \n",
       "1131355                           0.0                          0.0   \n",
       "384365                            0.0                          0.0   \n",
       "1458638                           0.0                          0.0   \n",
       "\n",
       "         mev_item_description_together  mev_item_description_return  \\\n",
       "185890                        0.000000                          0.0   \n",
       "1228366                       0.001974                          0.0   \n",
       "1131355                       0.000000                          0.0   \n",
       "384365                        0.000000                          0.0   \n",
       "1458638                       0.000000                          0.0   \n",
       "\n",
       "         mev_item_description_go  mev_item_description_6s     ...      \\\n",
       "185890                       0.0                      0.0     ...       \n",
       "1228366                      0.0                      0.0     ...       \n",
       "1131355                      0.0                      0.0     ...       \n",
       "384365                       0.0                      0.0     ...       \n",
       "1458638                      0.0                      0.0     ...       \n",
       "\n",
       "         mev_name_reserve  mev_name_deal  mev_name_glass  mev_name_marble  \\\n",
       "185890                0.0            0.0       -0.012019              0.0   \n",
       "1228366               0.0            0.0        0.000000              0.0   \n",
       "1131355               0.0            0.0       -0.012019              0.0   \n",
       "384365                0.0            0.0        0.000000              0.0   \n",
       "1458638               0.0            0.0       -0.012019              0.0   \n",
       "\n",
       "         mev_name_s6  mev_name_1x  mev_name_pixel  mev_name_one  \\\n",
       "185890      0.000000          0.0             0.0           0.0   \n",
       "1228366     0.000000          0.0             0.0           0.0   \n",
       "1131355     0.000000          0.0             0.0           0.0   \n",
       "384365      0.000000          0.0             0.0           0.0   \n",
       "1458638     0.003425          0.0             0.0           0.0   \n",
       "\n",
       "         mev_name_protection  mev_name_8  \n",
       "185890                   0.0         0.0  \n",
       "1228366                  0.0         0.0  \n",
       "1131355                  0.0         0.0  \n",
       "384365                   0.0         0.0  \n",
       "1458638                  0.0         0.0  \n",
       "\n",
       "[5 rows x 1721 columns]"
      ]
     },
     "execution_count": 224,
     "metadata": {},
     "output_type": "execute_result"
    }
   ],
   "source": [
    "X_train.head()"
   ]
  },
  {
   "cell_type": "markdown",
   "metadata": {},
   "source": [
    "### Random Forest"
   ]
  },
  {
   "cell_type": "code",
   "execution_count": 225,
   "metadata": {},
   "outputs": [
    {
     "data": {
      "text/plain": [
       "RandomForestClassifier(bootstrap=True, class_weight=None, criterion='gini',\n",
       "            max_depth=50, max_features='auto', max_leaf_nodes=None,\n",
       "            min_impurity_decrease=0.0, min_impurity_split=None,\n",
       "            min_samples_leaf=1, min_samples_split=2,\n",
       "            min_weight_fraction_leaf=0.0, n_estimators=100, n_jobs=None,\n",
       "            oob_score=False, random_state=0, verbose=0, warm_start=False)"
      ]
     },
     "execution_count": 225,
     "metadata": {},
     "output_type": "execute_result"
    }
   ],
   "source": [
    "from sklearn.ensemble import RandomForestClassifier\n",
    "\n",
    "clf = RandomForestClassifier(n_estimators=100,\n",
    "                             max_depth=50,\n",
    "                             min_samples_leaf=1,\n",
    "                             random_state=0\n",
    "                            )\n",
    "clf.fit(X_train, y_train)"
   ]
  },
  {
   "cell_type": "code",
   "execution_count": 226,
   "metadata": {},
   "outputs": [],
   "source": [
    "pred_train = clf.predict(X_train)\n",
    "pred_test = clf.predict(X_test)"
   ]
  },
  {
   "cell_type": "code",
   "execution_count": 227,
   "metadata": {},
   "outputs": [
    {
     "name": "stdout",
     "output_type": "stream",
     "text": [
      "Train accuracy:  0.9876084262701363\n",
      "Test accuracy:  0.5408921933085502\n"
     ]
    }
   ],
   "source": [
    "from sklearn.metrics import accuracy_score\n",
    "\n",
    "acc_train = accuracy_score(y_train, pred_train)\n",
    "print('Train accuracy: ', acc_train)\n",
    "\n",
    "acc_test = accuracy_score(y_test, pred_test)\n",
    "print('Test accuracy: ', acc_test)"
   ]
  },
  {
   "cell_type": "markdown",
   "metadata": {},
   "source": [
    "# Naive algorithm: predicting average of the class"
   ]
  },
  {
   "cell_type": "code",
   "execution_count": 193,
   "metadata": {},
   "outputs": [],
   "source": [
    "mode = y_train.mode()\n",
    "\n",
    "pred_train_naive = y_train.copy()\n",
    "pred_test_naive = y_test.copy()\n",
    "pred_train_naive.loc[:] = mode.values[0]\n",
    "pred_test_naive.loc[:] = mode.values[0]"
   ]
  },
  {
   "cell_type": "code",
   "execution_count": 194,
   "metadata": {},
   "outputs": [
    {
     "name": "stdout",
     "output_type": "stream",
     "text": [
      "Naive train accuracy:  0.29120198265179675\n",
      "Naive test accuracy:  0.2732342007434944\n"
     ]
    }
   ],
   "source": [
    "print('Naive train accuracy: ', accuracy_score(y_train, pred_train_naive))\n",
    "print('Naive test accuracy: ', accuracy_score(y_test, pred_test_naive))"
   ]
  },
  {
   "cell_type": "code",
   "execution_count": null,
   "metadata": {},
   "outputs": [],
   "source": []
  },
  {
   "cell_type": "code",
   "execution_count": null,
   "metadata": {},
   "outputs": [],
   "source": [
    "X_train.head()"
   ]
  },
  {
   "cell_type": "code",
   "execution_count": null,
   "metadata": {},
   "outputs": [],
   "source": [
    "(X_train.name_fit != 0).sum()"
   ]
  },
  {
   "cell_type": "code",
   "execution_count": 204,
   "metadata": {},
   "outputs": [],
   "source": [
    "from importlib import reload\n",
    "fe = reload(fe)\n",
    "lp = reload(lp)"
   ]
  },
  {
   "cell_type": "code",
   "execution_count": null,
   "metadata": {},
   "outputs": [],
   "source": []
  }
 ],
 "metadata": {
  "kernelspec": {
   "display_name": "Python 3",
   "language": "python",
   "name": "python3"
  },
  "language_info": {
   "codemirror_mode": {
    "name": "ipython",
    "version": 3
   },
   "file_extension": ".py",
   "mimetype": "text/x-python",
   "name": "python",
   "nbconvert_exporter": "python",
   "pygments_lexer": "ipython3",
   "version": "3.7.0"
  }
 },
 "nbformat": 4,
 "nbformat_minor": 2
}
