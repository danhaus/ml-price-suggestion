{
 "cells": [
  {
   "cell_type": "code",
   "execution_count": 1,
   "metadata": {},
   "outputs": [
    {
     "name": "stdout",
     "output_type": "stream",
     "text": [
      "Following functions has been loaded:\n",
      "\n",
      "replace_nan\n",
      "rmse\n",
      "extract_n_random_cats\n",
      "tokenize\n",
      "\n"
     ]
    }
   ],
   "source": [
    "import numpy as np\n",
    "import pandas as pd\n",
    "# import spacy\n",
    "# nlp = spacy.load('en_core_web_sm')\n",
    "from collections import OrderedDict\n",
    "from tqdm import tqdm_notebook\n",
    "\n",
    "import sys\n",
    "sys.path.append(\"../../lib\") # Adds higher directory to python modules path.\n",
    "import helper_functions as hf\n",
    "import language_processing as lp\n",
    "import feature_extraction as fe"
   ]
  },
  {
   "cell_type": "code",
   "execution_count": 2,
   "metadata": {},
   "outputs": [],
   "source": [
    "PATH = \"../../data/\"\n",
    "data_full = pd.read_csv(f'{PATH}train.tsv', sep='\\t')"
   ]
  },
  {
   "cell_type": "markdown",
   "metadata": {},
   "source": [
    "## Replace NaN"
   ]
  },
  {
   "cell_type": "code",
   "execution_count": 3,
   "metadata": {},
   "outputs": [],
   "source": [
    "data_full = hf.replace_nan(data_full)"
   ]
  },
  {
   "cell_type": "code",
   "execution_count": 4,
   "metadata": {},
   "outputs": [
    {
     "data": {
      "text/html": [
       "<div>\n",
       "<style scoped>\n",
       "    .dataframe tbody tr th:only-of-type {\n",
       "        vertical-align: middle;\n",
       "    }\n",
       "\n",
       "    .dataframe tbody tr th {\n",
       "        vertical-align: top;\n",
       "    }\n",
       "\n",
       "    .dataframe thead th {\n",
       "        text-align: right;\n",
       "    }\n",
       "</style>\n",
       "<table border=\"1\" class=\"dataframe\">\n",
       "  <thead>\n",
       "    <tr style=\"text-align: right;\">\n",
       "      <th></th>\n",
       "      <th>train_id</th>\n",
       "      <th>name</th>\n",
       "      <th>item_condition_id</th>\n",
       "      <th>category_name</th>\n",
       "      <th>brand_name</th>\n",
       "      <th>price</th>\n",
       "      <th>shipping</th>\n",
       "      <th>item_description</th>\n",
       "    </tr>\n",
       "  </thead>\n",
       "  <tbody>\n",
       "    <tr>\n",
       "      <th>0</th>\n",
       "      <td>0</td>\n",
       "      <td>MLB Cincinnati Reds T Shirt Size XL</td>\n",
       "      <td>3</td>\n",
       "      <td>Men/Tops/T-shirts</td>\n",
       "      <td>No Brand</td>\n",
       "      <td>10.0</td>\n",
       "      <td>1</td>\n",
       "      <td>No description yet</td>\n",
       "    </tr>\n",
       "    <tr>\n",
       "      <th>1</th>\n",
       "      <td>1</td>\n",
       "      <td>Razer BlackWidow Chroma Keyboard</td>\n",
       "      <td>3</td>\n",
       "      <td>Electronics/Computers &amp; Tablets/Components &amp; P...</td>\n",
       "      <td>Razer</td>\n",
       "      <td>52.0</td>\n",
       "      <td>0</td>\n",
       "      <td>This keyboard is in great condition and works ...</td>\n",
       "    </tr>\n",
       "    <tr>\n",
       "      <th>2</th>\n",
       "      <td>2</td>\n",
       "      <td>AVA-VIV Blouse</td>\n",
       "      <td>1</td>\n",
       "      <td>Women/Tops &amp; Blouses/Blouse</td>\n",
       "      <td>Target</td>\n",
       "      <td>10.0</td>\n",
       "      <td>1</td>\n",
       "      <td>Adorable top with a hint of lace and a key hol...</td>\n",
       "    </tr>\n",
       "    <tr>\n",
       "      <th>3</th>\n",
       "      <td>3</td>\n",
       "      <td>Leather Horse Statues</td>\n",
       "      <td>1</td>\n",
       "      <td>Home/Home Décor/Home Décor Accents</td>\n",
       "      <td>No Brand</td>\n",
       "      <td>35.0</td>\n",
       "      <td>1</td>\n",
       "      <td>New with tags. Leather horses. Retail for [rm]...</td>\n",
       "    </tr>\n",
       "    <tr>\n",
       "      <th>4</th>\n",
       "      <td>4</td>\n",
       "      <td>24K GOLD plated rose</td>\n",
       "      <td>1</td>\n",
       "      <td>Women/Jewelry/Necklaces</td>\n",
       "      <td>No Brand</td>\n",
       "      <td>44.0</td>\n",
       "      <td>0</td>\n",
       "      <td>Complete with certificate of authenticity</td>\n",
       "    </tr>\n",
       "  </tbody>\n",
       "</table>\n",
       "</div>"
      ],
      "text/plain": [
       "   train_id                                 name  item_condition_id  \\\n",
       "0         0  MLB Cincinnati Reds T Shirt Size XL                  3   \n",
       "1         1     Razer BlackWidow Chroma Keyboard                  3   \n",
       "2         2                       AVA-VIV Blouse                  1   \n",
       "3         3                Leather Horse Statues                  1   \n",
       "4         4                 24K GOLD plated rose                  1   \n",
       "\n",
       "                                       category_name brand_name  price  \\\n",
       "0                                  Men/Tops/T-shirts   No Brand   10.0   \n",
       "1  Electronics/Computers & Tablets/Components & P...      Razer   52.0   \n",
       "2                        Women/Tops & Blouses/Blouse     Target   10.0   \n",
       "3                 Home/Home Décor/Home Décor Accents   No Brand   35.0   \n",
       "4                            Women/Jewelry/Necklaces   No Brand   44.0   \n",
       "\n",
       "   shipping                                   item_description  \n",
       "0         1                                 No description yet  \n",
       "1         0  This keyboard is in great condition and works ...  \n",
       "2         1  Adorable top with a hint of lace and a key hol...  \n",
       "3         1  New with tags. Leather horses. Retail for [rm]...  \n",
       "4         0          Complete with certificate of authenticity  "
      ]
     },
     "execution_count": 4,
     "metadata": {},
     "output_type": "execute_result"
    }
   ],
   "source": [
    "data_full.head()"
   ]
  },
  {
   "cell_type": "markdown",
   "metadata": {},
   "source": [
    "## Select randomly N categories"
   ]
  },
  {
   "cell_type": "code",
   "execution_count": 5,
   "metadata": {},
   "outputs": [],
   "source": [
    "data_10_cats = hf.extract_n_random_cats(data_full, 10, random_seed=27)"
   ]
  },
  {
   "cell_type": "code",
   "execution_count": 6,
   "metadata": {},
   "outputs": [
    {
     "name": "stdout",
     "output_type": "stream",
     "text": [
      "8648\titems in\tWomen/Underwear/Panties\n",
      "756\titems in\tMen/Jeans/Boot Cut\n",
      "5325\titems in\tWomen/Women's Accessories/Hair Accessories\n",
      "2152\titems in\tElectronics/Cell Phones & Accessories/Screen Protectors\n",
      "146\titems in\tHome/Bedding/Quilts\n",
      "313\titems in\tHome/Storage & Organization/Racks, Shelves & Drawers\n",
      "44\titems in\tHandmade/Others/Other\n",
      "6\titems in\tHandmade/Children/Other\n",
      "3\titems in\tVintage & Collectibles/Serving/Butter Dish\n",
      "1\titems in\tHandmade/Accessories/Mirror\n"
     ]
    }
   ],
   "source": [
    "extracted_cats = data_10_cats.category_name.unique()\n",
    "for cat in extracted_cats:\n",
    "    print('{}\\titems in\\t{}'.format(len(data_10_cats.loc[data_10_cats.category_name == cat]), cat))"
   ]
  },
  {
   "cell_type": "code",
   "execution_count": null,
   "metadata": {},
   "outputs": [],
   "source": []
  },
  {
   "cell_type": "code",
   "execution_count": null,
   "metadata": {},
   "outputs": [],
   "source": []
  },
  {
   "cell_type": "markdown",
   "metadata": {},
   "source": [
    "# For now, work with just one category"
   ]
  },
  {
   "cell_type": "code",
   "execution_count": 7,
   "metadata": {},
   "outputs": [],
   "source": [
    "cat_df = data_10_cats.loc[data_10_cats.category_name == 'Electronics/Cell Phones & Accessories/Screen Protectors']\n",
    "# cat_df = data_10_cats.loc[data_10_cats.category_name == 'Women/Underwear/Panties']"
   ]
  },
  {
   "cell_type": "code",
   "execution_count": 8,
   "metadata": {},
   "outputs": [
    {
     "data": {
      "text/html": [
       "<div>\n",
       "<style scoped>\n",
       "    .dataframe tbody tr th:only-of-type {\n",
       "        vertical-align: middle;\n",
       "    }\n",
       "\n",
       "    .dataframe tbody tr th {\n",
       "        vertical-align: top;\n",
       "    }\n",
       "\n",
       "    .dataframe thead th {\n",
       "        text-align: right;\n",
       "    }\n",
       "</style>\n",
       "<table border=\"1\" class=\"dataframe\">\n",
       "  <thead>\n",
       "    <tr style=\"text-align: right;\">\n",
       "      <th></th>\n",
       "      <th>train_id</th>\n",
       "      <th>name</th>\n",
       "      <th>item_condition_id</th>\n",
       "      <th>category_name</th>\n",
       "      <th>brand_name</th>\n",
       "      <th>price</th>\n",
       "      <th>shipping</th>\n",
       "      <th>item_description</th>\n",
       "    </tr>\n",
       "  </thead>\n",
       "  <tbody>\n",
       "    <tr>\n",
       "      <th>1063</th>\n",
       "      <td>1063</td>\n",
       "      <td>Tempered glass screen protectors</td>\n",
       "      <td>1</td>\n",
       "      <td>Electronics/Cell Phones &amp; Accessories/Screen P...</td>\n",
       "      <td>No Brand</td>\n",
       "      <td>6.0</td>\n",
       "      <td>1</td>\n",
       "      <td>New, (3) iPhone 6-6s tempered glass screen pro...</td>\n",
       "    </tr>\n",
       "    <tr>\n",
       "      <th>2480</th>\n",
       "      <td>2480</td>\n",
       "      <td>iPhone 6/6s/7 tempered glass</td>\n",
       "      <td>1</td>\n",
       "      <td>Electronics/Cell Phones &amp; Accessories/Screen P...</td>\n",
       "      <td>No Brand</td>\n",
       "      <td>7.0</td>\n",
       "      <td>1</td>\n",
       "      <td>Brand new free shipping You will get 2 tempere...</td>\n",
       "    </tr>\n",
       "    <tr>\n",
       "      <th>2486</th>\n",
       "      <td>2486</td>\n",
       "      <td>Galaxy S6 Edge Invisible Shield</td>\n",
       "      <td>1</td>\n",
       "      <td>Electronics/Cell Phones &amp; Accessories/Screen P...</td>\n",
       "      <td>No Brand</td>\n",
       "      <td>5.0</td>\n",
       "      <td>1</td>\n",
       "      <td>INVISIBLE SHIELD for Samsung Galaxy S 6 Edge. ...</td>\n",
       "    </tr>\n",
       "    <tr>\n",
       "      <th>2505</th>\n",
       "      <td>2505</td>\n",
       "      <td>Tempered Glass for iPhone 7</td>\n",
       "      <td>1</td>\n",
       "      <td>Electronics/Cell Phones &amp; Accessories/Screen P...</td>\n",
       "      <td>Apple</td>\n",
       "      <td>6.0</td>\n",
       "      <td>1</td>\n",
       "      <td>The screen protector is made of specially proc...</td>\n",
       "    </tr>\n",
       "    <tr>\n",
       "      <th>3500</th>\n",
       "      <td>3500</td>\n",
       "      <td>iPhone 7 plus screen protector glass</td>\n",
       "      <td>1</td>\n",
       "      <td>Electronics/Cell Phones &amp; Accessories/Screen P...</td>\n",
       "      <td>Apple</td>\n",
       "      <td>8.0</td>\n",
       "      <td>1</td>\n",
       "      <td>•TEMPERED GLASS SCREEN PROTECTOR PRIVACY• Avai...</td>\n",
       "    </tr>\n",
       "  </tbody>\n",
       "</table>\n",
       "</div>"
      ],
      "text/plain": [
       "      train_id                                  name  item_condition_id  \\\n",
       "1063      1063      Tempered glass screen protectors                  1   \n",
       "2480      2480          iPhone 6/6s/7 tempered glass                  1   \n",
       "2486      2486       Galaxy S6 Edge Invisible Shield                  1   \n",
       "2505      2505           Tempered Glass for iPhone 7                  1   \n",
       "3500      3500  iPhone 7 plus screen protector glass                  1   \n",
       "\n",
       "                                          category_name brand_name  price  \\\n",
       "1063  Electronics/Cell Phones & Accessories/Screen P...   No Brand    6.0   \n",
       "2480  Electronics/Cell Phones & Accessories/Screen P...   No Brand    7.0   \n",
       "2486  Electronics/Cell Phones & Accessories/Screen P...   No Brand    5.0   \n",
       "2505  Electronics/Cell Phones & Accessories/Screen P...      Apple    6.0   \n",
       "3500  Electronics/Cell Phones & Accessories/Screen P...      Apple    8.0   \n",
       "\n",
       "      shipping                                   item_description  \n",
       "1063         1  New, (3) iPhone 6-6s tempered glass screen pro...  \n",
       "2480         1  Brand new free shipping You will get 2 tempere...  \n",
       "2486         1  INVISIBLE SHIELD for Samsung Galaxy S 6 Edge. ...  \n",
       "2505         1  The screen protector is made of specially proc...  \n",
       "3500         1  •TEMPERED GLASS SCREEN PROTECTOR PRIVACY• Avai...  "
      ]
     },
     "execution_count": 8,
     "metadata": {},
     "output_type": "execute_result"
    }
   ],
   "source": [
    "cat_df.head()"
   ]
  },
  {
   "cell_type": "markdown",
   "metadata": {},
   "source": [
    "### Extract labels"
   ]
  },
  {
   "cell_type": "code",
   "execution_count": 9,
   "metadata": {},
   "outputs": [],
   "source": [
    "import price_classifier\n",
    "# from importlib import reload\n",
    "# reload(price_classifier)"
   ]
  },
  {
   "cell_type": "code",
   "execution_count": 10,
   "metadata": {},
   "outputs": [],
   "source": [
    "pc = price_classifier.PriceClassifier(cat_df, 5)\n",
    "y = pc.extract(cat_df)"
   ]
  },
  {
   "cell_type": "code",
   "execution_count": 11,
   "metadata": {},
   "outputs": [
    {
     "data": {
      "text/plain": [
       "1063     6.0-8.0\n",
       "2480     6.0-8.0\n",
       "2486     5.0-6.0\n",
       "2505     6.0-8.0\n",
       "3500    8.0-10.0\n",
       "dtype: object"
      ]
     },
     "execution_count": 11,
     "metadata": {},
     "output_type": "execute_result"
    }
   ],
   "source": [
    "y.head()"
   ]
  },
  {
   "cell_type": "markdown",
   "metadata": {},
   "source": [
    "### Train & Test split"
   ]
  },
  {
   "cell_type": "code",
   "execution_count": 12,
   "metadata": {},
   "outputs": [],
   "source": [
    "from sklearn.model_selection import train_test_split\n",
    "\n",
    "df_train, df_test, y_train, y_test = train_test_split(cat_df, y, test_size=0.25, random_state=42)"
   ]
  },
  {
   "cell_type": "markdown",
   "metadata": {},
   "source": [
    "### Convert GloVe into word2vec"
   ]
  },
  {
   "cell_type": "code",
   "execution_count": 13,
   "metadata": {},
   "outputs": [],
   "source": [
    "# from gensim.scripts.glove2word2vec import glove2word2vec\n",
    "# glove_input_file = f'{PATH}glove/glove.840B.300d.txt'\n",
    "# word2vec_output_file = f'{PATH}glove/glove.840B.300d.txt.word2vec'\n",
    "# glove2word2vec(glove_input_file, word2vec_output_file)"
   ]
  },
  {
   "cell_type": "markdown",
   "metadata": {},
   "source": [
    "### Load the word2vec model"
   ]
  },
  {
   "cell_type": "code",
   "execution_count": 14,
   "metadata": {},
   "outputs": [],
   "source": [
    "from gensim.models import KeyedVectors\n",
    "\n",
    "# UNCOMMENT ONE OF THE FOLLOWING\n",
    "\n",
    "filename = f'{PATH}glove/glove.6B.100d.txt.word2vec' # GloVe Wikipedia + Gigaword\n",
    "model = KeyedVectors.load_word2vec_format(filename, binary=False)\n",
    "\n",
    "# filename = f'{PATH}glove/glove.6B.300d.txt.word2vec' # GloVe Wikipedia + Gigaword\n",
    "# model = KeyedVectors.load_word2vec_format(filename, binary=False)\n",
    "\n",
    "# filename = f'{PATH}glove/glove.840B.300d.txt.word2vec' # GloVe Common Crowl\n",
    "# model = KeyedVectors.load_word2vec_format(filename, binary=False)\n",
    "\n",
    "\n",
    "# filename = f'{PATH}google/GoogleNews-vectors-negative300.bin'# Google News\n",
    "# model = KeyedVectors.load_word2vec_format(filename, binary=True)"
   ]
  },
  {
   "cell_type": "markdown",
   "metadata": {},
   "source": [
    "### Exctract features"
   ]
  },
  {
   "cell_type": "code",
   "execution_count": 15,
   "metadata": {},
   "outputs": [],
   "source": [
    "pipe = fe.Pipeline(steps=[('base', fe.BaseFeatureExtractor()),\n",
    "                          ('word2vec_item_description', lp.MeanEmbeddingVectorizer(model, df_train, 'item_description')),\n",
    "                          ('word2vec_tokens_name', lp.MeanEmbeddingVectorizer(model, df_train, 'name')),\n",
    "#                           ('stemmed_tokens_item_description', lp.CountVectorizer(df_train, 'item_description', stem=True, normalize=True)),\n",
    "#                           ('stemmed_tokens_name', lp.CountVectorizer(df_train, 'name', stem=True, normalize=True))\n",
    "                         ])"
   ]
  },
  {
   "cell_type": "code",
   "execution_count": 16,
   "metadata": {},
   "outputs": [
    {
     "name": "stdout",
     "output_type": "stream",
     "text": [
      "Extracting features for the training set...\n",
      "Done\n",
      "Extracting features for the test set...\n",
      "Done\n"
     ]
    }
   ],
   "source": [
    "print(\"Extracting features for the training set...\")\n",
    "X_train = pipe.extract_features(df_train)\n",
    "print(\"Done\")\n",
    "print(\"Extracting features for the test set...\")\n",
    "X_test = pipe.extract_features(df_test)\n",
    "print(\"Done\")"
   ]
  },
  {
   "cell_type": "markdown",
   "metadata": {},
   "source": [
    "### Analysis on word embeddings (item_description)"
   ]
  },
  {
   "cell_type": "code",
   "execution_count": 17,
   "metadata": {},
   "outputs": [],
   "source": [
    "voc_set_model = pipe.named_steps['word2vec_item_description'].voc_set_model\n",
    "voc_set_df_train = pipe.named_steps['word2vec_item_description'].voc_set_df_train\n",
    "voc_set_intersect = pipe.named_steps['word2vec_item_description'].voc_set_intersect"
   ]
  },
  {
   "cell_type": "code",
   "execution_count": 18,
   "metadata": {},
   "outputs": [
    {
     "name": "stdout",
     "output_type": "stream",
     "text": [
      "Size of model vocabulary: 400000\n",
      "Size of df_train vocabulary: 1931\n",
      "Size of intersect vocabulary: 1513\n"
     ]
    }
   ],
   "source": [
    "print(\"Size of model vocabulary: {}\".format(len(voc_set_model)))\n",
    "print(\"Size of df_train vocabulary: {}\".format(len(voc_set_df_train)))\n",
    "print(\"Size of intersect vocabulary: {}\".format(len(voc_set_intersect)))"
   ]
  },
  {
   "cell_type": "code",
   "execution_count": 19,
   "metadata": {},
   "outputs": [
    {
     "name": "stdout",
     "output_type": "stream",
     "text": [
      "Intersect vocabulary: {'an', 'out', 'high-definition', \"'m\", 'cute', 'mounted', 'follow', 'fiber', 'tightly', 'about', '~', 'gorilla', 'per', \"'s\", 'maintains', 'slim', '6p', 'assure', 'with', 'firm', 'provided', 'edges', 'healing', '2-3-4', 'lot', '``', 'line', 'gain', 'beautiful', 'wipe', 'update', 'housing', 'our', '7/7', 'classified', 'att', 'great', 'lower', 'model', 'gaps', 'pleasure', 'yet', 'method', 'decal', 'seller', 'works', 'flexibility', '5.', 'happy', 'returned', 'secure', 'polka', 'gadget', 'ipad', 'the', 'wet', 'attention', 'applications', 'self-healing', 'myself', 'inch', 'card', 'typical', 'one', 'easily', 'stamped', 'best', 'user', 'lasting', 'sticker', 'board', 'constructed', 'unit', '24hrs', 'selected', 'contoured', 'following', 'small', 'models', '#', 'through', 'mesh', 'worthy', 'withstand', '2x', 'effective', 'control', 'coated', 'picks', 'zte', '38mm', 'oil', 'cracked', 'clearance', 'unbranded', 'terminator', 'samsung', 'if', 'manual', 'cnc', 'because', 'comes', 'maintaining', 'unscratched', 'choices', 'stuff', 'within', 'display', 'stain', 'strong', 'responsive', 'arrives', 'hd', 'tech', '-5', 'break', 'machine', 'most', 'waste', 'minor', 'saturday', 'mail', 'melds', 'flexible', 'walgreens', 'resistance', 'everything', 'abrasions', 'add', 'alcohol', 'them', 'unaffected', 'include', 'placement', 'panti', 'solid', '6', 'shatter', 'slightly', 'key', 'uv', 'priced', '2-5', '0-2', 'punctures', 'tampered', 'dual', 'nicely', 'drop', 'k10', 'diminish', 'featuring', 'up', 'viewing', '1.', 'smart', 'cricket', 'inside', 'effect', 'taken', 'absorbent', 'orders', 'input', 'motorola', 'shockproof', 'falls', 'hard', 'visibility', '%', 'infused', 'prior', '(', 'team', 'holder', 'wrong', 'order', 'solve', 'purchase', 'or', 'cracks', \"'\", 'dark', 'random', 'pics', 'elastic', 'galaxy', 'powerful', 'due', 'cody', 'bright', 'films', 'cable', '**', 'undisturbed', 'art', 'delicate', 'abrasion', 'me', 'ultra', 'ended', 'different', \"'d\", 'search', 'tab', 'makes', 'scratch', 'stores', 'cuts', 'gifts', '100', 'says', 'layer', 'keeping', 'are', 'turn', 'unlocking', 'adsorption', 'absorber', 'general', 'lens', 'getting', 'screwdrivers', 'expect', 'saved', '3-5', 'bio', 'test', '3x', 'usb', 'independently', 'too', 'precise', '12', 'plenty', 'stick', 'ages', 'protect', 'various', 'knives', 'enjoy', 'apply', 'pieces', 'processing', 'tempering', 'packaged', 'interfere', 'ton', 'provides', 'outer', 'g3', 'shopping', 'phones', 'lightweight', '{', 'visible', 'rate', 'peace', 'cracking', 'correctly', 'down', 'xperia', 'listings', 'work', 'advanced', 'impact', 'long', 'strength', 'both', 's6', 'pic', 'issues', 'head', 'custom', 'restrictive', '360', 'beauty', 'indicate', 'versions', 'nano', 'today', 'updated', 'mirror', 'using', 'unused', 'yellowing', 'glass-like', 'contents', 'angle', 'frustration', 'envelope', 'protective', 'put', 'value', 'time', 'prepare', '10', 'instead', 'specially', 'ft', 'cutout', 'replacements', '|', '3m', 'glitters', 'stock', 'many', 'hdx', 'google', 'static', 'blaze', 'responded', 'resale', 'sizes', 'construction', 'connector', 'now', 'sorry', 'sure', 'read', '5x', 'urethane', 'edition', 'their', 'plastic', 'usability', 'agc', 'pcs', 'we', 'ignore', 'significantly', 'prevention', 'fully', 'x', 'drops', '1x', 'never', 'nature', 'confidence', 'pressure', 'greasy', 'superior', 'but', 'tape', 'm9', 'hit', 'battery', 'idol', 'bumps', '4pm', 'factory', 'shock', 'choose', 'holidays', \"'ll\", 'compatible', '6/6', 'inc', 'cases', 'arrived', 'halo', 'refund', 'durable', 'secondary', 'smartphone', 'providing', 'poor', '0.33', '’', 'optical', 'camera', 'improve', 'chip', 'advantage', 'exquisitely', 'lightning', 'unchanged', 'installed', '$', 'protectors', 'bursting', 'sunday', 'rated', 'went', 'leaves', 'a8', 'personally', '-6', '.3', 'guardian', 'glare', 'when', 'bar', 'kit', 'wholesale', 'neither', 'evo', 'was', 'creates', 'dots', 'online', 'way', 'temper', 'all', 'hq', 'to', 'j5', '4', 'length', 'comment', 'spot', 'adhesive', 'ear', 'skin', 'buy', 'before', 'willing', 'verizon', 'repair', 'impacts', 'highly', '5c', 'edge', 'got', 'on', 'gives', 'home', ':', 'go', 'preserve', 'plus', 'lighting', 'products', 'ensure', 'satin', 'brightness', 'address', 'g2', 'made', 'call', 'original', 'get', 'protected', 'putting', 'onlookers', 'personal', 's8', 'fees', 'reinforce', '9h', 'image', 'ray', 'retina', 'over', 'reinforced', 'glass', \"n't\", 'sensors', 'case', 'sony', 'awesome', 'from', 'deal', 'shocks', 'these', 'completely', 'clear', 'cheap', 'otterbox', 'hesitate', 'guards', 'sale', 'offers', 'damaged', 'much', 'tough', 'damages', 'ask', 'kits', 'sealed', 'extra', 'sticks', 'cup', 'pricing', 'portable', 'squeeze', 'stretch', 'well', 'new', 'body', 'happen', 'delivered', 'proper', 'know', 'r-1', 'lite', 'tags', 'sent', 'messages', 'beveled', 'touch-screen', 'assumes', 'broke', 'means', 's5', 'box', 'christmas', 'worked', 'covers', 'non-slip', 'hey', 'paper', 'smudge', '2-7', 'inspection', '+', 'colorful', 'direct', 'individual', '2.5', 'gift', 'pre-cut', 'by', 'pure', '1', 'color', 'be', 'long-lasting', 'other', 'bag', 'warranty', 'return', '3-4', 'u', 'imported', 'accidentally', 'grit', 'purchasing', 'w', 'another', 'units', 'corners', 'give', 'without', 'pen', 'arrival', 'stay', 'friendly', '3.', 'thanks', 'af', 'stickers', 'came', 'et', 'thickness', 'sheets', 'formulated', 'pretty', 'swab', 'production', '!', 'face', 'two', '36', 'economy', 'purple', 'reinstallation', 'possible', '24', 'comma', 'influence', 'technology', 'fix', 'making', 'than', 'applicator', 'spy', 'water', 'high', 'carbon', 'includes', 'buds', 'oops', '“', 'pro', 'daily', 'wear', 'grease', 'options', 'white', 'crack', 'check', 'come', 'responsiveness', 'shield', 'privacy', 'cost', 'represents', 'description', 'led', 'also', 'handle', 'hours', 'authentic', 'friend', 'simple', 'how', 'sensitive', 'k7', '42', 'else', 'dsi', 'which', 'keep', 'nor', 'pin', 'silver', 'laser', '}', 'area', 'prices', 'heavy', 'high-quality', 'friday', 'sell', 'unless', 'sprint', 'negotiable', 'anything', '-', 'able', 'just', 'good', 'effortlessly', 'buyer', 'glue', 'feeling', 'item', 'so', 'stocking', 'searching', 'created', 'nexus', 'survive', 'full', 'lister', 'version', 'cables', 'watch', 'rugged', 'tracking', 'pushing', 'features', 'leave', 'cut', 'removal', 'class', 'na', 'instant', 'switch', '8', 'individually', 'available', 'absorbing', 'average', 'find', 'five', 'tested', 'ease', 'prevents', 'absorption', 'pred', 'included', 'glitter', 'green', 'sharp', 'in', 'ratings', '.', 'lg', 's', 'blue', 'list', 'nwt', 'precision', 'packages', 'structured', 'gon', \"''\", 'mini', '6x', 'phone', 'cheapest', 'credit', 'such', 'glide', \"'ve\", 'provide', 's3', '35', 'question', 'aqua', 'accentuates', 'each', 'safer', 'sensitivity', 'otter', 'explosion', 'multi', 'dents', 'paramount', 'capacitive', 'applicant', 'resolution', 'degrees', 'm8', 'estimated', 'luxe', 'four', 'rear', 'touch', 'notice', 'special', 'zero', 'longer', 'sold', 'definition', '3', 'ships', 'smudges', 'filter', 'clean', 'htc', 'place', 'show', 'toughest', 'packs', 'market', 'looks', '5s', 'remover', '25g', 'around', 'nearly', 'replacement', 'finish', 'keyboard', 'only', 'reduce', '8h', 'ds', 'smoke', 'squeegee', 'bond', 'did', 'keys', 'guidance', 'a', 'private', 'sets', 'six', 'eliminate', 'enjoyable', 'low', 'carefully', 'backing', 'southern', 'meaning', 'save', 'stronger', 'tools', 'feet', 'damping', 'darken', '5h', 'j', 'edge-to-edge', 'super-strong', 'receiving', 'maintain', 'coating', 'considering', 'speaker', 'want', '***', 'remove', 'still', 'crystal-clear', 'co.', 'premier', 'curved', 'vision', 'separate', 'undesired', 'lcd', 'plz', 'california', 'tpu', '6/7', 'unopened', 'glasses', 'gold', 'wipes', 'seconds', '.1', 'throw', 'results', 'happens', 'day', 'customer', 'piercing', 'stylo', 'ago', 'asking', 'enhanced', 'standard', 'sales', 'gray', '13', 'replace', 'super', 'innovative', 'moto', 'left', '38', 'already', 'responsibility', 'amazing', 'specifications', 'data', 'mailer', 'do', 'digitizer', 'tablet', 'your', '/', 'properly', 'hybrid', 'contaminants', '0.3', 'love', 'worry', 'kind', 'bling', 'maxx', '5', 'naked', 'finished', 'nintendo', 'rid', 'ultra-thin', 'speeds', 'allow', 'install', 'my', 'faceplate', 'interested', 'tray', 'grade', 'anti-', 'safe', 'ebay', 'grip', 'gently', 'unique', 'am', 'ready', 'always', 'thin', 'correct', 'dirt', 'going', 'smoking', 'detachable', 'decode', 'se', 'someone', 'compatibility', 'aquos', 'gilded', 'attaches', 'what', 'protector', 'j7', 'history', 'negotiate', 'snow', 'exceptionally', 'lte', 'forgot', 'guard', 'kindle', 'via', 'feed', 'guaranteed', 'applied', 'mobile', 'scuffs', 'star', 'micro', 'nearest', 'had', 'use', 'fitted', ']', 'and/or', '2', 'opening', 'weight', 'fenix', 'gets', 'tips', 'virtually', 'next', 'brass', 'things', 'shipping', 'suit', 'reserve', 'multiple', 'contact', 'bottle', '0.19', 'not', 'wo', 'liner', 'exclusively', 'm', 'insertion', 'matte', 'feature', 'upon', 'utilizes', 'more', 'breaking', 'guide', 'air', 'cross', 'otherwise', 'mic', 'either', 'it', 'package', 'quick', 'magnetic', 'have', 'panes', 'after', 'stylish', 'across', '1mm', 'japanese', 'security', 'apple', 'affect', 'light', 'fire', 'al', 'chargers', 'final', 'crystal', 'once', 'clarity', 'piece', '5.5', 'that', 'details', 'open', 'transparent', 'comfortably', 'photo', 'price', 'flawless', 'ship', 'attached', 'surface', 'welcome', 'state', 'brand', 'affecting', 'power', 'lights', 'excluding', 'is', 'rose', 'built-in', 'real', 'cover', 'users', 'accounts', 'for', 'while', 'pictures', 'prints', 'traces', 'stylus', 'loss', 'align', 'pixel', 'this', 'delivery', 'shipped', 'blocked', 'intuitive', 'polymer', 'complete', '3rd', 'dropped', '5.9', '5pm', 'g5', 'assurance', 'iphones', 'rude', 'rating', 'fingerprints', '4.7', 'below', '6s', 'quantity', 'world', 'hot', 'bubble', 'functions', 'pack', 'entire', 'rag', 'proprietary', 'breaks', 'guarantee', 'active', 'deliver', '2.', 'suction', 'natural', 'buying', '–', 'rounded', 'ill', 'make', 'bellow', 'let', 'trim', 'comments', 'first', 'complementary', 's4', 're-installation', 'unsure', 'layers', 'paying', 'big', 'fitting', 'touchscreen', '90', 'message', 'impenetrable', 'fit', 'mask', 'will', 'easiest', 'scratched', '3-d', '*', 'eat', 'actual', 'repels', 'droid', 'iridescence', 'application', ';', 'deletion', 'items', 'goal', 'ballistic', 'ipod', 'transparency', 'numbers', 'times', 'has', 'obstructing', 'response', 'bundle', 'returns', 'processed', 'packaging', 'unbeatable', 'arrive', 'less', 'retail', 'alcatel', '”', 'tinted', 'note', 'invisible', '9.7', 'adjustments', 'reliable', '99', 'gravity', 'instructions', '[', 'ensures', 'recommend', 'frame', 'registered', 'curve', 'shatterproof', 'can', 'used', 'liquid', 'anti', 'g4', 'mix', 'electrostatic', '99.9', 'steel', 'ensuring', 'alpha', 'precisely', 'opened', 'been', 'thermoplastic', 'seamlessly', 'lifetime', 'sticky', 'does', 'retails', 'm4', 'no', 'finger', 'stuffer', 'flat', 'proof', 'aligning', 'screen', 'texture', 'offer', 'nosey', 'pencil', 'effectively', 'prep', 'slide', 'cat', 'durability', 'regular', 'dust', 'cutouts', 'even', 'condition', 'helps', 'contain', 'bought', 'usps', '20', 'oils', 'technical', 'burst', 'installation', 'dry', 'discount', 'cleaning', 'against', 'electronic', 'front', '=', 'resistant', 'maximum', 'looking', 'complements', 'supplies', 'perfect', 'red', 'its', 'experience', 'eye', 'macbook', 'brush', 'except', 'yours', 'self', '26', 'film', 'fastest', 'series', 'becasue', 'same', 'revolutionary', 'keywords', 'alternative', 'black', 'size', 'residue', 'number', 'quality', 'cling', 'coupled', 'co', 'you', 'worrying', 'tool', 'part', 'objects', 'outstanding', 'into', 'marks', 'devices', 'excellent', '2.7', 'spray', 'portion', 'three', 'zmax', 'information', 'clot', 'total', 'together', 'military-grade', 'cell', 'tee', 'need', 'between', 'instruction', 'material', 'tear', 'wrap', 'leaving', 'gear', 'avoid', 'microfiber', 'look', 'error', 'deleted', 'appearance', 'comfortable', 'picture', 'reduces', 'accuracy', 'charger', 'transmittance', 'designed', 'listing', 'hrs', 't', 'page', 'allows', 'match', 'z3', 'ups', '1-2', 'peek', 'bubbles', 'ultimate', 'dispersion', 'lowest', '45', 'thank', 'absorb', 'fitbit', 'charge', 'mind', 'thick', 'installers', '...', 'alta', 'thankyou', 'bundles', 'yellow', 'single', 'trusted', 'burlap', 'viewable', 'military', 'continue', 'purchased', 'perfectly', 'like', 'usa', 'iphone', 'snap', 'store', 'colors', 'right', 'scratches', 'fast', 'pay', '12.9', 'build', 'polishing', 'needed', 'excess', 'interference', 'freely', 'towards', 'waterproof', 'choice', 'conditions', 'ios', 'protection', 'play', 'prevent', 'everyone', 'scrapes', 'remains', '7', 'better', 'form', 'round', 'seal', 'minimum', 'questions', 'baa', 'silicone', 'contains', 'selling', 'originally', 'days', 'rm', 'process', 'investment', 'wrapped', 'exactly', 'metal', '98', 'tracked', 'cellphone', 'artifact', 'wonderful', 'side', 'monday', 'pc', 'step', 'of', 'z4', 'off', 'armor', '--', 'at', 'satisfy', 'removing', 'added', 'low-carbon', '11', 'degree', 'screens', 'juice', 'please', 'jayla', 'holes', 'protects', 'mm', 'there', 'patented', 'ultraviolet', 'promises', 'pink', 'they', 'z', 'device', 'hk', 'wish', 'optically', 'satisfaction', 'see', 'received', 'upgrading', 'insuring', 'send', 'holds', 'those', 'business', 'last', 'iq', ',', 'recommended', 'disappear', 'removed', 'discounts', 'luxury', 'profile', '1,2', 'bulk', 'and', 'husbands', 'premium', 's7', 'specifically', 'weekends', 'error-free', 'brown', 'hardness', 'fingers', 'dusting', 'ones', 'several', 'during', 'diamond', 'weekend', 'very', 'preserves', 'obstruct', 'free', 't-mobile', 'point', '3d', 'adhesion', 'physical', 'complement', 'any', 'somes', 'clearing', 'z2', 'upgraded', 'ailun', 'resists', '4x', 'listed', 'responsible', 'ordered', 'shown', 'broken', 'bundling', 'back-up', 'content', 'function', 'radiation', 'coverage', 'chemical', 'help', 'unlike', 'solution', 'design', 'would', 'problem', ')', 'receive', 'therefore', 'destroying', 'merges', 'cloth', 'nanostructured', 'silicon', 'compliments', 'i', 'common', 'pet', '3h', 'keeps', 'astm', 'contour', 'as', 'adhesives', 'whole', 'extreme', 'specification', 'alignment', 'crafted', 'firmly', 'preventing', 'tempered', 'n', 'extremely', 'miss', 'pad', 'fits', 'generation', 'cord', '&', 'behalf', 'applies', 'feel', 'really', 'operation', 'normal', 'computer', 'set', 'environments', 'tag', 'confirm', 'easy', 'sheer', 'button', 'take', 'fingerprint', 'kama', 'us', 'electronics', '180', 'materials', 'damage', 'back', 'realized', 'orange', 'pry', 'numerical', 'website', 'smoke-free', 'brand-new', 'v10', 'smooth', 'self-adhesive', '25', 'ice', '30', 'interactivity', 'variety', 'environment', 'product', 'tablets', 'rainy', 'external', 'supported', 'totally', '9'}\n"
     ]
    }
   ],
   "source": [
    "print(\"Intersect vocabulary: {}\".format(voc_set_intersect))"
   ]
  },
  {
   "cell_type": "code",
   "execution_count": 20,
   "metadata": {},
   "outputs": [
    {
     "name": "stdout",
     "output_type": "stream",
     "text": [
      "Vocabulary that is in df_train but is NOT in model:\n",
      "lentght: 418\n",
      "voc: {'-smooth', '0.26mm', '6/', 'phone-if', '⚡package', 'easy-to-install', '2xdust-absorber', '4.', '5/5s', 'rosegold', '2pcs', '7/iphone', '=hardness', '❤new', 'mini4', '*applicator', 'se/', 'edge.it', '-microfiber', 'plus/6s', '•9h', '.33mm', '✨screen', 'fosmon', 'brandnew', '-advance', '*fingerprint', 'compatible-', 'temperedglass', '•', '*the', '5.easy', 'armorsuit', '3-pack', '7plus', 'gold-gold-shiny', 'plus..', '..', '0.33mm', '✅wet', '9h*', 'frustration-free', '6/6plus', 'iphone4/4s', 'soft-touch', 'included■', 'resiliant', '~brand', '✅glass', '6+/6s+', '1xalcohol', 'phone*******', '~super', 'shipping⚡️', 'lint-free', '**phone', '2-pack', '6.', '5/5s/5c', 'case-friendly', 'ultra-clear', '*************', 'cracking‼️', '-extra', '-0.26mm', 'quantities¶', '6/6+', 'piexes', 'treates', 'scratch/', 'nani16', 'illumishield', 'one-push', 'wear-and-tear', '**fast', 'protecter', 'skinomi', 'case.4', 'chemicaily', 'iwatch', '•self', '1-pack', '8-9h', '-screen', 'militaryshield', 'anti-glare', 'self-adhering', 'site/premium', '-easy', '6-6s', 'instructionsinnovative', '❤', '***make', 'shatter-safe', 'anit-shatter', 'filmclassified', 'stalion®', '-self-healing', '*cleaning', '•nano', '-the', 'chip，therefore', 'nano-plated', '*easy', '⚡️all', '-zero-residue', 'anti-scratch', 'tracking••', 'd3363', '2packs', 'plus,6s', 'scren', 'ultra-slim', 'anti-blue', '6/6s', 's5/s6/s6', '-dust', '3pack', 'air-air', '•explosion-proof', '6s/iphone', '5/5s/5c/se', 'material-', 'w/wet/dry', 'privary', 'bodyguardz', 'compatiable', 'hotbin', '*.33', '✅retail', 'glass,9h', 'guarenteed', '3×', '-scratch', '*when', '0.2mm', 'flipcase', 'note4/5/galaxy', '*free', 'willnot', '⬅️', '-you', 'g3/', 'shatterguard', '••fast', 'mothca', 'screens*', '•no', 'easiy', '-surface', '-package', 'air2', 'matte/anti-glare', '-glass', 'used/opened', 'g5,9h', 'uv-resistant', 'plus/7', '☆', 'matteskin', '•shatter', '=oil', '6-pack', '1/2/3,9h', 'anti-fingerprints', 'compatiblity', '•hd', '♠️scratch', '2xtwo', '6splus', 'play,9h', '✅dust', '✨', '2×', '*space', 'wet-install', '-no', '■no', 'antibubble', '•only', 'newstyle', '•••', '.cleansing', 'iphone5/5s/6/6plus/7/7plus', 'film-', 'temperd', '42mm', 'iphone7', 'yorur', 'anti-spy', '♥️policy♥️if', 'plus/', 'save❤❤', 'wet/dry', '3pcs', 'protectors-unused', 'w/tracking', 'n7100', 'anti-shattered', 'bubble-free', '1-take', '*non', 's4/5/6/7', '×3', '*keeps', '4.unobstructed', '*no', 'save*', '-alcohol', '•tempered', 'black-silver', '*bundle', 'anti-oil', 'militaryshield®', 'protecters', 'dry/wet', '✅guide', 'glass/without', 'monday**', '1×hard', '**after', ',3x', 'hardness,2.5d', '7+', '•silicone', '***i', '1pcs', 'anti-fingerprint', '-top', '0.3mm', '6/6s/7', 'j2cc', '⭐️check', 'offers~', '-shatter', 'iphone5/5s/5c/6/6s/6plus/7/7plus', 'oil-resistant', '14.9cm', 'polished,2.5d', 'j7,2.5d', '*for', 'anti-peeping', 'stain-proof', 'oleophobic', '⭐️', '•delicate', 'smoothy.it', 'application/removal', '6/7/6s', '1xretail', 'highly-sensitive', '.drying', 'skinomi®', '✅if', '-custom', 'shield®', 'active/', '-high', '➜', '3pk', '♡', '/6s/7', '-does', 'anti-uv', '‼️', 'inch/ipad', 'home*', '.dust', '6\\\\6s', 'shock-resistant', 'fingerprint-free', '6-iphone', 'friendly-siania', '♠️anti', '-ultra', 'water-proof', 'radiaetion', '-impact', '•oleophobic', '*******does', 'glass+', 'dust-absorber', 's8+', '***bundle', '******', 'liquidskin', 'powerxcel', '=sleek', '5inch', '*crystal', 'earpod', '5/5c/5s', '-we', 'w/', '•dust-free', 'yootech', 'rjv', '-iphone', '2015-release', '❗️❗️❗️listing', 'scractches.it', '6-', '-find', '6.9cm', '7/7plus', 'non-screen', '~oil', '/iphone', 'anti-bubble', '2pack', '‼️it', 'cleophobic', '-cleaning', 'sync/charging', 'ofscreen', 'self-heal', 'included**', '➡️', '6pack', 'shademe', '*phond', '/7', '6plus', '*i', '✨only', 'supershieldz', '4.sensitive', '1×alcohol', '6/6plus/7/7plus', 'mizoo', '1*360', '*purchase', '6+', '+clean', 'tech21', '•bubble', 'v10/', 'scratch-resistant', '¶see', 'hassle-free', '9-h', 'plusp', '*tempered', '5/5s/5c/se/6/6s/7/', 'sync/charger', '6s/6s', '-9h', '❌no', '1×cleaning', 'screeun', 'non-sticky', '•the', 'clear,98', 'anti-broken', '*not', '0.30mm', '/6s', '~fits', 'fontar', '•comes', '6/iphone', 'amaizing', 'non-adhesive', 'true-to-form', 'deviceunlike', 'zagg', '1×', '6/6+/7/7+', '6s❗️❗️❗️', 'easy-installation', 'shipping✅', 'non-yellowing', 'plus/iphone', '5/5s/se', '•package', '♠️9h', '✅', '2.5d', '+glass', 'purchasing***', 'anti-shatter', '2xglass', 'cleaner+', 'anti-slip', '-scratch-proof', 'ivoler', 'shatter-proof', 'shipping.✨✨', '6s+', 'anti-yellowing', 'plus|', '4/4s', 'dust-free', '5/5s/5c/se/6/6s/6', 'mercaris', 'error-proof', 'hope/kind', 'coatedwith', 'package/order', 's6/s7', '⚡️fast', '✅available', '____________________________________________________________', '**item', '-anti-shatter', '-perfect', '*real', '♠️oleophobic', 'shatter-resistant', 'techskin', 'air/ipad', '1×film', '*2.5d', 'antiglare', '*fast', '✨✨', '•ultra-thin', '4.the'}\n"
     ]
    }
   ],
   "source": [
    "voc_diff = voc_set_df_train.difference(voc_set_model)\n",
    "print(\"Vocabulary that is in df_train but is NOT in model:\\nlentght: {}\\nvoc: {}\".format(len(voc_diff), voc_diff))"
   ]
  },
  {
   "cell_type": "markdown",
   "metadata": {},
   "source": [
    "### Random Forest"
   ]
  },
  {
   "cell_type": "code",
   "execution_count": 21,
   "metadata": {},
   "outputs": [
    {
     "data": {
      "text/plain": [
       "RandomForestClassifier(bootstrap=True, class_weight=None, criterion='gini',\n",
       "            max_depth=50, max_features='auto', max_leaf_nodes=None,\n",
       "            min_impurity_decrease=0.0, min_impurity_split=None,\n",
       "            min_samples_leaf=1, min_samples_split=2,\n",
       "            min_weight_fraction_leaf=0.0, n_estimators=100, n_jobs=None,\n",
       "            oob_score=False, random_state=0, verbose=0, warm_start=False)"
      ]
     },
     "execution_count": 21,
     "metadata": {},
     "output_type": "execute_result"
    }
   ],
   "source": [
    "from sklearn.ensemble import RandomForestClassifier\n",
    "\n",
    "clf = RandomForestClassifier(n_estimators=100,\n",
    "                             max_depth=50,\n",
    "                             min_samples_leaf=1,\n",
    "                             random_state=0\n",
    "                            )\n",
    "clf.fit(X_train, y_train)"
   ]
  },
  {
   "cell_type": "code",
   "execution_count": 22,
   "metadata": {},
   "outputs": [],
   "source": [
    "pred_train = clf.predict(X_train)\n",
    "pred_test = clf.predict(X_test)"
   ]
  },
  {
   "cell_type": "code",
   "execution_count": 23,
   "metadata": {},
   "outputs": [
    {
     "name": "stdout",
     "output_type": "stream",
     "text": [
      "Train accuracy:  0.9919454770755886\n",
      "Test accuracy:  0.5483271375464684\n"
     ]
    }
   ],
   "source": [
    "from sklearn.metrics import accuracy_score\n",
    "\n",
    "acc_train = accuracy_score(y_train, pred_train)\n",
    "print('Train accuracy: ', acc_train)\n",
    "\n",
    "acc_test = accuracy_score(y_test, pred_test)\n",
    "print('Test accuracy: ', acc_test)"
   ]
  },
  {
   "cell_type": "markdown",
   "metadata": {},
   "source": [
    "# Naive algorithm: predicting average of the class"
   ]
  },
  {
   "cell_type": "code",
   "execution_count": 24,
   "metadata": {},
   "outputs": [],
   "source": [
    "mode = y_train.mode()\n",
    "\n",
    "pred_train_naive = y_train.copy()\n",
    "pred_test_naive = y_test.copy()\n",
    "pred_train_naive.loc[:] = mode.values[0]\n",
    "pred_test_naive.loc[:] = mode.values[0]"
   ]
  },
  {
   "cell_type": "code",
   "execution_count": 25,
   "metadata": {},
   "outputs": [
    {
     "name": "stdout",
     "output_type": "stream",
     "text": [
      "Naive train accuracy:  0.29120198265179675\n",
      "Naive test accuracy:  0.2732342007434944\n"
     ]
    }
   ],
   "source": [
    "print('Naive train accuracy: ', accuracy_score(y_train, pred_train_naive))\n",
    "print('Naive test accuracy: ', accuracy_score(y_test, pred_test_naive))"
   ]
  },
  {
   "cell_type": "code",
   "execution_count": null,
   "metadata": {},
   "outputs": [],
   "source": []
  },
  {
   "cell_type": "code",
   "execution_count": 26,
   "metadata": {},
   "outputs": [],
   "source": [
    "# from importlib import reload\n",
    "# fe = reload(fe)\n",
    "# lp = reload(lp)"
   ]
  },
  {
   "cell_type": "code",
   "execution_count": null,
   "metadata": {},
   "outputs": [],
   "source": []
  }
 ],
 "metadata": {
  "kernelspec": {
   "display_name": "Python 3",
   "language": "python",
   "name": "python3"
  },
  "language_info": {
   "codemirror_mode": {
    "name": "ipython",
    "version": 3
   },
   "file_extension": ".py",
   "mimetype": "text/x-python",
   "name": "python",
   "nbconvert_exporter": "python",
   "pygments_lexer": "ipython3",
   "version": "3.7.0"
  }
 },
 "nbformat": 4,
 "nbformat_minor": 2
}
