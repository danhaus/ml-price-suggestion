{
 "cells": [
  {
   "cell_type": "code",
   "execution_count": 1,
   "metadata": {},
   "outputs": [
    {
     "name": "stdout",
     "output_type": "stream",
     "text": [
      "Requirement already satisfied: nbresuse in /Users/daniel/anaconda3/lib/python3.7/site-packages (0.3.0)\n",
      "Requirement already satisfied: psutil in /Users/daniel/anaconda3/lib/python3.7/site-packages (from nbresuse) (5.4.7)\n",
      "Requirement already satisfied: notebook in /Users/daniel/anaconda3/lib/python3.7/site-packages (from nbresuse) (5.6.0)\n",
      "Requirement already satisfied: nbformat in /Users/daniel/anaconda3/lib/python3.7/site-packages (from notebook->nbresuse) (4.4.0)\n",
      "Requirement already satisfied: nbconvert in /Users/daniel/anaconda3/lib/python3.7/site-packages (from notebook->nbresuse) (5.4.0)\n",
      "Requirement already satisfied: pyzmq>=17 in /Users/daniel/anaconda3/lib/python3.7/site-packages (from notebook->nbresuse) (17.1.2)\n",
      "Requirement already satisfied: traitlets>=4.2.1 in /Users/daniel/anaconda3/lib/python3.7/site-packages (from notebook->nbresuse) (4.3.2)\n",
      "Requirement already satisfied: jupyter-client>=5.2.0 in /Users/daniel/anaconda3/lib/python3.7/site-packages (from notebook->nbresuse) (5.2.3)\n",
      "Requirement already satisfied: Send2Trash in /Users/daniel/anaconda3/lib/python3.7/site-packages (from notebook->nbresuse) (1.5.0)\n",
      "Requirement already satisfied: tornado>=4 in /Users/daniel/anaconda3/lib/python3.7/site-packages (from notebook->nbresuse) (5.1)\n",
      "Requirement already satisfied: ipython-genutils in /Users/daniel/anaconda3/lib/python3.7/site-packages (from notebook->nbresuse) (0.2.0)\n",
      "Requirement already satisfied: prometheus-client in /Users/daniel/anaconda3/lib/python3.7/site-packages (from notebook->nbresuse) (0.3.1)\n",
      "Requirement already satisfied: terminado>=0.8.1 in /Users/daniel/anaconda3/lib/python3.7/site-packages (from notebook->nbresuse) (0.8.1)\n",
      "Requirement already satisfied: ipykernel in /Users/daniel/anaconda3/lib/python3.7/site-packages (from notebook->nbresuse) (4.9.0)\n",
      "Requirement already satisfied: jupyter-core>=4.4.0 in /Users/daniel/anaconda3/lib/python3.7/site-packages (from notebook->nbresuse) (4.4.0)\n",
      "Requirement already satisfied: jinja2 in /Users/daniel/anaconda3/lib/python3.7/site-packages (from notebook->nbresuse) (2.10)\n",
      "Requirement already satisfied: jsonschema!=2.5.0,>=2.4 in /Users/daniel/anaconda3/lib/python3.7/site-packages (from nbformat->notebook->nbresuse) (2.6.0)\n",
      "Requirement already satisfied: mistune>=0.8.1 in /Users/daniel/anaconda3/lib/python3.7/site-packages (from nbconvert->notebook->nbresuse) (0.8.3)\n",
      "Requirement already satisfied: pygments in /Users/daniel/anaconda3/lib/python3.7/site-packages (from nbconvert->notebook->nbresuse) (2.2.0)\n",
      "Requirement already satisfied: entrypoints>=0.2.2 in /Users/daniel/anaconda3/lib/python3.7/site-packages (from nbconvert->notebook->nbresuse) (0.2.3)\n",
      "Requirement already satisfied: bleach in /Users/daniel/anaconda3/lib/python3.7/site-packages (from nbconvert->notebook->nbresuse) (2.1.4)\n",
      "Requirement already satisfied: pandocfilters>=1.4.1 in /Users/daniel/anaconda3/lib/python3.7/site-packages (from nbconvert->notebook->nbresuse) (1.4.2)\n",
      "Requirement already satisfied: testpath in /Users/daniel/anaconda3/lib/python3.7/site-packages (from nbconvert->notebook->nbresuse) (0.3.1)\n",
      "Requirement already satisfied: defusedxml in /Users/daniel/anaconda3/lib/python3.7/site-packages (from nbconvert->notebook->nbresuse) (0.5.0)\n",
      "Requirement already satisfied: decorator in /Users/daniel/anaconda3/lib/python3.7/site-packages (from traitlets>=4.2.1->notebook->nbresuse) (4.3.0)\n",
      "Requirement already satisfied: six in /Users/daniel/anaconda3/lib/python3.7/site-packages (from traitlets>=4.2.1->notebook->nbresuse) (1.11.0)\n",
      "Requirement already satisfied: python-dateutil>=2.1 in /Users/daniel/anaconda3/lib/python3.7/site-packages (from jupyter-client>=5.2.0->notebook->nbresuse) (2.7.3)\n",
      "Requirement already satisfied: ipython>=4.0.0 in /Users/daniel/anaconda3/lib/python3.7/site-packages (from ipykernel->notebook->nbresuse) (6.5.0)\n",
      "Requirement already satisfied: MarkupSafe>=0.23 in /Users/daniel/anaconda3/lib/python3.7/site-packages (from jinja2->notebook->nbresuse) (1.0)\n",
      "Requirement already satisfied: html5lib!=1.0b1,!=1.0b2,!=1.0b3,!=1.0b4,!=1.0b5,!=1.0b6,!=1.0b7,!=1.0b8,>=0.99999999pre in /Users/daniel/anaconda3/lib/python3.7/site-packages (from bleach->nbconvert->notebook->nbresuse) (1.0.1)\n",
      "Requirement already satisfied: setuptools>=18.5 in /Users/daniel/anaconda3/lib/python3.7/site-packages (from ipython>=4.0.0->ipykernel->notebook->nbresuse) (40.2.0)\n",
      "Requirement already satisfied: backcall in /Users/daniel/anaconda3/lib/python3.7/site-packages (from ipython>=4.0.0->ipykernel->notebook->nbresuse) (0.1.0)\n",
      "Requirement already satisfied: pexpect; sys_platform != \"win32\" in /Users/daniel/anaconda3/lib/python3.7/site-packages (from ipython>=4.0.0->ipykernel->notebook->nbresuse) (4.6.0)\n",
      "Requirement already satisfied: simplegeneric>0.8 in /Users/daniel/anaconda3/lib/python3.7/site-packages (from ipython>=4.0.0->ipykernel->notebook->nbresuse) (0.8.1)\n",
      "Requirement already satisfied: jedi>=0.10 in /Users/daniel/anaconda3/lib/python3.7/site-packages (from ipython>=4.0.0->ipykernel->notebook->nbresuse) (0.12.1)\n",
      "Requirement already satisfied: prompt-toolkit<2.0.0,>=1.0.15 in /Users/daniel/anaconda3/lib/python3.7/site-packages (from ipython>=4.0.0->ipykernel->notebook->nbresuse) (1.0.15)\n",
      "Requirement already satisfied: pickleshare in /Users/daniel/anaconda3/lib/python3.7/site-packages (from ipython>=4.0.0->ipykernel->notebook->nbresuse) (0.7.4)\n",
      "Requirement already satisfied: appnope; sys_platform == \"darwin\" in /Users/daniel/anaconda3/lib/python3.7/site-packages (from ipython>=4.0.0->ipykernel->notebook->nbresuse) (0.1.0)\n",
      "Requirement already satisfied: webencodings in /Users/daniel/anaconda3/lib/python3.7/site-packages (from html5lib!=1.0b1,!=1.0b2,!=1.0b3,!=1.0b4,!=1.0b5,!=1.0b6,!=1.0b7,!=1.0b8,>=0.99999999pre->bleach->nbconvert->notebook->nbresuse) (0.5.1)\n",
      "Requirement already satisfied: ptyprocess>=0.5 in /Users/daniel/anaconda3/lib/python3.7/site-packages (from pexpect; sys_platform != \"win32\"->ipython>=4.0.0->ipykernel->notebook->nbresuse) (0.6.0)\n",
      "Requirement already satisfied: parso>=0.3.0 in /Users/daniel/anaconda3/lib/python3.7/site-packages (from jedi>=0.10->ipython>=4.0.0->ipykernel->notebook->nbresuse) (0.3.1)\n",
      "Requirement already satisfied: wcwidth in /Users/daniel/anaconda3/lib/python3.7/site-packages (from prompt-toolkit<2.0.0,>=1.0.15->ipython>=4.0.0->ipykernel->notebook->nbresuse) (0.1.7)\n",
      "Requirement already satisfied: tqdm in /Users/daniel/anaconda3/lib/python3.7/site-packages (4.26.0)\n",
      "Requirement already satisfied: pandas in /Users/daniel/anaconda3/lib/python3.7/site-packages (0.23.4)\n",
      "Requirement already satisfied: numpy in /Users/daniel/anaconda3/lib/python3.7/site-packages (1.15.1)\n",
      "Requirement already satisfied: sklearn in /Users/daniel/anaconda3/lib/python3.7/site-packages (0.0)\n",
      "Requirement already satisfied: python-dateutil>=2.5.0 in /Users/daniel/anaconda3/lib/python3.7/site-packages (from pandas) (2.7.3)\n",
      "Requirement already satisfied: pytz>=2011k in /Users/daniel/anaconda3/lib/python3.7/site-packages (from pandas) (2018.5)\n",
      "Requirement already satisfied: scikit-learn in /Users/daniel/anaconda3/lib/python3.7/site-packages (from sklearn) (0.19.2)\n",
      "Requirement already satisfied: six>=1.5 in /Users/daniel/anaconda3/lib/python3.7/site-packages (from python-dateutil>=2.5.0->pandas) (1.11.0)\n"
     ]
    }
   ],
   "source": [
    "# memory usage for jupyter\n",
    "!pip install nbresuse\n",
    "# progress bar\n",
    "!pip install tqdm\n",
    "# other libraries\n",
    "!pip install pandas numpy sklearn"
   ]
  },
  {
   "cell_type": "code",
   "execution_count": 2,
   "metadata": {},
   "outputs": [],
   "source": [
    "import numpy as np\n",
    "import pandas as pd"
   ]
  },
  {
   "cell_type": "markdown",
   "metadata": {},
   "source": [
    "# Settings"
   ]
  },
  {
   "cell_type": "code",
   "execution_count": 3,
   "metadata": {},
   "outputs": [],
   "source": [
    "settings = { \n",
    "            'data_size': None, # size of data subset after shuffle is performed\n",
    "            'test_size': 0.25, # fraction of data set to be assigned as test data\n",
    "            'save_env': False, # save environment\n",
    "            'del': True, # Delete variables that are no longer needed to proceed in computations to save place\n",
    "            'filename_str': 'learning_curve.csv', # File for saving training and test RMSEs, this is appended to current date string (yymmdd)\n",
    "            'learning_curve': { # parameters to generate learning_curve\n",
    "                'start': int(5e4), # training set start size (including)\n",
    "                'stop': int(1e6 + 2.5e4), # traing set stop size (excluding)\n",
    "                'step': int(2.5e4)  # increase between iterations\n",
    "#                 'start': int(5e1), # training set start size (including)\n",
    "#                 'stop': int(1e3 + 2.5e1), # traing set stop size (excluding)\n",
    "#                 'step': int(2.5e1)  # increase between iterations\n",
    "                              },\n",
    "            'random_state': { # Set random states so that the results are repeatable\n",
    "                'shuffle': 42, # sklearn's shuffle method\n",
    "                'split': 17 # sklearn's train_test_split method\n",
    "            }\n",
    "           }"
   ]
  },
  {
   "cell_type": "markdown",
   "metadata": {},
   "source": [
    "# Load Data: load dataset, shuffle it and take subset"
   ]
  },
  {
   "cell_type": "code",
   "execution_count": 4,
   "metadata": {},
   "outputs": [],
   "source": [
    "PATH = \"../../../data/\""
   ]
  },
  {
   "cell_type": "code",
   "execution_count": 5,
   "metadata": {},
   "outputs": [],
   "source": [
    "data_full = pd.read_csv(f'{PATH}train.tsv', sep='\\t')"
   ]
  },
  {
   "cell_type": "code",
   "execution_count": 6,
   "metadata": {},
   "outputs": [
    {
     "data": {
      "text/html": [
       "<div>\n",
       "<style scoped>\n",
       "    .dataframe tbody tr th:only-of-type {\n",
       "        vertical-align: middle;\n",
       "    }\n",
       "\n",
       "    .dataframe tbody tr th {\n",
       "        vertical-align: top;\n",
       "    }\n",
       "\n",
       "    .dataframe thead th {\n",
       "        text-align: right;\n",
       "    }\n",
       "</style>\n",
       "<table border=\"1\" class=\"dataframe\">\n",
       "  <thead>\n",
       "    <tr style=\"text-align: right;\">\n",
       "      <th></th>\n",
       "      <th>train_id</th>\n",
       "      <th>name</th>\n",
       "      <th>item_condition_id</th>\n",
       "      <th>category_name</th>\n",
       "      <th>brand_name</th>\n",
       "      <th>price</th>\n",
       "      <th>shipping</th>\n",
       "      <th>item_description</th>\n",
       "    </tr>\n",
       "  </thead>\n",
       "  <tbody>\n",
       "    <tr>\n",
       "      <th>0</th>\n",
       "      <td>0</td>\n",
       "      <td>MLB Cincinnati Reds T Shirt Size XL</td>\n",
       "      <td>3</td>\n",
       "      <td>Men/Tops/T-shirts</td>\n",
       "      <td>NaN</td>\n",
       "      <td>10.0</td>\n",
       "      <td>1</td>\n",
       "      <td>No description yet</td>\n",
       "    </tr>\n",
       "    <tr>\n",
       "      <th>1</th>\n",
       "      <td>1</td>\n",
       "      <td>Razer BlackWidow Chroma Keyboard</td>\n",
       "      <td>3</td>\n",
       "      <td>Electronics/Computers &amp; Tablets/Components &amp; P...</td>\n",
       "      <td>Razer</td>\n",
       "      <td>52.0</td>\n",
       "      <td>0</td>\n",
       "      <td>This keyboard is in great condition and works ...</td>\n",
       "    </tr>\n",
       "    <tr>\n",
       "      <th>2</th>\n",
       "      <td>2</td>\n",
       "      <td>AVA-VIV Blouse</td>\n",
       "      <td>1</td>\n",
       "      <td>Women/Tops &amp; Blouses/Blouse</td>\n",
       "      <td>Target</td>\n",
       "      <td>10.0</td>\n",
       "      <td>1</td>\n",
       "      <td>Adorable top with a hint of lace and a key hol...</td>\n",
       "    </tr>\n",
       "    <tr>\n",
       "      <th>3</th>\n",
       "      <td>3</td>\n",
       "      <td>Leather Horse Statues</td>\n",
       "      <td>1</td>\n",
       "      <td>Home/Home Décor/Home Décor Accents</td>\n",
       "      <td>NaN</td>\n",
       "      <td>35.0</td>\n",
       "      <td>1</td>\n",
       "      <td>New with tags. Leather horses. Retail for [rm]...</td>\n",
       "    </tr>\n",
       "    <tr>\n",
       "      <th>4</th>\n",
       "      <td>4</td>\n",
       "      <td>24K GOLD plated rose</td>\n",
       "      <td>1</td>\n",
       "      <td>Women/Jewelry/Necklaces</td>\n",
       "      <td>NaN</td>\n",
       "      <td>44.0</td>\n",
       "      <td>0</td>\n",
       "      <td>Complete with certificate of authenticity</td>\n",
       "    </tr>\n",
       "  </tbody>\n",
       "</table>\n",
       "</div>"
      ],
      "text/plain": [
       "   train_id                                 name  item_condition_id  \\\n",
       "0         0  MLB Cincinnati Reds T Shirt Size XL                  3   \n",
       "1         1     Razer BlackWidow Chroma Keyboard                  3   \n",
       "2         2                       AVA-VIV Blouse                  1   \n",
       "3         3                Leather Horse Statues                  1   \n",
       "4         4                 24K GOLD plated rose                  1   \n",
       "\n",
       "                                       category_name brand_name  price  \\\n",
       "0                                  Men/Tops/T-shirts        NaN   10.0   \n",
       "1  Electronics/Computers & Tablets/Components & P...      Razer   52.0   \n",
       "2                        Women/Tops & Blouses/Blouse     Target   10.0   \n",
       "3                 Home/Home Décor/Home Décor Accents        NaN   35.0   \n",
       "4                            Women/Jewelry/Necklaces        NaN   44.0   \n",
       "\n",
       "   shipping                                   item_description  \n",
       "0         1                                 No description yet  \n",
       "1         0  This keyboard is in great condition and works ...  \n",
       "2         1  Adorable top with a hint of lace and a key hol...  \n",
       "3         1  New with tags. Leather horses. Retail for [rm]...  \n",
       "4         0          Complete with certificate of authenticity  "
      ]
     },
     "execution_count": 6,
     "metadata": {},
     "output_type": "execute_result"
    }
   ],
   "source": [
    "data_full.head()"
   ]
  },
  {
   "cell_type": "code",
   "execution_count": 7,
   "metadata": {},
   "outputs": [
    {
     "data": {
      "text/plain": [
       "1482535"
      ]
     },
     "execution_count": 7,
     "metadata": {},
     "output_type": "execute_result"
    }
   ],
   "source": [
    "len(data_full)"
   ]
  },
  {
   "cell_type": "code",
   "execution_count": 8,
   "metadata": {},
   "outputs": [],
   "source": [
    "from sklearn.utils import shuffle\n",
    "data_shuffled = shuffle(data_full, random_state=settings['random_state']['shuffle'])"
   ]
  },
  {
   "cell_type": "code",
   "execution_count": 9,
   "metadata": {},
   "outputs": [],
   "source": [
    "if (settings['del']):\n",
    "    del data_full"
   ]
  },
  {
   "cell_type": "code",
   "execution_count": 10,
   "metadata": {},
   "outputs": [],
   "source": [
    "data = data_shuffled.iloc[:settings['data_size'], :]"
   ]
  },
  {
   "cell_type": "code",
   "execution_count": 11,
   "metadata": {},
   "outputs": [],
   "source": [
    "if (settings['del']):\n",
    "    del data_shuffled"
   ]
  },
  {
   "cell_type": "code",
   "execution_count": 12,
   "metadata": {},
   "outputs": [
    {
     "data": {
      "text/plain": [
       "1482535"
      ]
     },
     "execution_count": 12,
     "metadata": {},
     "output_type": "execute_result"
    }
   ],
   "source": [
    "len(data)"
   ]
  },
  {
   "cell_type": "code",
   "execution_count": 13,
   "metadata": {},
   "outputs": [
    {
     "data": {
      "text/html": [
       "<div>\n",
       "<style scoped>\n",
       "    .dataframe tbody tr th:only-of-type {\n",
       "        vertical-align: middle;\n",
       "    }\n",
       "\n",
       "    .dataframe tbody tr th {\n",
       "        vertical-align: top;\n",
       "    }\n",
       "\n",
       "    .dataframe thead th {\n",
       "        text-align: right;\n",
       "    }\n",
       "</style>\n",
       "<table border=\"1\" class=\"dataframe\">\n",
       "  <thead>\n",
       "    <tr style=\"text-align: right;\">\n",
       "      <th></th>\n",
       "      <th>train_id</th>\n",
       "      <th>name</th>\n",
       "      <th>item_condition_id</th>\n",
       "      <th>category_name</th>\n",
       "      <th>brand_name</th>\n",
       "      <th>price</th>\n",
       "      <th>shipping</th>\n",
       "      <th>item_description</th>\n",
       "    </tr>\n",
       "  </thead>\n",
       "  <tbody>\n",
       "    <tr>\n",
       "      <th>777341</th>\n",
       "      <td>777341</td>\n",
       "      <td>F/ship 4 Totoro Washi + 1 pen</td>\n",
       "      <td>1</td>\n",
       "      <td>Handmade/Paper Goods/Stationery</td>\n",
       "      <td>NaN</td>\n",
       "      <td>12.0</td>\n",
       "      <td>1</td>\n",
       "      <td>This listing is for all 4 Totoro washi tape fo...</td>\n",
       "    </tr>\n",
       "    <tr>\n",
       "      <th>1463629</th>\n",
       "      <td>1463629</td>\n",
       "      <td>UCLA Men's Bundle + Shorts</td>\n",
       "      <td>1</td>\n",
       "      <td>Women/Other/Other</td>\n",
       "      <td>Adidas</td>\n",
       "      <td>76.0</td>\n",
       "      <td>1</td>\n",
       "      <td>7 items. 1: XL. 2: 2XL. 3:2XL. 4: XL. 5: 2XL. ...</td>\n",
       "    </tr>\n",
       "    <tr>\n",
       "      <th>350669</th>\n",
       "      <td>350669</td>\n",
       "      <td>Listing for lol</td>\n",
       "      <td>1</td>\n",
       "      <td>Beauty/Makeup/Lips</td>\n",
       "      <td>NaN</td>\n",
       "      <td>12.0</td>\n",
       "      <td>1</td>\n",
       "      <td>- sunglasses and necklace :)</td>\n",
       "    </tr>\n",
       "    <tr>\n",
       "      <th>310222</th>\n",
       "      <td>310222</td>\n",
       "      <td>25 pcs kawaii sticker flakes</td>\n",
       "      <td>1</td>\n",
       "      <td>Kids/Toys/Arts &amp; Crafts</td>\n",
       "      <td>NaN</td>\n",
       "      <td>3.0</td>\n",
       "      <td>1</td>\n",
       "      <td>I ordered a bunch of stickers so you will reci...</td>\n",
       "    </tr>\n",
       "    <tr>\n",
       "      <th>759257</th>\n",
       "      <td>759257</td>\n",
       "      <td>Chanel Mini Lipgloss Set</td>\n",
       "      <td>2</td>\n",
       "      <td>Beauty/Makeup/Lips</td>\n",
       "      <td>Chanel</td>\n",
       "      <td>30.0</td>\n",
       "      <td>1</td>\n",
       "      <td>Brand new never used authentic Mini Lipgloss g...</td>\n",
       "    </tr>\n",
       "  </tbody>\n",
       "</table>\n",
       "</div>"
      ],
      "text/plain": [
       "         train_id                           name  item_condition_id  \\\n",
       "777341     777341  F/ship 4 Totoro Washi + 1 pen                  1   \n",
       "1463629   1463629     UCLA Men's Bundle + Shorts                  1   \n",
       "350669     350669                Listing for lol                  1   \n",
       "310222     310222   25 pcs kawaii sticker flakes                  1   \n",
       "759257     759257       Chanel Mini Lipgloss Set                  2   \n",
       "\n",
       "                           category_name brand_name  price  shipping  \\\n",
       "777341   Handmade/Paper Goods/Stationery        NaN   12.0         1   \n",
       "1463629                Women/Other/Other     Adidas   76.0         1   \n",
       "350669                Beauty/Makeup/Lips        NaN   12.0         1   \n",
       "310222           Kids/Toys/Arts & Crafts        NaN    3.0         1   \n",
       "759257                Beauty/Makeup/Lips     Chanel   30.0         1   \n",
       "\n",
       "                                          item_description  \n",
       "777341   This listing is for all 4 Totoro washi tape fo...  \n",
       "1463629  7 items. 1: XL. 2: 2XL. 3:2XL. 4: XL. 5: 2XL. ...  \n",
       "350669                        - sunglasses and necklace :)  \n",
       "310222   I ordered a bunch of stickers so you will reci...  \n",
       "759257   Brand new never used authentic Mini Lipgloss g...  "
      ]
     },
     "execution_count": 13,
     "metadata": {},
     "output_type": "execute_result"
    }
   ],
   "source": [
    "data.head()"
   ]
  },
  {
   "cell_type": "markdown",
   "metadata": {},
   "source": [
    "# Data preparation"
   ]
  },
  {
   "cell_type": "markdown",
   "metadata": {},
   "source": [
    "## Item Category"
   ]
  },
  {
   "cell_type": "markdown",
   "metadata": {},
   "source": [
    "Split category_name into main_cat, subcat_1 and subcat_2"
   ]
  },
  {
   "cell_type": "code",
   "execution_count": 14,
   "metadata": {},
   "outputs": [],
   "source": [
    "# reference: BuryBuryZymon at https://www.kaggle.com/maheshdadhich/i-will-sell-everything-for-free-0-55\n",
    "def split_cat(text):\n",
    "    try: return text.split(\"/\")\n",
    "    except: return (\"No Label\", \"No Label\", \"No Label\")"
   ]
  },
  {
   "cell_type": "code",
   "execution_count": 15,
   "metadata": {},
   "outputs": [],
   "source": [
    "data.loc[:,'main_cat'], data.loc[:,'subcat_1'], data.loc[:,'subcat_2'] = \\\n",
    "zip(*data.loc[:,'category_name'].apply(lambda x: split_cat(x)))\n",
    "# data.head()"
   ]
  },
  {
   "cell_type": "code",
   "execution_count": 16,
   "metadata": {},
   "outputs": [
    {
     "data": {
      "text/html": [
       "<div>\n",
       "<style scoped>\n",
       "    .dataframe tbody tr th:only-of-type {\n",
       "        vertical-align: middle;\n",
       "    }\n",
       "\n",
       "    .dataframe tbody tr th {\n",
       "        vertical-align: top;\n",
       "    }\n",
       "\n",
       "    .dataframe thead th {\n",
       "        text-align: right;\n",
       "    }\n",
       "</style>\n",
       "<table border=\"1\" class=\"dataframe\">\n",
       "  <thead>\n",
       "    <tr style=\"text-align: right;\">\n",
       "      <th></th>\n",
       "      <th>train_id</th>\n",
       "      <th>name</th>\n",
       "      <th>item_condition_id</th>\n",
       "      <th>category_name</th>\n",
       "      <th>brand_name</th>\n",
       "      <th>price</th>\n",
       "      <th>shipping</th>\n",
       "      <th>item_description</th>\n",
       "      <th>main_cat</th>\n",
       "      <th>subcat_1</th>\n",
       "      <th>subcat_2</th>\n",
       "    </tr>\n",
       "  </thead>\n",
       "  <tbody>\n",
       "    <tr>\n",
       "      <th>777341</th>\n",
       "      <td>777341</td>\n",
       "      <td>F/ship 4 Totoro Washi + 1 pen</td>\n",
       "      <td>1</td>\n",
       "      <td>Handmade/Paper Goods/Stationery</td>\n",
       "      <td>NaN</td>\n",
       "      <td>12.0</td>\n",
       "      <td>1</td>\n",
       "      <td>This listing is for all 4 Totoro washi tape fo...</td>\n",
       "      <td>Handmade</td>\n",
       "      <td>Paper Goods</td>\n",
       "      <td>Stationery</td>\n",
       "    </tr>\n",
       "    <tr>\n",
       "      <th>1463629</th>\n",
       "      <td>1463629</td>\n",
       "      <td>UCLA Men's Bundle + Shorts</td>\n",
       "      <td>1</td>\n",
       "      <td>Women/Other/Other</td>\n",
       "      <td>Adidas</td>\n",
       "      <td>76.0</td>\n",
       "      <td>1</td>\n",
       "      <td>7 items. 1: XL. 2: 2XL. 3:2XL. 4: XL. 5: 2XL. ...</td>\n",
       "      <td>Women</td>\n",
       "      <td>Other</td>\n",
       "      <td>Other</td>\n",
       "    </tr>\n",
       "    <tr>\n",
       "      <th>350669</th>\n",
       "      <td>350669</td>\n",
       "      <td>Listing for lol</td>\n",
       "      <td>1</td>\n",
       "      <td>Beauty/Makeup/Lips</td>\n",
       "      <td>NaN</td>\n",
       "      <td>12.0</td>\n",
       "      <td>1</td>\n",
       "      <td>- sunglasses and necklace :)</td>\n",
       "      <td>Beauty</td>\n",
       "      <td>Makeup</td>\n",
       "      <td>Lips</td>\n",
       "    </tr>\n",
       "    <tr>\n",
       "      <th>310222</th>\n",
       "      <td>310222</td>\n",
       "      <td>25 pcs kawaii sticker flakes</td>\n",
       "      <td>1</td>\n",
       "      <td>Kids/Toys/Arts &amp; Crafts</td>\n",
       "      <td>NaN</td>\n",
       "      <td>3.0</td>\n",
       "      <td>1</td>\n",
       "      <td>I ordered a bunch of stickers so you will reci...</td>\n",
       "      <td>Kids</td>\n",
       "      <td>Toys</td>\n",
       "      <td>Arts &amp; Crafts</td>\n",
       "    </tr>\n",
       "    <tr>\n",
       "      <th>759257</th>\n",
       "      <td>759257</td>\n",
       "      <td>Chanel Mini Lipgloss Set</td>\n",
       "      <td>2</td>\n",
       "      <td>Beauty/Makeup/Lips</td>\n",
       "      <td>Chanel</td>\n",
       "      <td>30.0</td>\n",
       "      <td>1</td>\n",
       "      <td>Brand new never used authentic Mini Lipgloss g...</td>\n",
       "      <td>Beauty</td>\n",
       "      <td>Makeup</td>\n",
       "      <td>Lips</td>\n",
       "    </tr>\n",
       "    <tr>\n",
       "      <th>288846</th>\n",
       "      <td>288846</td>\n",
       "      <td>Maroon Foamposites</td>\n",
       "      <td>3</td>\n",
       "      <td>Men/Shoes/Fashion Sneakers</td>\n",
       "      <td>Nike</td>\n",
       "      <td>225.0</td>\n",
       "      <td>1</td>\n",
       "      <td>9/10 Condition N Sz 12</td>\n",
       "      <td>Men</td>\n",
       "      <td>Shoes</td>\n",
       "      <td>Fashion Sneakers</td>\n",
       "    </tr>\n",
       "    <tr>\n",
       "      <th>1178450</th>\n",
       "      <td>1178450</td>\n",
       "      <td>INC studdedHeart Black Blouse Dolman</td>\n",
       "      <td>2</td>\n",
       "      <td>Women/Tops &amp; Blouses/Blouse</td>\n",
       "      <td>INC International Concepts</td>\n",
       "      <td>16.0</td>\n",
       "      <td>1</td>\n",
       "      <td>New without tags INC International Concepts Sh...</td>\n",
       "      <td>Women</td>\n",
       "      <td>Tops &amp; Blouses</td>\n",
       "      <td>Blouse</td>\n",
       "    </tr>\n",
       "    <tr>\n",
       "      <th>726296</th>\n",
       "      <td>726296</td>\n",
       "      <td>Leggo silicone molds</td>\n",
       "      <td>3</td>\n",
       "      <td>Home/Kitchen &amp; Dining/Bakeware</td>\n",
       "      <td>NaN</td>\n",
       "      <td>12.0</td>\n",
       "      <td>0</td>\n",
       "      <td>I used these for my son's leggo birthday party...</td>\n",
       "      <td>Home</td>\n",
       "      <td>Kitchen &amp; Dining</td>\n",
       "      <td>Bakeware</td>\n",
       "    </tr>\n",
       "    <tr>\n",
       "      <th>840510</th>\n",
       "      <td>840510</td>\n",
       "      <td>Supreme Uzi Chain</td>\n",
       "      <td>1</td>\n",
       "      <td>Handmade/Accessories/Men</td>\n",
       "      <td>NaN</td>\n",
       "      <td>15.0</td>\n",
       "      <td>1</td>\n",
       "      <td>10/10 New</td>\n",
       "      <td>Handmade</td>\n",
       "      <td>Accessories</td>\n",
       "      <td>Men</td>\n",
       "    </tr>\n",
       "    <tr>\n",
       "      <th>1473033</th>\n",
       "      <td>1473033</td>\n",
       "      <td>Women Gold Palm Pendant Necklace FC</td>\n",
       "      <td>1</td>\n",
       "      <td>Vintage &amp; Collectibles/Jewelry/Necklace</td>\n",
       "      <td>NaN</td>\n",
       "      <td>17.0</td>\n",
       "      <td>1</td>\n",
       "      <td>High quality Immediate purchase Ok? Free shipp...</td>\n",
       "      <td>Vintage &amp; Collectibles</td>\n",
       "      <td>Jewelry</td>\n",
       "      <td>Necklace</td>\n",
       "    </tr>\n",
       "    <tr>\n",
       "      <th>1170796</th>\n",
       "      <td>1170796</td>\n",
       "      <td>20 Starbucks drink cards for [rm]</td>\n",
       "      <td>1</td>\n",
       "      <td>Home/Kitchen &amp; Dining/Coffee &amp; Tea Accessories</td>\n",
       "      <td>Starbucks</td>\n",
       "      <td>28.0</td>\n",
       "      <td>1</td>\n",
       "      <td>Starbucks drink cards l. Ask for bundle and wi...</td>\n",
       "      <td>Home</td>\n",
       "      <td>Kitchen &amp; Dining</td>\n",
       "      <td>Coffee &amp; Tea Accessories</td>\n",
       "    </tr>\n",
       "    <tr>\n",
       "      <th>506473</th>\n",
       "      <td>506473</td>\n",
       "      <td>NYX Suede Lipstick</td>\n",
       "      <td>1</td>\n",
       "      <td>Beauty/Makeup/Lips</td>\n",
       "      <td>NYX</td>\n",
       "      <td>9.0</td>\n",
       "      <td>0</td>\n",
       "      <td>Color in Vintage. New and unopened.</td>\n",
       "      <td>Beauty</td>\n",
       "      <td>Makeup</td>\n",
       "      <td>Lips</td>\n",
       "    </tr>\n",
       "    <tr>\n",
       "      <th>1134656</th>\n",
       "      <td>1134656</td>\n",
       "      <td>Ibloom Mini Berry Bread Doll Squishy</td>\n",
       "      <td>1</td>\n",
       "      <td>Kids/Toys/Hobbies</td>\n",
       "      <td>NaN</td>\n",
       "      <td>19.0</td>\n",
       "      <td>0</td>\n",
       "      <td>Brand new in packaging Soft and slow rising Sm...</td>\n",
       "      <td>Kids</td>\n",
       "      <td>Toys</td>\n",
       "      <td>Hobbies</td>\n",
       "    </tr>\n",
       "    <tr>\n",
       "      <th>587885</th>\n",
       "      <td>587885</td>\n",
       "      <td>New Travel Size Fresh Face Wash</td>\n",
       "      <td>1</td>\n",
       "      <td>Beauty/Skin Care/Face</td>\n",
       "      <td>Sephora</td>\n",
       "      <td>4.0</td>\n",
       "      <td>1</td>\n",
       "      <td>New Travel Size No box Fresh Soy Face Cleanser...</td>\n",
       "      <td>Beauty</td>\n",
       "      <td>Skin Care</td>\n",
       "      <td>Face</td>\n",
       "    </tr>\n",
       "    <tr>\n",
       "      <th>93928</th>\n",
       "      <td>93928</td>\n",
       "      <td>iPod mini</td>\n",
       "      <td>3</td>\n",
       "      <td>Electronics/TV, Audio &amp; Surveillance/Portable ...</td>\n",
       "      <td>Apple</td>\n",
       "      <td>14.0</td>\n",
       "      <td>0</td>\n",
       "      <td>iPod mini, purple. From 2006 I think. Works, b...</td>\n",
       "      <td>Electronics</td>\n",
       "      <td>TV, Audio &amp; Surveillance</td>\n",
       "      <td>Portable Audio &amp; Accessories</td>\n",
       "    </tr>\n",
       "  </tbody>\n",
       "</table>\n",
       "</div>"
      ],
      "text/plain": [
       "         train_id                                  name  item_condition_id  \\\n",
       "777341     777341         F/ship 4 Totoro Washi + 1 pen                  1   \n",
       "1463629   1463629            UCLA Men's Bundle + Shorts                  1   \n",
       "350669     350669                       Listing for lol                  1   \n",
       "310222     310222          25 pcs kawaii sticker flakes                  1   \n",
       "759257     759257              Chanel Mini Lipgloss Set                  2   \n",
       "288846     288846                    Maroon Foamposites                  3   \n",
       "1178450   1178450  INC studdedHeart Black Blouse Dolman                  2   \n",
       "726296     726296                  Leggo silicone molds                  3   \n",
       "840510     840510                     Supreme Uzi Chain                  1   \n",
       "1473033   1473033   Women Gold Palm Pendant Necklace FC                  1   \n",
       "1170796   1170796     20 Starbucks drink cards for [rm]                  1   \n",
       "506473     506473                    NYX Suede Lipstick                  1   \n",
       "1134656   1134656  Ibloom Mini Berry Bread Doll Squishy                  1   \n",
       "587885     587885       New Travel Size Fresh Face Wash                  1   \n",
       "93928       93928                             iPod mini                  3   \n",
       "\n",
       "                                             category_name  \\\n",
       "777341                     Handmade/Paper Goods/Stationery   \n",
       "1463629                                  Women/Other/Other   \n",
       "350669                                  Beauty/Makeup/Lips   \n",
       "310222                             Kids/Toys/Arts & Crafts   \n",
       "759257                                  Beauty/Makeup/Lips   \n",
       "288846                          Men/Shoes/Fashion Sneakers   \n",
       "1178450                        Women/Tops & Blouses/Blouse   \n",
       "726296                      Home/Kitchen & Dining/Bakeware   \n",
       "840510                            Handmade/Accessories/Men   \n",
       "1473033            Vintage & Collectibles/Jewelry/Necklace   \n",
       "1170796     Home/Kitchen & Dining/Coffee & Tea Accessories   \n",
       "506473                                  Beauty/Makeup/Lips   \n",
       "1134656                                  Kids/Toys/Hobbies   \n",
       "587885                               Beauty/Skin Care/Face   \n",
       "93928    Electronics/TV, Audio & Surveillance/Portable ...   \n",
       "\n",
       "                         brand_name  price  shipping  \\\n",
       "777341                          NaN   12.0         1   \n",
       "1463629                      Adidas   76.0         1   \n",
       "350669                          NaN   12.0         1   \n",
       "310222                          NaN    3.0         1   \n",
       "759257                       Chanel   30.0         1   \n",
       "288846                         Nike  225.0         1   \n",
       "1178450  INC International Concepts   16.0         1   \n",
       "726296                          NaN   12.0         0   \n",
       "840510                          NaN   15.0         1   \n",
       "1473033                         NaN   17.0         1   \n",
       "1170796                   Starbucks   28.0         1   \n",
       "506473                          NYX    9.0         0   \n",
       "1134656                         NaN   19.0         0   \n",
       "587885                      Sephora    4.0         1   \n",
       "93928                         Apple   14.0         0   \n",
       "\n",
       "                                          item_description  \\\n",
       "777341   This listing is for all 4 Totoro washi tape fo...   \n",
       "1463629  7 items. 1: XL. 2: 2XL. 3:2XL. 4: XL. 5: 2XL. ...   \n",
       "350669                        - sunglasses and necklace :)   \n",
       "310222   I ordered a bunch of stickers so you will reci...   \n",
       "759257   Brand new never used authentic Mini Lipgloss g...   \n",
       "288846                              9/10 Condition N Sz 12   \n",
       "1178450  New without tags INC International Concepts Sh...   \n",
       "726296   I used these for my son's leggo birthday party...   \n",
       "840510                                           10/10 New   \n",
       "1473033  High quality Immediate purchase Ok? Free shipp...   \n",
       "1170796  Starbucks drink cards l. Ask for bundle and wi...   \n",
       "506473                 Color in Vintage. New and unopened.   \n",
       "1134656  Brand new in packaging Soft and slow rising Sm...   \n",
       "587885   New Travel Size No box Fresh Soy Face Cleanser...   \n",
       "93928    iPod mini, purple. From 2006 I think. Works, b...   \n",
       "\n",
       "                       main_cat                  subcat_1  \\\n",
       "777341                 Handmade               Paper Goods   \n",
       "1463629                   Women                     Other   \n",
       "350669                   Beauty                    Makeup   \n",
       "310222                     Kids                      Toys   \n",
       "759257                   Beauty                    Makeup   \n",
       "288846                      Men                     Shoes   \n",
       "1178450                   Women            Tops & Blouses   \n",
       "726296                     Home          Kitchen & Dining   \n",
       "840510                 Handmade               Accessories   \n",
       "1473033  Vintage & Collectibles                   Jewelry   \n",
       "1170796                    Home          Kitchen & Dining   \n",
       "506473                   Beauty                    Makeup   \n",
       "1134656                    Kids                      Toys   \n",
       "587885                   Beauty                 Skin Care   \n",
       "93928               Electronics  TV, Audio & Surveillance   \n",
       "\n",
       "                             subcat_2  \n",
       "777341                     Stationery  \n",
       "1463629                         Other  \n",
       "350669                           Lips  \n",
       "310222                  Arts & Crafts  \n",
       "759257                           Lips  \n",
       "288846               Fashion Sneakers  \n",
       "1178450                        Blouse  \n",
       "726296                       Bakeware  \n",
       "840510                            Men  \n",
       "1473033                      Necklace  \n",
       "1170796      Coffee & Tea Accessories  \n",
       "506473                           Lips  \n",
       "1134656                       Hobbies  \n",
       "587885                           Face  \n",
       "93928    Portable Audio & Accessories  "
      ]
     },
     "execution_count": 16,
     "metadata": {},
     "output_type": "execute_result"
    }
   ],
   "source": [
    "data[:15]"
   ]
  },
  {
   "cell_type": "markdown",
   "metadata": {},
   "source": [
    "## Overview"
   ]
  },
  {
   "cell_type": "code",
   "execution_count": 17,
   "metadata": {},
   "outputs": [
    {
     "name": "stdout",
     "output_type": "stream",
     "text": [
      "Number of unique fields:\n",
      "\n",
      "main_cat: \t11\n",
      "subcat_1: \t114\n",
      "subcat_2: \t871\n",
      "brand_name: \t4809\n",
      "\n",
      "6327 items have no category\n",
      "632682 items have no brand\n"
     ]
    }
   ],
   "source": [
    "print(\"Number of unique fields:\\n\")\n",
    "\n",
    "print(\"main_cat: \\t%d\" % data['main_cat'].nunique())\n",
    "print(\"subcat_1: \\t%d\" % data['subcat_1'].nunique())\n",
    "print(\"subcat_2: \\t%d\" % data['subcat_2'].nunique())\n",
    "print(\"brand_name: \\t%d\" % data['brand_name'].nunique())\n",
    "print()\n",
    "\n",
    "print(\"%d items have no category\" % len(data.loc[data['main_cat'] == 'No Label']))\n",
    "print(\"%d items have no brand\" % data['brand_name'].isna().sum())"
   ]
  },
  {
   "cell_type": "markdown",
   "metadata": {},
   "source": [
    "## Numerically represent features"
   ]
  },
  {
   "cell_type": "markdown",
   "metadata": {},
   "source": [
    "### train_id: copy"
   ]
  },
  {
   "cell_type": "markdown",
   "metadata": {},
   "source": [
    "Create new DataFrame called data_num for numerical representations"
   ]
  },
  {
   "cell_type": "code",
   "execution_count": 17,
   "metadata": {},
   "outputs": [],
   "source": [
    "data_num = pd.DataFrame(data.loc[:,'train_id'], columns=['train_id'])"
   ]
  },
  {
   "cell_type": "markdown",
   "metadata": {},
   "source": [
    "### name: represent name by its length as name_len"
   ]
  },
  {
   "cell_type": "code",
   "execution_count": 18,
   "metadata": {},
   "outputs": [],
   "source": [
    "data_num.loc[:,'name_len'] = data['name'].str.len()"
   ]
  },
  {
   "cell_type": "markdown",
   "metadata": {},
   "source": [
    "### item_condition_id, price, shipping: copy"
   ]
  },
  {
   "cell_type": "code",
   "execution_count": 19,
   "metadata": {},
   "outputs": [],
   "source": [
    "data_num[['item_condition_id', 'price', 'shipping']] = data.loc[:,['item_condition_id', 'price', 'shipping']]"
   ]
  },
  {
   "cell_type": "markdown",
   "metadata": {},
   "source": [
    "### item_description"
   ]
  },
  {
   "cell_type": "markdown",
   "metadata": {},
   "source": [
    "Represent item_description by its length as item_description_len"
   ]
  },
  {
   "cell_type": "code",
   "execution_count": 20,
   "metadata": {},
   "outputs": [],
   "source": [
    "item_description_len = data.loc[:,'item_description'].str.len()\n",
    "data_num['item_description_len'] = item_description_len\n",
    "\n",
    "# Replace NaN in data_num.item_description_len column by zeros\n",
    "data_num['item_description_len'] = data_num['item_description_len'].fillna(0)\n",
    "\n",
    "# Change data type of this column to uint16 provided the max val is less than 65535\n",
    "if (data_num.item_description_len.max() < 65535):\n",
    "    data_num['item_description_len'] = data_num['item_description_len'].astype(np.uint16)"
   ]
  },
  {
   "cell_type": "code",
   "execution_count": 21,
   "metadata": {},
   "outputs": [
    {
     "data": {
      "text/html": [
       "<div>\n",
       "<style scoped>\n",
       "    .dataframe tbody tr th:only-of-type {\n",
       "        vertical-align: middle;\n",
       "    }\n",
       "\n",
       "    .dataframe tbody tr th {\n",
       "        vertical-align: top;\n",
       "    }\n",
       "\n",
       "    .dataframe thead th {\n",
       "        text-align: right;\n",
       "    }\n",
       "</style>\n",
       "<table border=\"1\" class=\"dataframe\">\n",
       "  <thead>\n",
       "    <tr style=\"text-align: right;\">\n",
       "      <th></th>\n",
       "      <th>train_id</th>\n",
       "      <th>name_len</th>\n",
       "      <th>item_condition_id</th>\n",
       "      <th>price</th>\n",
       "      <th>shipping</th>\n",
       "      <th>item_description_len</th>\n",
       "    </tr>\n",
       "  </thead>\n",
       "  <tbody>\n",
       "    <tr>\n",
       "      <th>777341</th>\n",
       "      <td>777341</td>\n",
       "      <td>29</td>\n",
       "      <td>1</td>\n",
       "      <td>12.0</td>\n",
       "      <td>1</td>\n",
       "      <td>158</td>\n",
       "    </tr>\n",
       "    <tr>\n",
       "      <th>1463629</th>\n",
       "      <td>1463629</td>\n",
       "      <td>26</td>\n",
       "      <td>1</td>\n",
       "      <td>76.0</td>\n",
       "      <td>1</td>\n",
       "      <td>57</td>\n",
       "    </tr>\n",
       "    <tr>\n",
       "      <th>350669</th>\n",
       "      <td>350669</td>\n",
       "      <td>15</td>\n",
       "      <td>1</td>\n",
       "      <td>12.0</td>\n",
       "      <td>1</td>\n",
       "      <td>28</td>\n",
       "    </tr>\n",
       "    <tr>\n",
       "      <th>310222</th>\n",
       "      <td>310222</td>\n",
       "      <td>28</td>\n",
       "      <td>1</td>\n",
       "      <td>3.0</td>\n",
       "      <td>1</td>\n",
       "      <td>68</td>\n",
       "    </tr>\n",
       "    <tr>\n",
       "      <th>759257</th>\n",
       "      <td>759257</td>\n",
       "      <td>24</td>\n",
       "      <td>2</td>\n",
       "      <td>30.0</td>\n",
       "      <td>1</td>\n",
       "      <td>53</td>\n",
       "    </tr>\n",
       "  </tbody>\n",
       "</table>\n",
       "</div>"
      ],
      "text/plain": [
       "         train_id  name_len  item_condition_id  price  shipping  \\\n",
       "777341     777341        29                  1   12.0         1   \n",
       "1463629   1463629        26                  1   76.0         1   \n",
       "350669     350669        15                  1   12.0         1   \n",
       "310222     310222        28                  1    3.0         1   \n",
       "759257     759257        24                  2   30.0         1   \n",
       "\n",
       "         item_description_len  \n",
       "777341                    158  \n",
       "1463629                    57  \n",
       "350669                     28  \n",
       "310222                     68  \n",
       "759257                     53  "
      ]
     },
     "execution_count": 21,
     "metadata": {},
     "output_type": "execute_result"
    }
   ],
   "source": [
    "data_num.head()"
   ]
  },
  {
   "cell_type": "code",
   "execution_count": 22,
   "metadata": {},
   "outputs": [],
   "source": [
    "# data.head()"
   ]
  },
  {
   "cell_type": "markdown",
   "metadata": {},
   "source": [
    "### Define function for making binary columns"
   ]
  },
  {
   "cell_type": "code",
   "execution_count": 23,
   "metadata": {},
   "outputs": [],
   "source": [
    "def make_binary_columns(df_str, df_num, column_name):\n",
    "    \"\"\"\n",
    "    Turns a single column named column_name (with various categories) into m binary columns, where m is the number\n",
    "    of unique values in the original column. For each sample, the value for all new columns is 0 apart the one\n",
    "    that matches the value of the original column. Names of new binary columns are formed as follows:\n",
    "    column_name + '_' + str(original column value)\n",
    "    Inputs:\n",
    "        two pandas DataFrames: df_str where a single column contains information about given category\n",
    "                               df_num that will later contain many binary columns\n",
    "        column_name: name of the column that will be split into several binary columns\n",
    "    Returns nothing. It appends the collumns directly into df_num to increase performance.\n",
    "    \"\"\"\n",
    "    m = len(df_str)\n",
    "    if (m != len(df_num)):\n",
    "        raise Exception(\"df_str and df_num must have the same size.\")\n",
    " \n",
    "    categories = df_str[column_name].unique()\n",
    "\n",
    "    from tqdm import tqdm_notebook # progress bar\n",
    "\n",
    "    # Create a new feature for each category and initialize it to 0\n",
    "    for i in tqdm_notebook(categories, desc='1/2'):\n",
    "        df_num[column_name + '_' + str(i)] = np.zeros((m, 1), dtype=np.int8)\n",
    "\n",
    "#     Loop thorugh all rows and assign 1 to the column whose name is the same as category\n",
    "    for i in tqdm_notebook(df_str.index, desc='2/2'): # loop through all rows\n",
    "        category = str(df_str.at[i, column_name])\n",
    "        df_num.at[i, column_name + '_' + category] = 1"
   ]
  },
  {
   "cell_type": "markdown",
   "metadata": {},
   "source": [
    "### brand_name: for each unique one create new binary feature"
   ]
  },
  {
   "cell_type": "code",
   "execution_count": 24,
   "metadata": {},
   "outputs": [
    {
     "data": {
      "application/vnd.jupyter.widget-view+json": {
       "model_id": "bbc85fe56a8c483483ecaf3e2a567dea",
       "version_major": 2,
       "version_minor": 0
      },
      "text/plain": [
       "HBox(children=(IntProgress(value=0, description='1/2', max=4810, style=ProgressStyle(description_width='initia…"
      ]
     },
     "metadata": {},
     "output_type": "display_data"
    },
    {
     "name": "stdout",
     "output_type": "stream",
     "text": [
      "\n"
     ]
    },
    {
     "data": {
      "application/vnd.jupyter.widget-view+json": {
       "model_id": "6bd4e52787fa44a1bbb268dc39bf1d20",
       "version_major": 2,
       "version_minor": 0
      },
      "text/plain": [
       "HBox(children=(IntProgress(value=0, description='2/2', max=1482535, style=ProgressStyle(description_width='ini…"
      ]
     },
     "metadata": {},
     "output_type": "display_data"
    },
    {
     "name": "stdout",
     "output_type": "stream",
     "text": [
      "\n"
     ]
    }
   ],
   "source": [
    "make_binary_columns(data, data_num, 'brand_name')"
   ]
  },
  {
   "cell_type": "code",
   "execution_count": 25,
   "metadata": {},
   "outputs": [],
   "source": [
    "# data.head()"
   ]
  },
  {
   "cell_type": "markdown",
   "metadata": {},
   "source": [
    "### main_cat, subcat_1, subcat_2: for each unique one create new binary feature"
   ]
  },
  {
   "cell_type": "code",
   "execution_count": 26,
   "metadata": {},
   "outputs": [
    {
     "data": {
      "application/vnd.jupyter.widget-view+json": {
       "model_id": "36027a8f817240ebad258377ca184aaa",
       "version_major": 2,
       "version_minor": 0
      },
      "text/plain": [
       "HBox(children=(IntProgress(value=0, description='1/2', max=11, style=ProgressStyle(description_width='initial'…"
      ]
     },
     "metadata": {},
     "output_type": "display_data"
    },
    {
     "name": "stdout",
     "output_type": "stream",
     "text": [
      "\n"
     ]
    },
    {
     "data": {
      "application/vnd.jupyter.widget-view+json": {
       "model_id": "bbf2b5f215774a87ac1f9100561c0ce7",
       "version_major": 2,
       "version_minor": 0
      },
      "text/plain": [
       "HBox(children=(IntProgress(value=0, description='2/2', max=1482535, style=ProgressStyle(description_width='ini…"
      ]
     },
     "metadata": {},
     "output_type": "display_data"
    },
    {
     "name": "stdout",
     "output_type": "stream",
     "text": [
      "\n"
     ]
    },
    {
     "data": {
      "application/vnd.jupyter.widget-view+json": {
       "model_id": "be243cdc19f642cf9d073124fc30ddcd",
       "version_major": 2,
       "version_minor": 0
      },
      "text/plain": [
       "HBox(children=(IntProgress(value=0, description='1/2', max=114, style=ProgressStyle(description_width='initial…"
      ]
     },
     "metadata": {},
     "output_type": "display_data"
    },
    {
     "name": "stdout",
     "output_type": "stream",
     "text": [
      "\n"
     ]
    },
    {
     "data": {
      "application/vnd.jupyter.widget-view+json": {
       "model_id": "1f7096dd4b8f480ba36d6e0a4519129c",
       "version_major": 2,
       "version_minor": 0
      },
      "text/plain": [
       "HBox(children=(IntProgress(value=0, description='2/2', max=1482535, style=ProgressStyle(description_width='ini…"
      ]
     },
     "metadata": {},
     "output_type": "display_data"
    },
    {
     "name": "stdout",
     "output_type": "stream",
     "text": [
      "\n"
     ]
    },
    {
     "data": {
      "application/vnd.jupyter.widget-view+json": {
       "model_id": "b3e31b8340bb4dcabaa6e442b0f8f703",
       "version_major": 2,
       "version_minor": 0
      },
      "text/plain": [
       "HBox(children=(IntProgress(value=0, description='1/2', max=871, style=ProgressStyle(description_width='initial…"
      ]
     },
     "metadata": {},
     "output_type": "display_data"
    },
    {
     "name": "stdout",
     "output_type": "stream",
     "text": [
      "\n"
     ]
    },
    {
     "data": {
      "application/vnd.jupyter.widget-view+json": {
       "model_id": "7a5079d6276c4221b54a715f6eb83576",
       "version_major": 2,
       "version_minor": 0
      },
      "text/plain": [
       "HBox(children=(IntProgress(value=0, description='2/2', max=1482535, style=ProgressStyle(description_width='ini…"
      ]
     },
     "metadata": {},
     "output_type": "display_data"
    },
    {
     "name": "stdout",
     "output_type": "stream",
     "text": [
      "\n"
     ]
    }
   ],
   "source": [
    "make_binary_columns(data, data_num, 'main_cat')\n",
    "make_binary_columns(data, data_num, 'subcat_1')\n",
    "make_binary_columns(data, data_num, 'subcat_2')"
   ]
  },
  {
   "cell_type": "code",
   "execution_count": 27,
   "metadata": {},
   "outputs": [
    {
     "name": "stdout",
     "output_type": "stream",
     "text": [
      "<class 'pandas.core.frame.DataFrame'>\n",
      "Int64Index: 1482535 entries, 777341 to 121958\n",
      "Columns: 5812 entries, train_id to subcat_2_Child Friendly\n",
      "dtypes: float64(1), int64(4), int8(5806), uint16(1)\n",
      "memory usage: 8.1 GB\n"
     ]
    }
   ],
   "source": [
    "data_num.info()"
   ]
  },
  {
   "cell_type": "code",
   "execution_count": 28,
   "metadata": {},
   "outputs": [],
   "source": [
    "if (settings['del']):\n",
    "    del data"
   ]
  },
  {
   "cell_type": "code",
   "execution_count": 29,
   "metadata": {},
   "outputs": [
    {
     "data": {
      "text/html": [
       "<div>\n",
       "<style scoped>\n",
       "    .dataframe tbody tr th:only-of-type {\n",
       "        vertical-align: middle;\n",
       "    }\n",
       "\n",
       "    .dataframe tbody tr th {\n",
       "        vertical-align: top;\n",
       "    }\n",
       "\n",
       "    .dataframe thead th {\n",
       "        text-align: right;\n",
       "    }\n",
       "</style>\n",
       "<table border=\"1\" class=\"dataframe\">\n",
       "  <thead>\n",
       "    <tr style=\"text-align: right;\">\n",
       "      <th></th>\n",
       "      <th>train_id</th>\n",
       "      <th>name_len</th>\n",
       "      <th>item_condition_id</th>\n",
       "      <th>price</th>\n",
       "      <th>shipping</th>\n",
       "      <th>item_description_len</th>\n",
       "      <th>brand_name_nan</th>\n",
       "      <th>brand_name_Adidas</th>\n",
       "      <th>brand_name_Chanel</th>\n",
       "      <th>brand_name_Nike</th>\n",
       "      <th>...</th>\n",
       "      <th>subcat_2_Entertainment</th>\n",
       "      <th>subcat_2_Bathroom Shelves</th>\n",
       "      <th>subcat_2_Suits &amp; Blazers</th>\n",
       "      <th>subcat_2_Seasonal</th>\n",
       "      <th>subcat_2_Bathroom</th>\n",
       "      <th>subcat_2_Tiles</th>\n",
       "      <th>subcat_2_Dishwashers</th>\n",
       "      <th>subcat_2_Ephemera</th>\n",
       "      <th>subcat_2_Towel</th>\n",
       "      <th>subcat_2_Child Friendly</th>\n",
       "    </tr>\n",
       "  </thead>\n",
       "  <tbody>\n",
       "    <tr>\n",
       "      <th>777341</th>\n",
       "      <td>777341</td>\n",
       "      <td>29</td>\n",
       "      <td>1</td>\n",
       "      <td>12.0</td>\n",
       "      <td>1</td>\n",
       "      <td>158</td>\n",
       "      <td>1</td>\n",
       "      <td>0</td>\n",
       "      <td>0</td>\n",
       "      <td>0</td>\n",
       "      <td>...</td>\n",
       "      <td>0</td>\n",
       "      <td>0</td>\n",
       "      <td>0</td>\n",
       "      <td>0</td>\n",
       "      <td>0</td>\n",
       "      <td>0</td>\n",
       "      <td>0</td>\n",
       "      <td>0</td>\n",
       "      <td>0</td>\n",
       "      <td>0</td>\n",
       "    </tr>\n",
       "    <tr>\n",
       "      <th>1463629</th>\n",
       "      <td>1463629</td>\n",
       "      <td>26</td>\n",
       "      <td>1</td>\n",
       "      <td>76.0</td>\n",
       "      <td>1</td>\n",
       "      <td>57</td>\n",
       "      <td>0</td>\n",
       "      <td>1</td>\n",
       "      <td>0</td>\n",
       "      <td>0</td>\n",
       "      <td>...</td>\n",
       "      <td>0</td>\n",
       "      <td>0</td>\n",
       "      <td>0</td>\n",
       "      <td>0</td>\n",
       "      <td>0</td>\n",
       "      <td>0</td>\n",
       "      <td>0</td>\n",
       "      <td>0</td>\n",
       "      <td>0</td>\n",
       "      <td>0</td>\n",
       "    </tr>\n",
       "    <tr>\n",
       "      <th>350669</th>\n",
       "      <td>350669</td>\n",
       "      <td>15</td>\n",
       "      <td>1</td>\n",
       "      <td>12.0</td>\n",
       "      <td>1</td>\n",
       "      <td>28</td>\n",
       "      <td>1</td>\n",
       "      <td>0</td>\n",
       "      <td>0</td>\n",
       "      <td>0</td>\n",
       "      <td>...</td>\n",
       "      <td>0</td>\n",
       "      <td>0</td>\n",
       "      <td>0</td>\n",
       "      <td>0</td>\n",
       "      <td>0</td>\n",
       "      <td>0</td>\n",
       "      <td>0</td>\n",
       "      <td>0</td>\n",
       "      <td>0</td>\n",
       "      <td>0</td>\n",
       "    </tr>\n",
       "    <tr>\n",
       "      <th>310222</th>\n",
       "      <td>310222</td>\n",
       "      <td>28</td>\n",
       "      <td>1</td>\n",
       "      <td>3.0</td>\n",
       "      <td>1</td>\n",
       "      <td>68</td>\n",
       "      <td>1</td>\n",
       "      <td>0</td>\n",
       "      <td>0</td>\n",
       "      <td>0</td>\n",
       "      <td>...</td>\n",
       "      <td>0</td>\n",
       "      <td>0</td>\n",
       "      <td>0</td>\n",
       "      <td>0</td>\n",
       "      <td>0</td>\n",
       "      <td>0</td>\n",
       "      <td>0</td>\n",
       "      <td>0</td>\n",
       "      <td>0</td>\n",
       "      <td>0</td>\n",
       "    </tr>\n",
       "    <tr>\n",
       "      <th>759257</th>\n",
       "      <td>759257</td>\n",
       "      <td>24</td>\n",
       "      <td>2</td>\n",
       "      <td>30.0</td>\n",
       "      <td>1</td>\n",
       "      <td>53</td>\n",
       "      <td>0</td>\n",
       "      <td>0</td>\n",
       "      <td>1</td>\n",
       "      <td>0</td>\n",
       "      <td>...</td>\n",
       "      <td>0</td>\n",
       "      <td>0</td>\n",
       "      <td>0</td>\n",
       "      <td>0</td>\n",
       "      <td>0</td>\n",
       "      <td>0</td>\n",
       "      <td>0</td>\n",
       "      <td>0</td>\n",
       "      <td>0</td>\n",
       "      <td>0</td>\n",
       "    </tr>\n",
       "  </tbody>\n",
       "</table>\n",
       "<p>5 rows × 5812 columns</p>\n",
       "</div>"
      ],
      "text/plain": [
       "         train_id  name_len  item_condition_id  price  shipping  \\\n",
       "777341     777341        29                  1   12.0         1   \n",
       "1463629   1463629        26                  1   76.0         1   \n",
       "350669     350669        15                  1   12.0         1   \n",
       "310222     310222        28                  1    3.0         1   \n",
       "759257     759257        24                  2   30.0         1   \n",
       "\n",
       "         item_description_len  brand_name_nan  brand_name_Adidas  \\\n",
       "777341                    158               1                  0   \n",
       "1463629                    57               0                  1   \n",
       "350669                     28               1                  0   \n",
       "310222                     68               1                  0   \n",
       "759257                     53               0                  0   \n",
       "\n",
       "         brand_name_Chanel  brand_name_Nike           ...             \\\n",
       "777341                   0                0           ...              \n",
       "1463629                  0                0           ...              \n",
       "350669                   0                0           ...              \n",
       "310222                   0                0           ...              \n",
       "759257                   1                0           ...              \n",
       "\n",
       "         subcat_2_Entertainment  subcat_2_Bathroom Shelves  \\\n",
       "777341                        0                          0   \n",
       "1463629                       0                          0   \n",
       "350669                        0                          0   \n",
       "310222                        0                          0   \n",
       "759257                        0                          0   \n",
       "\n",
       "         subcat_2_Suits & Blazers  subcat_2_Seasonal  subcat_2_Bathroom  \\\n",
       "777341                          0                  0                  0   \n",
       "1463629                         0                  0                  0   \n",
       "350669                          0                  0                  0   \n",
       "310222                          0                  0                  0   \n",
       "759257                          0                  0                  0   \n",
       "\n",
       "         subcat_2_Tiles  subcat_2_Dishwashers  subcat_2_Ephemera  \\\n",
       "777341                0                     0                  0   \n",
       "1463629               0                     0                  0   \n",
       "350669                0                     0                  0   \n",
       "310222                0                     0                  0   \n",
       "759257                0                     0                  0   \n",
       "\n",
       "         subcat_2_Towel  subcat_2_Child Friendly  \n",
       "777341                0                        0  \n",
       "1463629               0                        0  \n",
       "350669                0                        0  \n",
       "310222                0                        0  \n",
       "759257                0                        0  \n",
       "\n",
       "[5 rows x 5812 columns]"
      ]
     },
     "execution_count": 29,
     "metadata": {},
     "output_type": "execute_result"
    }
   ],
   "source": [
    "data_num.head()"
   ]
  },
  {
   "cell_type": "markdown",
   "metadata": {},
   "source": [
    "# Split data and extract X, y and train_id"
   ]
  },
  {
   "cell_type": "code",
   "execution_count": 30,
   "metadata": {},
   "outputs": [],
   "source": [
    "from sklearn.model_selection import train_test_split\n",
    "X_train_unscaled, X_test_unscaled = train_test_split(data_num, test_size = settings['test_size'], random_state=settings['random_state']['split']) # randomly split data\n",
    "# ! X_train_unscaled and X_test_unscaled STILL CONTAINS PRICE AT THIS MOMENT !"
   ]
  },
  {
   "cell_type": "code",
   "execution_count": 31,
   "metadata": {},
   "outputs": [],
   "source": [
    "if (settings['del']):\n",
    "    del data_num"
   ]
  },
  {
   "cell_type": "code",
   "execution_count": 32,
   "metadata": {},
   "outputs": [],
   "source": [
    "# Pop price from X_train and X_test\n",
    "y_train = X_train_unscaled.pop('price')\n",
    "y_test = X_test_unscaled.pop('price')"
   ]
  },
  {
   "cell_type": "code",
   "execution_count": 33,
   "metadata": {},
   "outputs": [],
   "source": [
    "# Pop id_train from both training and test data set\n",
    "\n",
    "id_train = X_train_unscaled.pop('train_id')\n",
    "id_test = X_test_unscaled.pop('train_id')"
   ]
  },
  {
   "cell_type": "markdown",
   "metadata": {},
   "source": [
    "# Scale data"
   ]
  },
  {
   "cell_type": "code",
   "execution_count": 34,
   "metadata": {},
   "outputs": [],
   "source": [
    "from sklearn.preprocessing import MaxAbsScaler\n",
    "\n",
    "X_train = X_train_unscaled.copy()\n",
    "X_test = X_test_unscaled.copy()\n",
    "\n",
    "columns_to_scale = ['name_len', 'item_condition_id', 'item_description_len']\n",
    "\n",
    "scaler = MaxAbsScaler()\n",
    "scaler.fit(X_train_unscaled[columns_to_scale]) # Compute the mean adn std of training data to be used for future scaling\n",
    "\n",
    "X_train[columns_to_scale] = pd.DataFrame(scaler.transform(X_train_unscaled[columns_to_scale]), index=X_train_unscaled.index, columns=columns_to_scale)\n",
    "if (settings['del']):\n",
    "    del X_train_unscaled\n",
    "\n",
    "X_test[columns_to_scale] = pd.DataFrame(scaler.transform(X_test_unscaled[columns_to_scale]), index=X_test_unscaled.index, columns=columns_to_scale)\n",
    "if (settings['del']):\n",
    "    del X_test_unscaled"
   ]
  },
  {
   "cell_type": "code",
   "execution_count": 35,
   "metadata": {},
   "outputs": [],
   "source": [
    "# X_train_unscaled.info()"
   ]
  },
  {
   "cell_type": "code",
   "execution_count": 36,
   "metadata": {},
   "outputs": [
    {
     "name": "stdout",
     "output_type": "stream",
     "text": [
      "<class 'pandas.core.frame.DataFrame'>\n",
      "Int64Index: 1111901 entries, 596936 to 75785\n",
      "Columns: 5810 entries, name_len to subcat_2_Child Friendly\n",
      "dtypes: float64(3), int64(1), int8(5806)\n",
      "memory usage: 6.1 GB\n"
     ]
    }
   ],
   "source": [
    "X_train.info()"
   ]
  },
  {
   "cell_type": "code",
   "execution_count": 37,
   "metadata": {},
   "outputs": [
    {
     "data": {
      "text/html": [
       "<div>\n",
       "<style scoped>\n",
       "    .dataframe tbody tr th:only-of-type {\n",
       "        vertical-align: middle;\n",
       "    }\n",
       "\n",
       "    .dataframe tbody tr th {\n",
       "        vertical-align: top;\n",
       "    }\n",
       "\n",
       "    .dataframe thead th {\n",
       "        text-align: right;\n",
       "    }\n",
       "</style>\n",
       "<table border=\"1\" class=\"dataframe\">\n",
       "  <thead>\n",
       "    <tr style=\"text-align: right;\">\n",
       "      <th></th>\n",
       "      <th>name_len</th>\n",
       "      <th>item_condition_id</th>\n",
       "      <th>shipping</th>\n",
       "      <th>item_description_len</th>\n",
       "      <th>brand_name_nan</th>\n",
       "      <th>brand_name_Adidas</th>\n",
       "      <th>brand_name_Chanel</th>\n",
       "      <th>brand_name_Nike</th>\n",
       "      <th>brand_name_INC International Concepts</th>\n",
       "      <th>brand_name_Starbucks</th>\n",
       "      <th>...</th>\n",
       "      <th>subcat_2_Entertainment</th>\n",
       "      <th>subcat_2_Bathroom Shelves</th>\n",
       "      <th>subcat_2_Suits &amp; Blazers</th>\n",
       "      <th>subcat_2_Seasonal</th>\n",
       "      <th>subcat_2_Bathroom</th>\n",
       "      <th>subcat_2_Tiles</th>\n",
       "      <th>subcat_2_Dishwashers</th>\n",
       "      <th>subcat_2_Ephemera</th>\n",
       "      <th>subcat_2_Towel</th>\n",
       "      <th>subcat_2_Child Friendly</th>\n",
       "    </tr>\n",
       "  </thead>\n",
       "  <tbody>\n",
       "    <tr>\n",
       "      <th>596936</th>\n",
       "      <td>0.302326</td>\n",
       "      <td>0.2</td>\n",
       "      <td>0</td>\n",
       "      <td>0.028487</td>\n",
       "      <td>1</td>\n",
       "      <td>0</td>\n",
       "      <td>0</td>\n",
       "      <td>0</td>\n",
       "      <td>0</td>\n",
       "      <td>0</td>\n",
       "      <td>...</td>\n",
       "      <td>0</td>\n",
       "      <td>0</td>\n",
       "      <td>0</td>\n",
       "      <td>0</td>\n",
       "      <td>0</td>\n",
       "      <td>0</td>\n",
       "      <td>0</td>\n",
       "      <td>0</td>\n",
       "      <td>0</td>\n",
       "      <td>0</td>\n",
       "    </tr>\n",
       "    <tr>\n",
       "      <th>856984</th>\n",
       "      <td>0.627907</td>\n",
       "      <td>0.2</td>\n",
       "      <td>1</td>\n",
       "      <td>0.112967</td>\n",
       "      <td>0</td>\n",
       "      <td>0</td>\n",
       "      <td>0</td>\n",
       "      <td>0</td>\n",
       "      <td>0</td>\n",
       "      <td>0</td>\n",
       "      <td>...</td>\n",
       "      <td>0</td>\n",
       "      <td>0</td>\n",
       "      <td>0</td>\n",
       "      <td>0</td>\n",
       "      <td>0</td>\n",
       "      <td>0</td>\n",
       "      <td>0</td>\n",
       "      <td>0</td>\n",
       "      <td>0</td>\n",
       "      <td>0</td>\n",
       "    </tr>\n",
       "    <tr>\n",
       "      <th>1055728</th>\n",
       "      <td>0.418605</td>\n",
       "      <td>0.2</td>\n",
       "      <td>0</td>\n",
       "      <td>0.098232</td>\n",
       "      <td>1</td>\n",
       "      <td>0</td>\n",
       "      <td>0</td>\n",
       "      <td>0</td>\n",
       "      <td>0</td>\n",
       "      <td>0</td>\n",
       "      <td>...</td>\n",
       "      <td>0</td>\n",
       "      <td>0</td>\n",
       "      <td>0</td>\n",
       "      <td>0</td>\n",
       "      <td>0</td>\n",
       "      <td>0</td>\n",
       "      <td>0</td>\n",
       "      <td>0</td>\n",
       "      <td>0</td>\n",
       "      <td>0</td>\n",
       "    </tr>\n",
       "    <tr>\n",
       "      <th>256961</th>\n",
       "      <td>0.418605</td>\n",
       "      <td>0.4</td>\n",
       "      <td>0</td>\n",
       "      <td>0.068762</td>\n",
       "      <td>1</td>\n",
       "      <td>0</td>\n",
       "      <td>0</td>\n",
       "      <td>0</td>\n",
       "      <td>0</td>\n",
       "      <td>0</td>\n",
       "      <td>...</td>\n",
       "      <td>0</td>\n",
       "      <td>0</td>\n",
       "      <td>0</td>\n",
       "      <td>0</td>\n",
       "      <td>0</td>\n",
       "      <td>0</td>\n",
       "      <td>0</td>\n",
       "      <td>0</td>\n",
       "      <td>0</td>\n",
       "      <td>0</td>\n",
       "    </tr>\n",
       "    <tr>\n",
       "      <th>1217735</th>\n",
       "      <td>0.720930</td>\n",
       "      <td>0.6</td>\n",
       "      <td>1</td>\n",
       "      <td>0.194499</td>\n",
       "      <td>0</td>\n",
       "      <td>0</td>\n",
       "      <td>0</td>\n",
       "      <td>0</td>\n",
       "      <td>0</td>\n",
       "      <td>0</td>\n",
       "      <td>...</td>\n",
       "      <td>0</td>\n",
       "      <td>0</td>\n",
       "      <td>0</td>\n",
       "      <td>0</td>\n",
       "      <td>0</td>\n",
       "      <td>0</td>\n",
       "      <td>0</td>\n",
       "      <td>0</td>\n",
       "      <td>0</td>\n",
       "      <td>0</td>\n",
       "    </tr>\n",
       "  </tbody>\n",
       "</table>\n",
       "<p>5 rows × 5810 columns</p>\n",
       "</div>"
      ],
      "text/plain": [
       "         name_len  item_condition_id  shipping  item_description_len  \\\n",
       "596936   0.302326                0.2         0              0.028487   \n",
       "856984   0.627907                0.2         1              0.112967   \n",
       "1055728  0.418605                0.2         0              0.098232   \n",
       "256961   0.418605                0.4         0              0.068762   \n",
       "1217735  0.720930                0.6         1              0.194499   \n",
       "\n",
       "         brand_name_nan  brand_name_Adidas  brand_name_Chanel  \\\n",
       "596936                1                  0                  0   \n",
       "856984                0                  0                  0   \n",
       "1055728               1                  0                  0   \n",
       "256961                1                  0                  0   \n",
       "1217735               0                  0                  0   \n",
       "\n",
       "         brand_name_Nike  brand_name_INC International Concepts  \\\n",
       "596936                 0                                      0   \n",
       "856984                 0                                      0   \n",
       "1055728                0                                      0   \n",
       "256961                 0                                      0   \n",
       "1217735                0                                      0   \n",
       "\n",
       "         brand_name_Starbucks           ...             \\\n",
       "596936                      0           ...              \n",
       "856984                      0           ...              \n",
       "1055728                     0           ...              \n",
       "256961                      0           ...              \n",
       "1217735                     0           ...              \n",
       "\n",
       "         subcat_2_Entertainment  subcat_2_Bathroom Shelves  \\\n",
       "596936                        0                          0   \n",
       "856984                        0                          0   \n",
       "1055728                       0                          0   \n",
       "256961                        0                          0   \n",
       "1217735                       0                          0   \n",
       "\n",
       "         subcat_2_Suits & Blazers  subcat_2_Seasonal  subcat_2_Bathroom  \\\n",
       "596936                          0                  0                  0   \n",
       "856984                          0                  0                  0   \n",
       "1055728                         0                  0                  0   \n",
       "256961                          0                  0                  0   \n",
       "1217735                         0                  0                  0   \n",
       "\n",
       "         subcat_2_Tiles  subcat_2_Dishwashers  subcat_2_Ephemera  \\\n",
       "596936                0                     0                  0   \n",
       "856984                0                     0                  0   \n",
       "1055728               0                     0                  0   \n",
       "256961                0                     0                  0   \n",
       "1217735               0                     0                  0   \n",
       "\n",
       "         subcat_2_Towel  subcat_2_Child Friendly  \n",
       "596936                0                        0  \n",
       "856984                0                        0  \n",
       "1055728               0                        0  \n",
       "256961                0                        0  \n",
       "1217735               0                        0  \n",
       "\n",
       "[5 rows x 5810 columns]"
      ]
     },
     "execution_count": 37,
     "metadata": {},
     "output_type": "execute_result"
    }
   ],
   "source": [
    "X_train.head()"
   ]
  },
  {
   "cell_type": "code",
   "execution_count": 38,
   "metadata": {},
   "outputs": [],
   "source": [
    "# X_test_unscaled.info()"
   ]
  },
  {
   "cell_type": "code",
   "execution_count": 39,
   "metadata": {},
   "outputs": [
    {
     "data": {
      "text/html": [
       "<div>\n",
       "<style scoped>\n",
       "    .dataframe tbody tr th:only-of-type {\n",
       "        vertical-align: middle;\n",
       "    }\n",
       "\n",
       "    .dataframe tbody tr th {\n",
       "        vertical-align: top;\n",
       "    }\n",
       "\n",
       "    .dataframe thead th {\n",
       "        text-align: right;\n",
       "    }\n",
       "</style>\n",
       "<table border=\"1\" class=\"dataframe\">\n",
       "  <thead>\n",
       "    <tr style=\"text-align: right;\">\n",
       "      <th></th>\n",
       "      <th>name_len</th>\n",
       "      <th>item_condition_id</th>\n",
       "      <th>shipping</th>\n",
       "      <th>item_description_len</th>\n",
       "      <th>brand_name_nan</th>\n",
       "      <th>brand_name_Adidas</th>\n",
       "      <th>brand_name_Chanel</th>\n",
       "      <th>brand_name_Nike</th>\n",
       "      <th>brand_name_INC International Concepts</th>\n",
       "      <th>brand_name_Starbucks</th>\n",
       "      <th>...</th>\n",
       "      <th>subcat_2_Entertainment</th>\n",
       "      <th>subcat_2_Bathroom Shelves</th>\n",
       "      <th>subcat_2_Suits &amp; Blazers</th>\n",
       "      <th>subcat_2_Seasonal</th>\n",
       "      <th>subcat_2_Bathroom</th>\n",
       "      <th>subcat_2_Tiles</th>\n",
       "      <th>subcat_2_Dishwashers</th>\n",
       "      <th>subcat_2_Ephemera</th>\n",
       "      <th>subcat_2_Towel</th>\n",
       "      <th>subcat_2_Child Friendly</th>\n",
       "    </tr>\n",
       "  </thead>\n",
       "  <tbody>\n",
       "    <tr>\n",
       "      <th>1296364</th>\n",
       "      <td>0.790698</td>\n",
       "      <td>0.6</td>\n",
       "      <td>1</td>\n",
       "      <td>0.163065</td>\n",
       "      <td>1</td>\n",
       "      <td>0</td>\n",
       "      <td>0</td>\n",
       "      <td>0</td>\n",
       "      <td>0</td>\n",
       "      <td>0</td>\n",
       "      <td>...</td>\n",
       "      <td>0</td>\n",
       "      <td>0</td>\n",
       "      <td>0</td>\n",
       "      <td>0</td>\n",
       "      <td>0</td>\n",
       "      <td>0</td>\n",
       "      <td>0</td>\n",
       "      <td>0</td>\n",
       "      <td>0</td>\n",
       "      <td>0</td>\n",
       "    </tr>\n",
       "    <tr>\n",
       "      <th>822285</th>\n",
       "      <td>0.558140</td>\n",
       "      <td>0.2</td>\n",
       "      <td>0</td>\n",
       "      <td>0.059921</td>\n",
       "      <td>0</td>\n",
       "      <td>0</td>\n",
       "      <td>0</td>\n",
       "      <td>0</td>\n",
       "      <td>0</td>\n",
       "      <td>0</td>\n",
       "      <td>...</td>\n",
       "      <td>0</td>\n",
       "      <td>0</td>\n",
       "      <td>0</td>\n",
       "      <td>0</td>\n",
       "      <td>0</td>\n",
       "      <td>0</td>\n",
       "      <td>0</td>\n",
       "      <td>0</td>\n",
       "      <td>0</td>\n",
       "      <td>0</td>\n",
       "    </tr>\n",
       "    <tr>\n",
       "      <th>81175</th>\n",
       "      <td>0.558140</td>\n",
       "      <td>0.2</td>\n",
       "      <td>0</td>\n",
       "      <td>0.166994</td>\n",
       "      <td>0</td>\n",
       "      <td>0</td>\n",
       "      <td>0</td>\n",
       "      <td>1</td>\n",
       "      <td>0</td>\n",
       "      <td>0</td>\n",
       "      <td>...</td>\n",
       "      <td>0</td>\n",
       "      <td>0</td>\n",
       "      <td>0</td>\n",
       "      <td>0</td>\n",
       "      <td>0</td>\n",
       "      <td>0</td>\n",
       "      <td>0</td>\n",
       "      <td>0</td>\n",
       "      <td>0</td>\n",
       "      <td>0</td>\n",
       "    </tr>\n",
       "    <tr>\n",
       "      <th>1193836</th>\n",
       "      <td>0.348837</td>\n",
       "      <td>0.4</td>\n",
       "      <td>0</td>\n",
       "      <td>0.044204</td>\n",
       "      <td>1</td>\n",
       "      <td>0</td>\n",
       "      <td>0</td>\n",
       "      <td>0</td>\n",
       "      <td>0</td>\n",
       "      <td>0</td>\n",
       "      <td>...</td>\n",
       "      <td>0</td>\n",
       "      <td>0</td>\n",
       "      <td>0</td>\n",
       "      <td>0</td>\n",
       "      <td>0</td>\n",
       "      <td>0</td>\n",
       "      <td>0</td>\n",
       "      <td>0</td>\n",
       "      <td>0</td>\n",
       "      <td>0</td>\n",
       "    </tr>\n",
       "    <tr>\n",
       "      <th>648318</th>\n",
       "      <td>0.860465</td>\n",
       "      <td>0.2</td>\n",
       "      <td>0</td>\n",
       "      <td>0.030452</td>\n",
       "      <td>0</td>\n",
       "      <td>0</td>\n",
       "      <td>0</td>\n",
       "      <td>0</td>\n",
       "      <td>0</td>\n",
       "      <td>0</td>\n",
       "      <td>...</td>\n",
       "      <td>0</td>\n",
       "      <td>0</td>\n",
       "      <td>0</td>\n",
       "      <td>0</td>\n",
       "      <td>0</td>\n",
       "      <td>0</td>\n",
       "      <td>0</td>\n",
       "      <td>0</td>\n",
       "      <td>0</td>\n",
       "      <td>0</td>\n",
       "    </tr>\n",
       "  </tbody>\n",
       "</table>\n",
       "<p>5 rows × 5810 columns</p>\n",
       "</div>"
      ],
      "text/plain": [
       "         name_len  item_condition_id  shipping  item_description_len  \\\n",
       "1296364  0.790698                0.6         1              0.163065   \n",
       "822285   0.558140                0.2         0              0.059921   \n",
       "81175    0.558140                0.2         0              0.166994   \n",
       "1193836  0.348837                0.4         0              0.044204   \n",
       "648318   0.860465                0.2         0              0.030452   \n",
       "\n",
       "         brand_name_nan  brand_name_Adidas  brand_name_Chanel  \\\n",
       "1296364               1                  0                  0   \n",
       "822285                0                  0                  0   \n",
       "81175                 0                  0                  0   \n",
       "1193836               1                  0                  0   \n",
       "648318                0                  0                  0   \n",
       "\n",
       "         brand_name_Nike  brand_name_INC International Concepts  \\\n",
       "1296364                0                                      0   \n",
       "822285                 0                                      0   \n",
       "81175                  1                                      0   \n",
       "1193836                0                                      0   \n",
       "648318                 0                                      0   \n",
       "\n",
       "         brand_name_Starbucks           ...             \\\n",
       "1296364                     0           ...              \n",
       "822285                      0           ...              \n",
       "81175                       0           ...              \n",
       "1193836                     0           ...              \n",
       "648318                      0           ...              \n",
       "\n",
       "         subcat_2_Entertainment  subcat_2_Bathroom Shelves  \\\n",
       "1296364                       0                          0   \n",
       "822285                        0                          0   \n",
       "81175                         0                          0   \n",
       "1193836                       0                          0   \n",
       "648318                        0                          0   \n",
       "\n",
       "         subcat_2_Suits & Blazers  subcat_2_Seasonal  subcat_2_Bathroom  \\\n",
       "1296364                         0                  0                  0   \n",
       "822285                          0                  0                  0   \n",
       "81175                           0                  0                  0   \n",
       "1193836                         0                  0                  0   \n",
       "648318                          0                  0                  0   \n",
       "\n",
       "         subcat_2_Tiles  subcat_2_Dishwashers  subcat_2_Ephemera  \\\n",
       "1296364               0                     0                  0   \n",
       "822285                0                     0                  0   \n",
       "81175                 0                     0                  0   \n",
       "1193836               0                     0                  0   \n",
       "648318                0                     0                  0   \n",
       "\n",
       "         subcat_2_Towel  subcat_2_Child Friendly  \n",
       "1296364               0                        0  \n",
       "822285                0                        0  \n",
       "81175                 0                        0  \n",
       "1193836               0                        0  \n",
       "648318                0                        0  \n",
       "\n",
       "[5 rows x 5810 columns]"
      ]
     },
     "execution_count": 39,
     "metadata": {},
     "output_type": "execute_result"
    }
   ],
   "source": [
    "X_test.head()"
   ]
  },
  {
   "cell_type": "code",
   "execution_count": 40,
   "metadata": {},
   "outputs": [],
   "source": [
    "# X_train.to_csv('X_train.csv')\n",
    "# X_train_scaled.to_csv('X_train_scaled.csv')\n",
    "# X_test.to_csv('X_test.csv')\n",
    "# X_test_scaled.to_csv('X_test_scaled.csv')"
   ]
  },
  {
   "cell_type": "code",
   "execution_count": 41,
   "metadata": {},
   "outputs": [],
   "source": [
    "if (settings['save_env']):\n",
    "    import dill                            #pip install dill --user\n",
    "    dill.dump_session('splittedData.pkl')"
   ]
  },
  {
   "cell_type": "markdown",
   "metadata": {},
   "source": [
    "# Check size of variables"
   ]
  },
  {
   "cell_type": "code",
   "execution_count": 42,
   "metadata": {},
   "outputs": [
    {
     "name": "stdout",
     "output_type": "stream",
     "text": [
      "                       X_train:   6.1GiB\n",
      "                        X_test:   2.0GiB\n",
      "          item_description_len:  62.6MiB\n",
      "                       y_train:  17.0MiB\n",
      "                      id_train:  17.0MiB\n",
      "                        y_test:   5.7MiB\n",
      "                       id_test:   5.7MiB\n",
      "                           ___:  28.6KiB\n",
      "                           _29:  28.6KiB\n",
      "                             _:  28.6KiB\n"
     ]
    }
   ],
   "source": [
    "import sys\n",
    "def sizeof_fmt(num, suffix='B'):\n",
    "    ''' By Fred Cirera, after https://stackoverflow.com/a/1094933/1870254'''\n",
    "    for unit in ['','Ki','Mi','Gi','Ti','Pi','Ei','Zi']:\n",
    "        if abs(num) < 1024.0:\n",
    "            return \"%3.1f%s%s\" % (num, unit, suffix)\n",
    "        num /= 1024.0\n",
    "    return \"%.1f%s%s\" % (num, 'Yi', suffix)\n",
    "\n",
    "for name, size in sorted(((name, sys.getsizeof(value)) for name,value in locals().items()),\n",
    "                         key= lambda x: -x[1])[:10]:\n",
    "    print(\"{:>30}: {:>8}\".format(name,sizeof_fmt(size)))"
   ]
  },
  {
   "cell_type": "markdown",
   "metadata": {},
   "source": [
    "# Performance measure: RMSE\n",
    "\n",
    "$$\\text{RMSE} \\left( \\mathbf{Y} , \\mathbf{\\hat{Y}} \\right) = \\sqrt{\\frac{1}{n} \\sum_{i=1}^n \\left( y_i - \\hat{y_i} \\right)^2 } $$"
   ]
  },
  {
   "cell_type": "code",
   "execution_count": 43,
   "metadata": {},
   "outputs": [],
   "source": [
    "def rmse(y_test, y_pred):\n",
    "    from sklearn.metrics import mean_squared_error\n",
    "    return np.sqrt(mean_squared_error(y_test, y_pred))"
   ]
  },
  {
   "cell_type": "markdown",
   "metadata": {},
   "source": [
    "# Create directory and file for saving data"
   ]
  },
  {
   "cell_type": "code",
   "execution_count": null,
   "metadata": {},
   "outputs": [],
   "source": [
    "# Create directory for saving data if it does not already exist\n",
    "import os\n",
    "\n",
    "if os.path.isdir('generated_data'):\n",
    "    print(\"Directory generated_data already exists\")\n",
    "else:\n",
    "    os.mkdir('generated_data')\n",
    "    print (\"Successfully created the directory called generated_data\")"
   ]
  },
  {
   "cell_type": "code",
   "execution_count": null,
   "metadata": {},
   "outputs": [],
   "source": [
    "# Create file with headings to save training and test RMSEs for learning curves\n",
    "import datetime\n",
    "filename = datetime.datetime.now().strftime('%y%m%d') + '_' + settings['filename_str'] # create file name starting with yymmdd_\n",
    "with open('generated_data/' + filename, 'w') as f:\n",
    "    f.write('training_set_size,training_error,test_error\\n')"
   ]
  },
  {
   "cell_type": "markdown",
   "metadata": {},
   "source": [
    "# Learning curve for linear regression"
   ]
  },
  {
   "cell_type": "code",
   "execution_count": null,
   "metadata": {},
   "outputs": [],
   "source": [
    "from tqdm import tqdm_notebook # progress bar\n",
    "\n",
    "# Initialize arrays for plotting learning curves\n",
    "training_set_sizes = []\n",
    "train_rmses = []\n",
    "test_rmses = []\n",
    "\n",
    "# Generate learning curves and save them\n",
    "for m in tqdm_notebook(range(settings['learning_curve']['start'], settings['learning_curve']['stop'], settings['learning_curve']['step'])):\n",
    "    # Slice dataset\n",
    "    X_train_red = X_train[:m]\n",
    "    y_train_red = y_train[:m]\n",
    "    \n",
    "    # Applu linear regression\n",
    "    from sklearn.linear_model import LinearRegression\n",
    "    lnr_regr = LinearRegression(n_jobs=-1)\n",
    "    print(\"Trainig for training set size of: \" + str(m) + \"...\")\n",
    "    lnr_regr.fit(X_train_red, y_train_red)\n",
    "    \n",
    "    # Make predictions and compute RMSEs\n",
    "    pred_train = lnr_regr.predict(X_train_red)\n",
    "    rmse_train = rmse(y_train_red, pred_train)\n",
    "    print(\"Training set RMSE: %.2f\" % rmse_train)\n",
    "    pred_test = lnr_regr.predict(X_test)\n",
    "    rmse_test = rmse(y_test, pred_test)\n",
    "    print(\"Training set RMSE: %.2f\" % rmse_test)\n",
    "    \n",
    "    # Save to csv file\n",
    "    print(\"Saving to file...\")\n",
    "    with open('generated_data/' + filename, 'a') as f:\n",
    "        f.write(str(m) + ',' + str(rmse_train) + ',' + str(rmse_test) +'\\n')\n",
    "    print(\"\")\n",
    "print(\"Done.\")\n",
    "print(\"Your training and test RMSEs are saved in generated_data/\" + filename)"
   ]
  },
  {
   "cell_type": "markdown",
   "metadata": {},
   "source": [
    "# Apply linear regression to the full trainin set, compute training and test RMSE and add them to the file created above"
   ]
  },
  {
   "cell_type": "code",
   "execution_count": null,
   "metadata": {},
   "outputs": [],
   "source": [
    "# Fit linear regression\n",
    "from sklearn.linear_model import LinearRegression\n",
    "lnr_regr = LinearRegression(n_jobs=-1)\n",
    "print(\"Trainig...\")\n",
    "lnr_regr.fit(X_train, y_train)\n",
    "print(\"Training done.\")\n",
    "\n",
    "if (settings['save_env']):\n",
    "    dill.dump_session('linearModel.pkl')\n",
    "    \n",
    "# Make predictions and report train and test RMSEs\n",
    "\n",
    "print(\"Evaluating performance on the training set...\")\n",
    "pred_train = lnr_regr.predict(X_train)\n",
    "rmse_train = rmse(y_train, pred_train)\n",
    "print(\"Training set RMSE: %.2f\" % rmse_train)\n",
    "\n",
    "print(\"Evaluating performance on the test test...\")\n",
    "pred_test = lnr_regr.predict(X_test)\n",
    "rmse_test = rmse(y_test, pred_test)\n",
    "print(\"Test set RMSE: %.2f\" % rmse_test)\n",
    "\n",
    "# Save to csv file\n",
    "print(\"Saving to file...\")\n",
    "with open('generated_data/' + filename, 'a') as f:\n",
    "    f.write(str(len(X_train)) + ',' + str(rmse_train) + ',' + str(rmse_test) +'\\n')\n",
    "print(\"Done.\")"
   ]
  },
  {
   "cell_type": "markdown",
   "metadata": {},
   "source": [
    "# Gradient Descent"
   ]
  },
  {
   "cell_type": "code",
   "execution_count": null,
   "metadata": {},
   "outputs": [],
   "source": [
    "eta = 0.1  # learning rate\n",
    "n_iterations = 1000\n",
    "m, n = X_train.shape\n",
    "\n",
    "X_b = np.c_[np.ones((m, 1)), X_train]  # add x0 = 1 to each instance\n",
    "\n",
    "theta = np.random.randn(n,1)  # random initialization"
   ]
  },
  {
   "cell_type": "code",
   "execution_count": null,
   "metadata": {},
   "outputs": [],
   "source": [
    "if (settings['del']):\n",
    "    del X_train"
   ]
  },
  {
   "cell_type": "code",
   "execution_count": null,
   "metadata": {},
   "outputs": [],
   "source": [
    "for i in range(n_iterations):\n",
    "    print(\"Iteration: \", i)\n",
    "    gradients = 2/m * X_b.T.dot(X_b.dot(theta) - y)\n",
    "    theta = theta - eta * gradients\n",
    "    pred = X_b * theta\n",
    "    rmse = rmse(y, pred)\n",
    "    print(rmse)"
   ]
  },
  {
   "cell_type": "markdown",
   "metadata": {},
   "source": [
    "# Stochastic Gradient Descent\n"
   ]
  },
  {
   "cell_type": "code",
   "execution_count": 45,
   "metadata": {},
   "outputs": [
    {
     "name": "stdout",
     "output_type": "stream",
     "text": [
      "Trainig...\n"
     ]
    },
    {
     "name": "stderr",
     "output_type": "stream",
     "text": [
      "C:\\Apps\\Anaconda3\\lib\\site-packages\\sklearn\\linear_model\\stochastic_gradient.py:128: FutureWarning: max_iter and tol parameters have been added in <class 'sklearn.linear_model.stochastic_gradient.SGDRegressor'> in 0.19. If both are left unset, they default to max_iter=5 and tol=None. If tol is not None, max_iter defaults to max_iter=1000. From 0.21, default max_iter will be 1000, and default tol will be 1e-3.\n",
      "  \"and default tol will be 1e-3.\" % type(self), FutureWarning)\n"
     ]
    },
    {
     "name": "stdout",
     "output_type": "stream",
     "text": [
      "Training done.\n"
     ]
    }
   ],
   "source": [
    "from sklearn.linear_model import SGDRegressor\n",
    "\n",
    "sgd_clf = SGDRegressor(penalty='none',)\n",
    "\n",
    "print(\"Trainig...\")\n",
    "sgd_clf.fit(X_train, y_train)\n",
    "print(\"Training done.\")"
   ]
  },
  {
   "cell_type": "code",
   "execution_count": 48,
   "metadata": {},
   "outputs": [
    {
     "name": "stdout",
     "output_type": "stream",
     "text": [
      "Evaluating performance on the training set...\n",
      "Training set RMSE: 33.29\n",
      "Evaluating performance on the test test...\n",
      "Test set RMSE: 32.62\n"
     ]
    }
   ],
   "source": [
    "print(\"Evaluating performance on the training set...\")\n",
    "pred_train = sgd_clf.predict(X_train)\n",
    "rmse_train = rmse(y_train, pred_train)\n",
    "print(\"Training set RMSE: %.2f\" % rmse_train)\n",
    "\n",
    "print(\"Evaluating performance on the test test...\")\n",
    "pred_test = sgd_clf.predict(X_test)\n",
    "rmse_test = rmse(y_test, pred_test)\n",
    "print(\"Test set RMSE: %.2f\" % rmse_test)"
   ]
  },
  {
   "cell_type": "code",
   "execution_count": 49,
   "metadata": {},
   "outputs": [
    {
     "name": "stdout",
     "output_type": "stream",
     "text": [
      "<class 'pandas.core.frame.DataFrame'>\n",
      "Int64Index: 1111901 entries, 596936 to 75785\n",
      "Columns: 5810 entries, name_len to subcat_2_Child Friendly\n",
      "dtypes: float64(3), int64(1), int8(5806)\n",
      "memory usage: 6.1 GB\n"
     ]
    }
   ],
   "source": [
    "X_train.info()"
   ]
  },
  {
   "cell_type": "code",
   "execution_count": 53,
   "metadata": {},
   "outputs": [
    {
     "data": {
      "text/plain": [
       "26.757328665052015"
      ]
     },
     "execution_count": 53,
     "metadata": {},
     "output_type": "execute_result"
    }
   ],
   "source": [
    "y_train.mean()"
   ]
  },
  {
   "cell_type": "code",
   "execution_count": null,
   "metadata": {},
   "outputs": [],
   "source": []
  },
  {
   "cell_type": "code",
   "execution_count": null,
   "metadata": {},
   "outputs": [],
   "source": [
    "# import dill"
   ]
  },
  {
   "cell_type": "code",
   "execution_count": null,
   "metadata": {},
   "outputs": [],
   "source": [
    "# dill.load_session('linearModel.pkl')"
   ]
  },
  {
   "cell_type": "code",
   "execution_count": null,
   "metadata": {},
   "outputs": [],
   "source": [
    "# who"
   ]
  },
  {
   "cell_type": "code",
   "execution_count": null,
   "metadata": {},
   "outputs": [],
   "source": []
  },
  {
   "cell_type": "code",
   "execution_count": null,
   "metadata": {},
   "outputs": [],
   "source": []
  }
 ],
 "metadata": {
  "kernelspec": {
   "display_name": "Python 3",
   "language": "python",
   "name": "python3"
  },
  "language_info": {
   "codemirror_mode": {
    "name": "ipython",
    "version": 3
   },
   "file_extension": ".py",
   "mimetype": "text/x-python",
   "name": "python",
   "nbconvert_exporter": "python",
   "pygments_lexer": "ipython3",
   "version": "3.7.0"
  }
 },
 "nbformat": 4,
 "nbformat_minor": 2
}
