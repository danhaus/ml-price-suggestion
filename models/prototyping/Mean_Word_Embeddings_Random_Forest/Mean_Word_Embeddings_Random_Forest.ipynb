{
 "cells": [
  {
   "cell_type": "code",
   "execution_count": 1,
   "metadata": {},
   "outputs": [],
   "source": [
    "import pandas as pd\n",
    "from tqdm import tqdm_notebook\n",
    "\n",
    "import sys\n",
    "sys.path.append(\"../../../lib\") # Adds higher directory to python modules path.\n",
    "import helper_functions as hf\n",
    "import language_processing as lp\n",
    "import feature_extraction as fe"
   ]
  },
  {
   "cell_type": "code",
   "execution_count": 2,
   "metadata": {},
   "outputs": [],
   "source": [
    "PATH = \"../../../data/\"\n",
    "data_full = pd.read_csv(f'{PATH}train.tsv', sep='\\t')\n",
    "stopwords = [line.rstrip('\\n') for line in open(f'{PATH}stopwords/english')]\n"
   ]
  },
  {
   "cell_type": "markdown",
   "metadata": {},
   "source": [
    "## Replace NaN"
   ]
  },
  {
   "cell_type": "code",
   "execution_count": 3,
   "metadata": {},
   "outputs": [],
   "source": [
    "data_full = hf.replace_nan(data_full)"
   ]
  },
  {
   "cell_type": "code",
   "execution_count": 4,
   "metadata": {},
   "outputs": [
    {
     "data": {
      "text/html": [
       "<div>\n",
       "<style scoped>\n",
       "    .dataframe tbody tr th:only-of-type {\n",
       "        vertical-align: middle;\n",
       "    }\n",
       "\n",
       "    .dataframe tbody tr th {\n",
       "        vertical-align: top;\n",
       "    }\n",
       "\n",
       "    .dataframe thead th {\n",
       "        text-align: right;\n",
       "    }\n",
       "</style>\n",
       "<table border=\"1\" class=\"dataframe\">\n",
       "  <thead>\n",
       "    <tr style=\"text-align: right;\">\n",
       "      <th></th>\n",
       "      <th>train_id</th>\n",
       "      <th>name</th>\n",
       "      <th>item_condition_id</th>\n",
       "      <th>category_name</th>\n",
       "      <th>brand_name</th>\n",
       "      <th>price</th>\n",
       "      <th>shipping</th>\n",
       "      <th>item_description</th>\n",
       "    </tr>\n",
       "  </thead>\n",
       "  <tbody>\n",
       "    <tr>\n",
       "      <th>0</th>\n",
       "      <td>0</td>\n",
       "      <td>MLB Cincinnati Reds T Shirt Size XL</td>\n",
       "      <td>3</td>\n",
       "      <td>Men/Tops/T-shirts</td>\n",
       "      <td>No Brand</td>\n",
       "      <td>10.0</td>\n",
       "      <td>1</td>\n",
       "      <td>No description yet</td>\n",
       "    </tr>\n",
       "    <tr>\n",
       "      <th>1</th>\n",
       "      <td>1</td>\n",
       "      <td>Razer BlackWidow Chroma Keyboard</td>\n",
       "      <td>3</td>\n",
       "      <td>Electronics/Computers &amp; Tablets/Components &amp; P...</td>\n",
       "      <td>Razer</td>\n",
       "      <td>52.0</td>\n",
       "      <td>0</td>\n",
       "      <td>This keyboard is in great condition and works ...</td>\n",
       "    </tr>\n",
       "    <tr>\n",
       "      <th>2</th>\n",
       "      <td>2</td>\n",
       "      <td>AVA-VIV Blouse</td>\n",
       "      <td>1</td>\n",
       "      <td>Women/Tops &amp; Blouses/Blouse</td>\n",
       "      <td>Target</td>\n",
       "      <td>10.0</td>\n",
       "      <td>1</td>\n",
       "      <td>Adorable top with a hint of lace and a key hol...</td>\n",
       "    </tr>\n",
       "    <tr>\n",
       "      <th>3</th>\n",
       "      <td>3</td>\n",
       "      <td>Leather Horse Statues</td>\n",
       "      <td>1</td>\n",
       "      <td>Home/Home Décor/Home Décor Accents</td>\n",
       "      <td>No Brand</td>\n",
       "      <td>35.0</td>\n",
       "      <td>1</td>\n",
       "      <td>New with tags. Leather horses. Retail for [rm]...</td>\n",
       "    </tr>\n",
       "    <tr>\n",
       "      <th>4</th>\n",
       "      <td>4</td>\n",
       "      <td>24K GOLD plated rose</td>\n",
       "      <td>1</td>\n",
       "      <td>Women/Jewelry/Necklaces</td>\n",
       "      <td>No Brand</td>\n",
       "      <td>44.0</td>\n",
       "      <td>0</td>\n",
       "      <td>Complete with certificate of authenticity</td>\n",
       "    </tr>\n",
       "  </tbody>\n",
       "</table>\n",
       "</div>"
      ],
      "text/plain": [
       "   train_id                                 name  item_condition_id  \\\n",
       "0         0  MLB Cincinnati Reds T Shirt Size XL                  3   \n",
       "1         1     Razer BlackWidow Chroma Keyboard                  3   \n",
       "2         2                       AVA-VIV Blouse                  1   \n",
       "3         3                Leather Horse Statues                  1   \n",
       "4         4                 24K GOLD plated rose                  1   \n",
       "\n",
       "                                       category_name brand_name  price  \\\n",
       "0                                  Men/Tops/T-shirts   No Brand   10.0   \n",
       "1  Electronics/Computers & Tablets/Components & P...      Razer   52.0   \n",
       "2                        Women/Tops & Blouses/Blouse     Target   10.0   \n",
       "3                 Home/Home Décor/Home Décor Accents   No Brand   35.0   \n",
       "4                            Women/Jewelry/Necklaces   No Brand   44.0   \n",
       "\n",
       "   shipping                                   item_description  \n",
       "0         1                                 No description yet  \n",
       "1         0  This keyboard is in great condition and works ...  \n",
       "2         1  Adorable top with a hint of lace and a key hol...  \n",
       "3         1  New with tags. Leather horses. Retail for [rm]...  \n",
       "4         0          Complete with certificate of authenticity  "
      ]
     },
     "execution_count": 4,
     "metadata": {},
     "output_type": "execute_result"
    }
   ],
   "source": [
    "data_full.head()"
   ]
  },
  {
   "cell_type": "markdown",
   "metadata": {},
   "source": [
    "# Work with only 'Electronics/Video Games & Consoles/Video Gaming Merchandise' category"
   ]
  },
  {
   "cell_type": "code",
   "execution_count": 5,
   "metadata": {},
   "outputs": [
    {
     "data": {
      "text/plain": [
       "1151"
      ]
     },
     "execution_count": 5,
     "metadata": {},
     "output_type": "execute_result"
    }
   ],
   "source": [
    "cat_df = data_full.loc[data_full.category_name == 'Electronics/Video Games & Consoles/Video Gaming Merchandise']\n",
    "\n",
    "len(cat_df)"
   ]
  },
  {
   "cell_type": "markdown",
   "metadata": {},
   "source": [
    "## Delete items without description"
   ]
  },
  {
   "cell_type": "code",
   "execution_count": 6,
   "metadata": {},
   "outputs": [
    {
     "data": {
      "text/plain": [
       "1065"
      ]
     },
     "execution_count": 6,
     "metadata": {},
     "output_type": "execute_result"
    }
   ],
   "source": [
    "cat_df = cat_df[cat_df.item_description != 'No description yet']\n",
    "\n",
    "len(cat_df)"
   ]
  },
  {
   "cell_type": "markdown",
   "metadata": {},
   "source": [
    "## Extract labels"
   ]
  },
  {
   "cell_type": "code",
   "execution_count": 7,
   "metadata": {},
   "outputs": [
    {
     "name": "stdout",
     "output_type": "stream",
     "text": [
      "range (0, 9.0) has 209 items\n",
      "range (9.0, 15.0) has 193 items\n",
      "range (15.0, 23.0) has 227 items\n",
      "range (23.0, 38.0) has 218 items\n",
      "range (38.0, 589.0) has 218 items\n"
     ]
    }
   ],
   "source": [
    "import price_classifier\n",
    "\n",
    "pc = price_classifier.PriceClassifier(cat_df, 5)\n",
    "y = pc.extract(cat_df)\n",
    "\n",
    "for range_ in pc.ranges:\n",
    "    print(\"range {} has {} items\".format(range_, (y == (str(range_[0]) + \"-\" + str(range_[1]))).sum()))"
   ]
  },
  {
   "cell_type": "markdown",
   "metadata": {},
   "source": [
    "### Train & Test split"
   ]
  },
  {
   "cell_type": "code",
   "execution_count": 8,
   "metadata": {},
   "outputs": [],
   "source": [
    "from sklearn.model_selection import train_test_split\n",
    "\n",
    "df_train, df_test, y_train, y_test = train_test_split(cat_df, y, test_size=0.20, random_state=42)"
   ]
  },
  {
   "cell_type": "markdown",
   "metadata": {},
   "source": [
    "### Convert GloVe into word2vec"
   ]
  },
  {
   "cell_type": "code",
   "execution_count": 9,
   "metadata": {},
   "outputs": [],
   "source": [
    "# from gensim.scripts.glove2word2vec import glove2word2vec\n",
    "# glove_input_file = f'{PATH}glove/glove.840B.300d.txt'\n",
    "# word2vec_output_file = f'{PATH}glove/glove.840B.300d.txt.word2vec'\n",
    "# glove2word2vec(glove_input_file, word2vec_output_file)"
   ]
  },
  {
   "cell_type": "markdown",
   "metadata": {},
   "source": [
    "### Load the word2vec model"
   ]
  },
  {
   "cell_type": "code",
   "execution_count": 10,
   "metadata": {},
   "outputs": [],
   "source": [
    "from gensim.models import KeyedVectors\n",
    "\n",
    "# UNCOMMENT ONE OF THE FOLLOWING\n",
    "\n",
    "# filename = f'{PATH}glove/glove.6B.100d.txt.word2vec' # GloVe Wikipedia + Gigaword\n",
    "# model = KeyedVectors.load_word2vec_format(filename, binary=False)\n",
    "\n",
    "filename = f'{PATH}glove/glove.6B.300d.txt.word2vec' # GloVe Wikipedia + Gigaword\n",
    "model = KeyedVectors.load_word2vec_format(filename, binary=False)\n",
    "\n",
    "# filename = f'{PATH}glove/glove.840B.300d.txt.word2vec' # GloVe Common Crowl\n",
    "# model = KeyedVectors.load_word2vec_format(filename, binary=False)\n",
    "\n",
    "\n",
    "# filename = f'{PATH}google/GoogleNews-vectors-negative300.bin'# Google News\n",
    "# model = KeyedVectors.load_word2vec_format(filename, binary=True)"
   ]
  },
  {
   "cell_type": "markdown",
   "metadata": {},
   "source": [
    "## Run grid search"
   ]
  },
  {
   "cell_type": "markdown",
   "metadata": {},
   "source": [
    "Run grid search for all combinations of text processing"
   ]
  },
  {
   "cell_type": "code",
   "execution_count": 12,
   "metadata": {},
   "outputs": [
    {
     "data": {
      "application/vnd.jupyter.widget-view+json": {
       "model_id": "9d5c2f57cb1e4900ac2de9465c0b3813",
       "version_major": 2,
       "version_minor": 0
      },
      "text/plain": [
       "HBox(children=(IntProgress(value=0, max=4), HTML(value='')))"
      ]
     },
     "metadata": {},
     "output_type": "display_data"
    },
    {
     "name": "stderr",
     "output_type": "stream",
     "text": [
      "/Users/daniel/anaconda3/lib/python3.7/site-packages/sklearn/externals/joblib/externals/loky/backend/semaphore_tracker.py:74: UserWarning: semaphore_tracker: process died unexpectedly, relaunching.  Some semaphores might leak.\n",
      "  warnings.warn('semaphore_tracker: process died unexpectedly, '\n"
     ]
    },
    {
     "name": "stdout",
     "output_type": "stream",
     "text": [
      "\n",
      "Optimization done, adding additional data into optimisation_result before saving pickle...\n",
      "Saving pickle\n",
      "Done\n"
     ]
    }
   ],
   "source": [
    "from sklearn.model_selection import ParameterGrid\n",
    "from sklearn.ensemble import RandomForestClassifier\n",
    "from sklearn.model_selection import GridSearchCV\n",
    "\n",
    "NLP_param_grid = {\n",
    "    'desc_sw': [stopwords, None],\n",
    "    'name_sw': [stopwords, None],\n",
    "}\n",
    "\n",
    "grid_search_param_grid = {\n",
    "#     'n_estimators':[1, 3, 10, 30, 100, 300, 1000],\n",
    "    'n_estimators':[1],\n",
    "#     'max_depth':[1,3,10,30,100],\n",
    "    'min_samples_leaf':[1,3,10],\n",
    "    'random_state':[42]\n",
    "}\n",
    "\n",
    "optimisation_result = None\n",
    "\n",
    "for gp in tqdm_notebook(list(ParameterGrid(NLP_param_grid))):\n",
    "#     print(\"NLP params:\", gp)\n",
    "\n",
    "    # Create pipeline\n",
    "    pipe = fe.Pipeline(steps=[\n",
    "        ('item_desc', lp.MeanEmbeddingVectorizer(\n",
    "            model,\n",
    "            df_train,\n",
    "            'item_description',\n",
    "            stopwords=gp['desc_sw']\n",
    "        )),\n",
    "        ('name', lp.MeanEmbeddingVectorizer(\n",
    "            model,\n",
    "            df_train,\n",
    "            'name',\n",
    "            stopwords=gp['name_sw']\n",
    "        )),\n",
    "    ])\n",
    "    \n",
    "    # Exctract features\n",
    "#     print(\"Extracting features\")\n",
    "    X_train = pipe.extract_features(df_train)\n",
    "    X_test = pipe.extract_features(df_test)\n",
    "\n",
    "    # Run grid search\n",
    "#     print(\"Running grid search\")\n",
    "    random_forest = RandomForestClassifier()\n",
    "    clf = GridSearchCV(random_forest, grid_search_param_grid, iid=False, cv=5, n_jobs=-1)\n",
    "    clf.fit(X_train, y_train)\n",
    "    \n",
    "    current_result = {\n",
    "        'best_score_': clf.best_score_,\n",
    "        'best_NLP_gp': gp,\n",
    "        'best_params_': clf.best_params_,\n",
    "        'best_estimator_': clf.best_estimator_,\n",
    "        'X_train': X_train,\n",
    "        'X_test': X_test,\n",
    "    }\n",
    "    \n",
    "    if optimisation_result is None:\n",
    "        optimisation_result = current_result\n",
    "#         print()\n",
    "        continue\n",
    "        \n",
    "    if current_result['best_score_'] > optimisation_result['best_score_']:\n",
    "        print(\"New best score achieved\", current_result['best_score_'])\n",
    "        optimisation_result = current_result\n",
    "#     print()\n",
    "\n",
    "# Add the parameters for grid search and the training data\n",
    "print(\"Optimization done, adding additional data into optimisation_result before saving pickle...\")\n",
    "optimisation_result['NLP_param_grid'] = NLP_param_grid\n",
    "optimisation_result['grid_search_param_grid'] = grid_search_param_grid\n",
    "optimisation_result['df_train'] = df_train\n",
    "optimisation_result['df_test'] = df_test\n",
    "optimisation_result['y_train'] = y_train\n",
    "optimisation_result['y_test'] = y_test\n",
    "\n",
    "print(\"Saving pickle\")\n",
    "# hf.save_pickle(optimisation_result, f'{PATH}pickle/BOW_optimisation_result')\n",
    "print(\"Done\")"
   ]
  },
  {
   "cell_type": "markdown",
   "metadata": {},
   "source": [
    "### Exctract features"
   ]
  },
  {
   "cell_type": "code",
   "execution_count": 15,
   "metadata": {},
   "outputs": [],
   "source": []
  },
  {
   "cell_type": "code",
   "execution_count": 16,
   "metadata": {},
   "outputs": [
    {
     "name": "stdout",
     "output_type": "stream",
     "text": [
      "Extracting features for the training set...\n",
      "Done\n",
      "Extracting features for the test set...\n",
      "Done\n"
     ]
    }
   ],
   "source": [
    "print(\"Extracting features for the training set...\")\n",
    "X_train = pipe.extract_features(df_train)\n",
    "print(\"Done\")\n",
    "print(\"Extracting features for the test set...\")\n",
    "X_test = pipe.extract_features(df_test)\n",
    "print(\"Done\")"
   ]
  },
  {
   "cell_type": "markdown",
   "metadata": {},
   "source": [
    "### Analysis on word embeddings (item_description)"
   ]
  },
  {
   "cell_type": "code",
   "execution_count": 17,
   "metadata": {},
   "outputs": [],
   "source": [
    "voc_set_model = pipe.named_steps['word2vec_item_description'].voc_set_model\n",
    "voc_set_df_train = pipe.named_steps['word2vec_item_description'].voc_set_df_train\n",
    "voc_set_intersect = pipe.named_steps['word2vec_item_description'].voc_set_intersect"
   ]
  },
  {
   "cell_type": "code",
   "execution_count": 18,
   "metadata": {},
   "outputs": [
    {
     "name": "stdout",
     "output_type": "stream",
     "text": [
      "Size of model vocabulary: 400000\n",
      "Size of df_train vocabulary: 3307\n",
      "Size of intersect vocabulary: 2406\n"
     ]
    }
   ],
   "source": [
    "print(\"Size of model vocabulary: {}\".format(len(voc_set_model)))\n",
    "print(\"Size of df_train vocabulary: {}\".format(len(voc_set_df_train)))\n",
    "print(\"Size of intersect vocabulary: {}\".format(len(voc_set_intersect)))"
   ]
  },
  {
   "cell_type": "code",
   "execution_count": 19,
   "metadata": {},
   "outputs": [
    {
     "name": "stdout",
     "output_type": "stream",
     "text": [
      "Intersect vocabulary: {'us', 'kind', 'production', 'improves', 'control', 'applicant', 'outs', 'ab', 'smooth', 'literally', 'optically', 'reminder', 'aligning', 'webcam', 'alot', 'full', 'please', 'released', 'properly', 'slot', 'lighting', 'bangs', 'sticky', 'zte', 'enhanced', 'directly', 'lens', 'line', 'extension', 'fitted', 'll', 'high', 'specially', 'package', 'turn', 'very', 'panels', 'cup', 'yellowing', 'returned', 'burlap', '@', 'protection', 'your', 'rm', 'reinforces', 'ship', 'fit', 'maintains', 'typical', 'compliments', '4-6', 'said', 'prime', 'etched', 'cheapest', 'bucks', '360', 'point', 'packaged', 'nor', 'smartphones', 'separate', 'unbranded', 'one', '36', 'nwt', 'bluetooth', 'i', '8h', 'wrap', 'exposed', 'form', 'charger', 'worn', 'google', 'solve', 'diminish', 'trees', 'skin', 'military', '2.5', 'tough', 'sports', 'unscratched', 'fast', 's4', '1-3', 'holder', 'precise', 'allows', ';', 'proprietary', 'thinking', '20', 'ups', 'reduction', 'fyi', 'motorola', 'big', 'unlocking', 'eat', 'light', 'after', 'help', 'diamond', 'closed', 'display', 'screwdrivers', 'outperform', 'did', 'consists', 'guys', 'swab', 'universal', 'seller', 'decals', 'fashionable', 'properties', 'night', 'asked', 'piece', 'with', 'pick', 'influence', 'demand', 'stands', 'edge', '9h', 'substances', 'taking', 'my', 'stylus', 'therapy', 'fastest', 'step', 'suit', 'dont', 'treatment', 'adopts', 'oasis', 'shop', 'look', 'swabs', 'matched', 'completed', 'retail', 'gosh', 'competitor', 'blocking', 'shopping', 'glitters', 'amoled', 'featuring', 'faceplate', 'classified', 'backing', 'pay', 'realize', 'sorry', 'trusted', 'transition', 'inches', 'here', 'applies', 'cling', 'securely', 'al', 'feedback', 'registered', 'glitter', 'walgreens', 'affect', 'for', 'manufacturing', '530', 'send', 'authentic', 'slim', 'promptly', 'retains', 'bad', 'while', 'years', 'advertised', 'closet', 'hardening', 'mirror', 'environment', 'sell', 'shocking', 'complementary', 'deal', 'compatibility', 'visibility', 'insuring', 'them', 'accuracy', 'mask', 'meaning', 'excess', 'treated', 'usa', 'amazon', 'cutting', 'makes', 'absorbs', 'multi-level', 'shocks', 'wakes', 'absorbing', 'se', 'down', 'dimensions', 'shockproof', 'low-profile', 'both', 'coupled', 'aquos', 'buyer', 'exquisitely', '=', 'instructions', 'no', 'class', 'prevent', '80', '+', 'broken', 'had', 'stretch', 'raise', 'kit', 'then', 'removing', 'rainbow', 'reflective', 'asap', 'chemically', 'straight', 'minimalist', 'requested', 'shock', '~', 'added', 'adsorption', 'adjustments', 'hd', 'world', 'friday', 'electro', 'hybrid', 'rocking', 'request', 'absorbent', 'micro', '2016', 'provides', 'structured', 'lights', 'looks', 'flawless', 'black', 'sprint', 'stickers', 'film', 'sensitive', 'intensified', 'along', 'marks', 'personally', 'final', 'this', 'able', 'mentioned', 'moto', 'negotiate', 'helping', 'bank', 'shatter', 'raised', 'same', 'adheres', 'tape', 'anything', 'panti', 'stuff', 'when', 'g3', 'contaminants', 'lcd', 's8', 'thin', '7/7', 'astm', 'perfectly', '1,2', 'undisturbed', '1.4', 'rotation', 'preventing', 'bling', 'gap', 'yellow', 'bond', 'films', 'peek', 'youtube', 'during', 'delivery', 'fiber', 'worrying', 'base', 'app', 'glad', '10h', 'high-definition', 'm8', 'backup', 'thanks', 'only', 'shields', 'detachable', 'nano', '42', 'peeping', 'objects', 'apply', 'six', 'few', 'premier', 'quantity', 'delays', 'means', 'disruption', 'selected', 'fades', 'flash', 'face', 'cdt', 'hot', 'piercing', 'extremely', 'green', 'call', 'going', 'ca', 'working', 'quick', 'glare', 'remove', 'fits', 'sharpness', 'desire', 'degree', 'pre-cut', 'wrong', 'pencil', 'changing', 'pcs', 'snooping', 'dirt', 'till', 'tempering', 'gon', 'highest', 'cricket', 'else', 'beauty', 'two', 'pens', 'list', 'jack', 'our', 'search', 'from', 'viewing', \"'\", 'need', 'u', 'macbook', 'a8', '4pm', 'paper', 'orders', 'align', 'mini', 'smartphone', 'received', 'creates', 'than', 'people', 'function', 'every', 'laser', 'great', 'sticker', 'could', 'repel', 'kick', 'nu', 'nearly', 'case', 'without', '5.5', 'printing', 'z3', 'mic', 'fee', '``', '0.3', 'which', 'unit', 'tear', 'numerous', 'replacements', '25', 'tinted', 'tools', 'fine', '”', 'comparison', 'out', 'either', 'always', 'approx', 'items', 'multi', 'ease', 'if', 'state-of-the-art', 'accept', 'becasue', 'giving', 'fix', 'durable', 'washable', '6p', 'texture', 'pro', 'button', 'wedge', 'there', 'all', 'size', 's7', 'tracking', 'ipad', 'label', 'mate', 'release', 'keeps', 'agents', 'worlds', 'most', 'shell', \"'ll\", 'port', 'd', 'residue', 'bellow', 'cell', 'sync', 'description', 'environments', 'disadvantage', 'inch', 'placed', 'work', 't', '2015', 'pixel', 'feels', 'fingers', 'state', 'graphic', 'regular', 'blemished', 'accentuates', '2-7', 'pretty', 'messages', 'ray', 'unparalleled', 'uv', 'negative', 'buildup', '90', 'detail', 'arrival', 'easily', 'assurance', 'problem', 'carefully', 'putting', 'fees', 'contoured', 'protective', 'reduce', 'output', 'oily', 'basically', 'safer', 'questions', 'branded', 'cost', 'blaze', 'page', 'impacts', 'advance', 'ground', 'purchased', 'saves', 'polymer', 'watch', 'type', 'save', 'such', 'change', 'shower', 'ended', 'co', 'minimal', 'you', 'viewed', 'convenience', '***', 'nintendo', 'rag', 'keyboard', '360-degree', 'four', 'test', 'curvy', '3.', 'choose', 'matte', 'husbands', '5s', 'applicator', 'deserves', 'value', 'cut-out', 'dents', 'business', 'special', 'ratings', '15', 'resolution', 'interference', 'remover', 'g4', 'approach', 'finger', 'ships', 'afternoon', 'resistance', 'lv', '38', 'glide', 'ignore', 'promote', 'tightly', 'important', 'complete', 'one-touch', '2-day', '5x', 'information', 'decal', 'following', 'brand', 'enjoy', 'absorbency', 'offers', 'having', 's', 'designs', 'technical', 'filter', 'wipe', 'finishing', 'brightness', 'further', 'series', 'intuitive', 'huawei', 'panel', '9.7', 'placement', '6x', '0-2', 'rating', 'make', 'spy', 'repair', 'surface-level', 'compare', 'fully', 'sleeker', 'ignored', 'any', 'choices', 'blow', 'prints', 'noted', 'thing', 'duracell', '26', 'halo', '25g', 'areas', 'prep', 'rid', 'sensors', 'gave', 'stay', 'g2', 'etc', 'patented', 'the', 'website', 'personal', 'center', 'absorption', 'extends', 'correct', 'otherwise', 'days', 'what', 'spots', 'lumia', 'layers', 'cutout', 'created', 'excessive', 'blocked', 'mute', 'ipod', 'developed', 'retaining', 'buyers', 'deals', 'myself', 'caused', 'photographer', 'using', 'extreme', 'brightest', 'colors', 'sealed', 'proven', 'profile', 'ask', 'gold', 'oops', 'technology', 'question', 'school', 'dropping', 'natural', 'operation', 'brightly', 'white', 'headphone', 'rainy', 'fakes', 'beads', 'tool', 'pipes', 'discussion', 'dusts', 'trim', 'return', 'disassembly', 'verizon', 'back', 'firmly', 'exceptionally', 'leaving', 'toughness', 'lit', 'pricing', 'clot', 'snoopers', 'speeds', 'surge', 'present', 'buy', 'v10', 'downwards', 'purchases', 'self-healing', 'disappear', 'scale', 'outstanding', 'want', 'customer', 'inside', 'preserves', 'armour', 'finished', 'wholesalers', 'amount', 'deliver', 'on/off', 'new', 'vision', 'enable', 'comma', 'exactly', 'force', 'adhesive', 'sticks', '97', 'exchange', 'sealing', 'innovated', 'purpose', 'pic', 'try', 'sturdy', '3m', 'remains', 'af', 'miss', 'each', 'end', 'stores', 'removal', 'steps', 'deeper', 'features', 'reinstallation', 'to', 'hands', 'resist', 'pictures', '“', 'straightforward', 'proof', 'cloth', 'choice', 'corner', 'applied', 'apple', 'rear', '–', 'weight', 'ailun', 'kinds', 'adhesives', '93.7', 'concern', 'confirm', 'round', 'listed', 'match', 'gel', 'goal', 'flawlessly', 'bought', 'quality', 'length', 'o', 'grid', '950', 'system', 'cleared', 'secret', 'daily', 'through', 'est', 'swivel', 'visible', 'break', 'bundles', 'avoid', 'pushing', 'now', 'slip', 'numbers', 'trough', 'touching', 'hate', 'custom', 'low', 'original', 'outer', 'prevents', 'plastic', 'weekend', 'back-up', 'super-strong', 'dusting', 'truly', 'ones', 'receive', 'military-grade', 'absorber', 'glass-like', 'guard', 'zmax', 's/m', 'pen', 'use', 'super', 'around', 'or', 'things', 'ultimate', 'samsung', 'z4', 'custom-designed', 'iplanet', 'actual', 'particles', 'loved', 'build', 'united', 'prefer', 'female', '12.9', 'shows', 'tutorials', 'tee', 'sheer', 'many', 'go', 'crystal-clear', 'sized', 'besides', 'dropped', 'model', 'greasy', 'dark', 'upgrade', 'hdx', 'accidentally', '!', 'alcohol', 'comments', 'standard', 'k7', 'labeled', 'normal', 'says', 'removed', 'stronger', 'inc', 'inferior', 'stellar', 'grip', 'prolong', 'flexible', 'transmittance', 'taken', 'into', 'unlike', 'move', 'pressure', 'scrapes', 'likely', 'bigger', 'independently', 'bag', 'visual', 'seeing', 'therefore', 'listing', 'single', 'landscape', 'components', 'packs', '4', 'dollars', 'also', 'affecting', 'reserved', 'toughest', 'surface', 'installers', 'interactivity', 'prepare', 'attention', 'solid', '6h', 'correctly', 'video', 'priority', 'chips', 'read', 'manual', 'clean', 'bit', 'powerful', 'cushion', 'unique', '45', 'supports', 'extra', 'order', 'existence', 'tampered', 'hope', 'maximum', 'pup', 'put', '3rd', 'beautifully', 'burst', 'negotiable', 'chip', 'in', 'why', 'polycarbonate', 'below', 'dimension', 'enjoyable', 'improve', 'advantage', 'envelope', 'provided', 'let', 'drops', 'priced', 'hits', 'facing', 'capacitive', 'aqua', 'microfiber', 'estimated', 'materials', 's5', 'adt', 'buck', '3', 'releasing', 'picks', 'peters', 'portrait', 'tiny', 'hoping', 'functionality', '3-5', 'mendoza', 'don', 'smoothly', 'version', 'simply', 'armor', 'products', 'od', 'bring', 'update', 'impact', 'march', 'offer', 'prior', 'a', 'workmanship', 'expensive', 'grease', '5pm', 'protecting', 'occasion', 'otter', 'bursting', 'portion', 'plenty', 'hardly', 'physical', 'retina', 'hardness', 'take', 'separates', 'turned', 'contacting', 'pry', 'unsure', 'have', 'cellphone', 'maintain', 'navigate', 'do', 'making', 'promises', 'hole', 'dingy', '5.1', 'signs', 'fifteen', 'responsiveness', 'post', 'shattered', 'oh', 'error', 'versatility', 'brighter', 'does', 'avail', 'bottle', 'functions', 'bundling', 'confidence', 'clear', 'pleased', 'knife', 'area', 'nike', 'mha', 'large', 'lift', 'detract', 'lister', 'smudges', 'life', 'results', 'updated', '}', 'specifications', 'optimum', 'payment', 'ton', 'mailer', 'ur', 'today', 'generally', 'sides', 'fingerprints', 'contents', 'even', 'hard-wearing', 'smoking', 'dry', 'wandering', 'snug', 'common', 'access', 'feeling', 'intended', 'covering', 'backups', 'virtually', 'another', 'damaging', 'idol', 'resists', 'ds', 'backed', '3d', 'n', 'impenetrable', 'quickly', '3-d', 'contact', 'customers', 'potential', 'prices', 'dust', 'love', 'paste', 'different', 'diffuses', 'coming', 'heat', 'wo', 'soft', 'buds', '0.2', 'wholesale', 'importantly', 'thankyou', 'brand-new', 'ugly', 'abuse', 'electronics', 'clarity', 'way', 'damping', 'bracelet', 'lower', 'g5', 'transparence', 'waste', 'demeaning', 'angle', 'knock-off', 'extended', 'naked', 'however', 'w', 'flexibility', 'screens', 'investment', 'gone', 'feature', 'touch', 'chance', 'yours', 'usability', 'crafted', 'prying', 'onlookers', '96', 'versions', 'be', '0.19', 'continue', '7', 'punctures', 'models', 'dinged', 'kama', 'stock', 'engineered', 'computer', 'reason', 'definition', 'microsoft', 'r-1', 'letting', 'strips', 'privacy', 'bio', 'bar', 'digital', 'poor', 'external', 'camera', 'pin', 'packed', 'mobile', 'finish', 'beside', 'persons', 'rugged', '2-3-4', 'higher', 'am', 'economy', 'restrictive', 'contain', '**', 'smart', 'clearing', '12.00', 'specification', 'self', '9', 'wonders', 'similar', 'stylish', 'fire', 'layered', '5.', 'strain', 'nicely', 'purchase', 'volume', 'mr', 'above', 'robles', 'longer', 'scratched', 'embarrassing', 'speakers', 'cody', 'left', 'steel', 'money', 'onto', 'explosion', 'cancelled', 'made', 'everyone', 'bulk', 'credit', 'mounted', 'cracks', 'usps', 'inspection', 'connector', 'glove', 'microphones', 'electrostatic', 'scroll', 'satin', 'incredibly', 'delete', 'feel', '13', 'precisely', 'annoying', 'structure', 'recommended', 'history', 'between', 'bumps', 'j3', 'sensor', 'bubble', 'smudge', 'market', 'z2', '6/6', 'slimmer', 'rubber', 'upon', 'oil', 'adds', 'cracked', 'performance', 'available', '99', 'must', 'guards', '5.5-inch', 'box', 'leading', 'buisness', 'effective', 'gently', \"'m\", 'arrive', 'bumped', 'supported', 'wrapped', 'snap', 'fitbit', 'before', 'chargers', 'japanese', 'frustration', 'reasons', 'molecules', 'quicker', 'image', 'iphones', 'ultra', 'alta', 'scuffs', 'definitely', 'quantities', 'lifted', 'form-fitting', 'secondly', 'schedule', 'lamination', \"'re\", 'tell', 'iq', 'norn', 's2', 'singularly', 'gives', 'easy', 'cutouts', '2-6', 'bough', 'everyday', '1x', 'loss', 'curve', 'stylo', 'strangers', 'everything', 'additional', 'under', 'guarantee', 'and/or', 'key', 'shield', 'slightly', 'specify', 'retractable', 'sets', 'puncture', 'smaller', 'account', 'its', 'lucy', 'simple', 'hidden', 'spray', 'polka', 'dual', 'mind', 'latest', 'possessions', 'over', 'pack', 'found', 'glossy', 'coatings', 'head', 'unprotected', 'functional', 'excellent', 'anymore', 'durability', '8', 'shown', 'find', 'smoke', 'level', 'ordering', 'ta', 'screen', 'unbeatable', 'photo', 'prevention', 'really', 'covered', 'needed', 'returns', 'come', 'until', 'top', 'accurately', 'adjust', 'eyes', 'avoids', 'gain', 'baa', '5.9', 'fitting', 'too', 'accidental', 'marking', 'red', 'hrs', 'pc', 'they', 'viewable', '5c', 'someone', 'body', 'infused', 'friends', ']', 'old', '%', 'hydrophobic', 'polished', 'battle', 'pad', 'idea', '99.9', 'searching', 'optical', 'fault', '6/7', 'sales', 'merges', '30', 'score', 'mixed', '2017', 'knows', 'curved', 'tag', 'brocken', 'protected', 'unnecessary', 'power', 'gravity', 'charge', 'space', 'processes', 'user', 'peel', 'wait', 'touches', 'personalized', 'wireless', 'cleaning', 'attached', 'include', 'aesthetic', 'k', 'coated', 'stop', 'rechargeable', 'accurate', 'tablets', 'lifetime', 'magnetic', 'freely', 'iphone', 'spare', 'matter', 'cute', 'purchasing', 'orange', 'pink', 'snap-on', 'opening', 'cracking', 'ratio', 'transmission', 'nasty', 'guidelines', 'allowing', 'responsive', 'replacement', 'private', 'assuring', 'times', 'mill', 'deletion', 'tm', 'liner', 'easier', 'adhesion', 'gouges', 'j', 'push', 'he', 'gaps', 'ensure', 'fenix', 'info', 'glass', 'ring', 'alpha', 'built-in', 'keeping', 'willing', 'rose', 'application', 'scratches', 'portability', 'well', 'et', '0.33', 'high-grade', 'light-weight', '0.26', 'metallic', 'ion', 'att', 'like', 'some', 'multiple', 'squeeze', 'environmental', 'ours', 'wet', 'stocking', 'cover', 'off', '1.', 'friendly', 'up', 'secure', 'anti-', 'know', 'cable', 'ice', 'device', '-5', 'darkness', 'tons', 'bubbles', 'oleo', 'usb', 'random', 'agc', 'dimmer', 'mon-fri', 'secondary', 'speaker', 'hardiness', 'excluding', 'tech', 'maxx', 'assumes', 'magically', 'third', 'tips', 'panes', 'itm', 'makeup', 'because', 'curves', 'unrivaled', 'corners', 'gadgets', 'photos', 'say', 'increase', 'posted', 'unopened', 'phones', 'time', 'bending', 'it', 'office', 'colorful', 'launch', 'sleek', 'instead', 'scanning', 's6', 'rage', 'gray', 'nothing', 'risk', 'saver', 'zero', 'behalf', 'oils', 'replace', 'accounts', 'breaking', 'casemate', 'beveled', 'withers', 'hours', 'condition', 'obstruct', 'california', 'edge-to-edge', 'stuffer', 'earphones', 'variety', '-6', 'starting', 'options', 'edition', 'smoke-free', 'generations', 'lte', 'style', 'air', 'liquid', 'providing', 'guardian', 'crack', 'art', 'enjoyment', 'method', 'used', 'falls', '.3', 'extensively', 'signal', 'saturday', 'ports', 'hold', 'melds', 'richest', 'contains', 'how', 'except', 'response', 'protectors', 'data', 'withstand', 'knocks', 'issues', 'generation', 'sunday', ')', 'pred', 'since', 'operate', 'southern', 'patterns', 'month', 'tags', 'completely', 'disabled', 'came', 'regarding', 'alignment', 'hit', 'obvious', '2-5', 'slowly', 'individually', 'polishing', 'ensuring', 'bundled', 'part', 'j7', 'via', 'decode', 'cause', 'five', 'worthy', 'hq', 'are', 'period', 'behind', 'squeegee', 'dear', '&', 'good', 'smoother', 'survive', 'chipping', 'other', 'allow', 'wish', 'error-free', \"'s\", 'invisible', 'dull', 'represents', 'users', 'covers', 'sheets', 'keep', 'assembly', 'card', 'shape', 'constructed', 'strong', 'notice', 'greatly', 'cheap', 'pics', '1mm', 'numerical', 'team', 'beaten', 'convenient', 'happy', '{', 'digitizer', 'expect', 'includes', 'harsh', 'process', 'guide', '10', 'sat', 'paying', 'add', 'refund', 'thermoplastic', 'tpu', 'specifically', 'healing', 'ez', 'nosey', 'unwanted', 'hello', 'hk', 'optimal', 'an', 'sleeps', 'pristine', 'title', 'amazing', 'nice', 'yet', 'j5', 'sony', 'has', 'works', 'invisibly', 'portable', 'tablet', 'defends', 'manufactured', 'z', 'breaks', 'view', 'tax', 'but', 'these', 'x', 'turbo', 'rude', 'accessories', 'selling', 'indicate', 'sense', 'reach', 'several', 'male', 'all-round', 'week', 'touchscreen', 'brown', 'buttons', 'instruction', '6', 'holidays', 'dock', 'absorb', 'clearance', 'states', 'show', 'company', 'arc', 'layer', 'whole', 'resistant', 'ebay', 'shattering', 'pm', 'rated', 'mohs', 'grit', 'applying', 'xyz', 'see', 'industry', 'friend', 'penetration', 'luxe', 'accident', 'input', 'attach', 'otterbox', 'causing', 'xd', 'sharp', 'content', 'v20', 'give', 'rate', 'lightweight', 'interested', 'including', 'aspects', 'long-lasting', 'general', 'harm', 'responded', 'innovative', 'online', 'free', 'itself', 'specialty', 'yur', 'so', 'discount', 'much', 'luxury', 'discreet', '100', 'arrived', 'responsibility', 'keywords', 'tray', 'damaged', 'we', 'mean', 'double', '|', 'insertion', 'deleted', \"'ve\", '2.', 'hard', 'effect', '?', 'must-have', 'high-quality', 'their', 'terminator', 'installation', 'installed', 'bundle', 'f', 'juice', 'toughened', 'accessory', 'on', 'done', 'minor', 'soiled', '24', 'upgrading', 'chemical', 'saved', 'forgot', ':', 'repels', 'nine', 'retain', 'small', 'clip', 'changed', 'plz', 'kindle', 'inspected', 'automatically', 'ordinary', 'nature', 'ranging', 'those', 'adding', 'transparency', 'existing', 'security', 'snow', 'note', 'cnc', 'pet', 'touch-screen', 'window', 'stain', 'construction', 'valued', 'packages', 'knives', 'though', 'direct', 'htc', 'titanium', 'reduced', 'static', 'stand', 'combine', 'high-impact', 'guides', 'handled', 'handling', 'resilient', '38mm', 'complement', 'active', 'against', 'tested', 'total', 'devices', 'damage', 'speck', 'star', 'imperceptible', 'sensitivity', 'at', 'satisfied', 'needs', 'that', 'combination', 'strength', 'appearing', 'discounts', 'machine', 'ultraviolet', 'gifts', 'clearly', '1pm', 'controls', ',', 'somes', 'individual', 'hesitate', '200', 'usually', 'roll', 'reinforce', 'falling', '98', 'real', '5h', 'issue', 'asking', 'christmas', 'highly', 'scratch', 'retails', '24hrs', 'glue', 'ios', 'lowest', 'gift', 'undesired', 'guidance', 'ensures', \"n't\", 'standards', 'elastic', 'fingerprint', 'stamped', '#', 'significantly', 'reduces', 'introduction', 'seamlessly', 'ready', 'little', 'comfortably', 'dispersion', 's3', 'feed', 'getting', 'wonderful', 'awesome', 'can', 'elegant', 'advertise', 'silicon', 'advertising', 'smears', 'wear', 'http', 'message', 'm', 'is', 'leave', 'ill', 'goes', 'stick', 'interfere', 'amp', 'product', 'etc.', 'comfortable', 'unaffected', 'doing', 'switch', '-', 'roller', 'soon', 'mere', 'all-around', 'create', 'due', 'glasses', 'matches', 'iridescent', '$', 'proper', 'play', 'generous', 'arrives', 'thinnest', 'manufacturer', 'negotiations', 'g', 'safe', 'speed', 'responsible', 'ear', '4h', 'e', 'again', 'iridescence', \"'til\", 'block', 'ago', '1', 'throw', 'front', 'long', 'premium', 'tabs', 'shipped', 'eye', 'realized', 'gadget', 'planning', 'costly', 'processed', 'per', 'listings', 'alcatel', 'darken', 'leaves', 'pleasure', 'as', 'amazed', 'helps', 'scraper', 'comes', 'parts', '/', 'processing', 'pure', 'silver', 'obstructing', 'led', 'number', 'metal', 'lint', 'lite', '23', 'near', 'modern', 'lg', 'hey', 'imported', '92', 'solution', 'units', 'gear', 'get', 'opened', '3-4', 'contour', 'cut', 'middle', 'compared', 'board', 'lose', 'colored', 'seconds', 'scratching', 'effectively', 'anti', '»', 'aluminum', 'bright', 'delicate', 'true', 'delivered', 'item', '2-3', 'applications', 'sizes', 'especially', 'was', 'welcome', 'cables', 'settings', 'tracked', 'applicable', 'professional', 'droid', 'mesh', 'ad', 'far', 'satisfy', 'battery', 'damages', 'famous', 'beautiful', 'improving', 'operations', 'k10', 'harder', 'rush', 'edges', 'carbon', 'ever', 'gets', 'fabric', 'reapply', 'protector', 'should', 'looking', 'standalone', 'liquids', '3h', 'abrasion', 'protects', 'drop', 'protect', 'tab', 'shard', 'first', 'material', 'fragile', 'band', 'places', 'lot', 'tempted', 'cases', 'minimum', 'artifact', 'water', 'purple', 'eastern', 'non-slip', 'forget', '2x', 'stains', 'utilizes', 't-mobile', 'cushioned', 'radiation', 'plus', '7s', 'within', 'co.', 're-installation', 'reflect', 'least', 'watching', 'fingerprinting', '11', 'specialized', 'neither', 'packaging', 'supreme', 'might', 'brush', 'picked', 'cuts', 'receiving', 'refer', 'about', 'nanostructured', 'went', 'hurry', 'satisfaction', 'degrees', 'coating', 'phobic', '4.7-inch', 'na', 'children', 'gilded', 'tuff', 'cant', 'experience', 'grade', 'price', 'preventative', 'firm', 'almost', 'frame', '0', 'probably', 'rubbing', 'reinforced', 'pieces', 'x2', '3pm', 'crystal', 'galaxy', 'transparent', 'home', '’', 'frosted', 'paramount', 'resale', 'factory', 'manufacture', 'sold', 'utilities', 'install', 'by', 'comment', 'tint', 'worked', 'defense', 'ages', 'across', 'press', 'express', 'still', 'holds', '5', '12', 'more', 'supplies', 'xperia', 'alloy', 'kitty', 'affordable', 'traces', 'easiest', 'last', 'logo', 'mm', 'ability', 'infinity', 'rounded', 'three', 'effortlessly', 'set', '[', 'never', '*', 'unanswered', 'non', 'particular', 'precision', 'phone', 'shatters', 'revolutionary', 'silicone', 'selection', 'difference', '180', 'follow', '6s', 'together', 'lots', 'better', 'minimizes', 'tempered', 'confident', '3x', 'mail', 'edgy', 'ballistic', 'traditional', 'picture', 'upgraded', 'happen', 'deciding', 'crafting', 'away', 'jayla', 'abrasions', 'lay', 'being', 'suction', 'preserve', 'included', 'side', 'compatible', 'once', 'towards', 'design', 'weekends', 'color', '--', 'of', 'modeling', 'cool', 'lightning', 'provide', 'entire', 'place', 'cat', 'exclusively', 'reserve', 'left-right', '4x', 'average', '700', 'not', 'clothe', 'sure', 'already', 'dsi', 'unchanged', 'shaded', 'hiding', 'perfect', 'thick', '99.99', 'waterproof', 'others', 'seal', 'dots', 'sweat', 'low-carbon', 'tactile', 'ultra-light', 'will', \"''\", 'feet', '·', 'recommend', 'max', 'instant', 'exquisite', 'maintaining', 'designed', 'smash', 'wipes', 'attaches', 'limited', 'temper', 'flat', 'hitting', 'realignment', 'monday', 'ordered', 'advanced', 'assure', 'urethane', '...', 'confirmed', 'thickness', 'worry', 'housing', 'formulated', 'reasonable', '1-2', '4.7', 'been', 'got', 'specific', 'hand', 'attachment', 'blue', \"'d\", 'im', '9pm', 'drastically', 'mix', 'm4', 'happens', 'best', 'charging', 'usage', 'asahi', 'shatterproof', 'buying', 'slide', 'cellular', 'evo', 'cord', 'flimsy', 'enhance', 'check', 'heavy', 'nexus', 'thank', 'nearest', 'peace', 'complements', 'cross', 'and', 'warranty', 'sale', 'generic', 'gorilla', 'right', 'unless', 'undergone', 'upper', 'sent', '.', 'cameras', 'held', 'spot', '2.7', 'outside', 'site', 'grime', 'me', 'eliminate', 'wearing', 'appearance', 'lovely', 'print', 'dirty', 'gliding', 'destroying', 'less', 'takes', 'unused', 'run', 'brass', 'surrounded', 'android', 'care', '4-5', 'alternative', 'broke', 'ultra-thin', 'icon', 'next', '(', '35', 'originally', 'lessen', 'just', 'considering', 'months', 'conditions', 'playing', 'shipping', 'holes', 'store', 'self-adhesive', 'realistic', 'lasting', 'm9', 'open', 'day', 'possible', 'reliable', 'answer', 'address', 'coat', 'guaranteed', 'would', 'games', 'keys', 'deflect', 'ft', 'tittle', 'totally', 'debris', 'typically', 'program', 'kits', 'electronic', 'handle', 'strengthened', 'superior', '.1', 'coverage', 'details', 'absolutely', 'uniquely', 'bulky', 'disappeared', 'tapping', 'various', '2'}\n"
     ]
    }
   ],
   "source": [
    "print(\"Intersect vocabulary: {}\".format(voc_set_intersect))"
   ]
  },
  {
   "cell_type": "code",
   "execution_count": 20,
   "metadata": {},
   "outputs": [
    {
     "name": "stdout",
     "output_type": "stream",
     "text": [
      "Vocabulary that is in df_train but is NOT in model:\n",
      "lentght: 901\n",
      "voc: {'screens*', 'item.our', '¶¶this', 'anit-shatter', 'techscreen', 'extemal', '2packs', 'case.4', 'discounts⬅️', 'bundle✨', '⚡️buy', 'free✨', '1xretail', '•high-response', 'hardness-3', '♦curved', 's7/s7edge', '-generic', 'anti-oil', '❤welcome', 'repair/replacing', 'shipping✅', '5se', '6+/s', 'plus..', 'nano-plated', '☆tempered', 'application/removal', 'willnot', 'amfilm', 'iphone7', 'guarenteed', '*opened', '24hrs***', '1.edge', 'anti-bubble', 'glass,9h', 'dust-free', 'anti-chip', 'oleophobic/hydrophobic', 'glass****', 'supershieldz', '↪message', '1×hard', 'note4/5/galaxy', 'plusthe', 'radiaetion', 'buying*', '****you', 'qty', 'watchonce', 'privary', '✳️see', '-zero-residue', 'tzumi', 'smudge/fingerprint-proof', '.message', 'iphone6plus', 'experience.optically', 'scratch-proof', '2.5d', 'lmirror', '▪️', '♦real', '*if', '1×', 'liquidskin', '⚡️all', '⭐️', '✨only', '⚡️fast', '2xtwo', 'save❤❤', 'iwatch', 'plus,6', '-price', 'plus/7/7', 'compatiable', '•brand', '5/5c/5s', '➡️huge', 'resistant/chip', 'smoothy.it', 'thease', '-glass', '-for', 'straight-on', '*tempered', 'coolreall', 'home*', '-ultra', 'protectors-unused', 'protectionmatte/anti-glare', '✔️bundle', '-easy', 'oleophovbic', 'day/', 'ylass', '➜', 'phone-if', '***please', '2015-release', '6/6+/7/7+', '•these', 'screen•', 'purchase•••', 'scratch/', 'protector⭐️', '~israel', 'ultra-slim', '✔️9h', '~pom', '⏺️allow', '✔️crystal', '~~~~~~~~~~~~~~~~~~~~~~~~~~~~~~~~~~~~~~~~~', 'hardness-the', '-self-healing', '-high', '•oleophobic', '❌', 'w/wet/dry', 'j2cc', '1×alcohol', 'cleaner+', '1-pack', '-cushion', '-free', 'matte/anti-glare', 'tantek', '‼️', '❤new', 'aquashield', '2x=', '4.unobstructed', 'uninstallation', '2xglass', 'mizoo', '/iphone', '-oem', ',5c', 'inches¶¶', '6splus', '.cleansing', 'v10/', 'laser-cut', '=hardness', 'non-adhesive', 'earpod', '*************', '⏺️brand', '0.26mm', '**********have', '**item', 'industry-leading', 'anti-scrath', 'satin-matte', '*phond', 'g3/', '5/5s/5c/se/6/6s/7/', '5.easy', 'topvision', 'antibubble', '0.2mm', 'anti-uv', 'non-screen', 'easy-installation', '0.25mm', '6s/6', '***double', '2.hd', 'cancel❕❕❕', '◇', '6plus/6splus', 'shatterguardz', '°hd', '•tempered', 'new⬅️', '-luxury', '1m/3ft', 'scrwen', 'nano-memory', '*i', 'easy-install', '*applicator', '42mm', '1-take', '♦shatter', 'design-', 'purchasing***', 'shop❤', 'deviceunlike', 'edge.it', '=sleek', '*real', '4.', '38/42mm', 's5/s6/s6', '-6s', 'material-', 'anti-explosion', 'play,9h', '5inch', '*free', '☆', 'compatable', 'no-peeling', 'anti-crack', '*anti-fingerprint', '*raised', '^glittered^', '1×film', 'oneplus', 'weekends/holidays', 'anti-slip', 'self-heal', 'anti-water', 'poly-silicon', '°ultra', '-connects', 'optical-grade', 'polished,2.5d', '7/', 'kimilar', '⭐new', '°air', '-micro', '►all', '*easy', 'phone*******', '5-6-6s-6plus', '.26mm', '6-', 'guarantee.', '6,6s,6+,6s+,7,7+', '0.4mm', '°protects', '•••freebies', 'lint-free', '6/', 'absorbency.the', '•silicone', 'ultra-clear', '-scratch', 'anti-broken', '*the', 'smudge-proof', '❤', 'compatiblity', '1.the', '.3mm', '✅guide', 'fingerprintseasy', '.strengthened', '-9h', '•9h', 'high-transparency', '*******does', 'iphone5/5s/5c/6/6s/6plus/7/7plus', '❕please', 'shipping⚡️', 'anti-shatter', 'truclear', '5/5s/5se', 'scren', '*cleaning', '6.', '-works', '-extra', '6/6s/7/7s', 'matteskin', '6/6plus/7/7plus', '-installation', '-bundle', '..', '==', 's4/5/6/7', '-dust', 'tech21', 'manufacturer-mocolo', 'instructionsinnovative', '-features', 'opened/touched', 'armorsuit', 'products..', '♦oleophobic', '/7', '••fast', 'description-', 'shademe', 'ixir', '☑️particular', 'iphone5/5s/6/6plus/7/7plus', 'weak-glue', '*please', 'lowballing', '¶see', '*fast', '.33mm', '✨', 'high-response', '6pack', 'case-friendly', '-microfiber', 'amaizing', 'white/black/rose', '0.15mm', '5/5s/5c/se/6/6s/6', 'chip-resistant', '-all', '►do', 'yorur', '-tempered', '•dust-free', '3pack', 'includs', 'facetiming', '~super', 'powerxcel', '6-pack', 'glass*1', '♦9h', '4/4s', '•••', '♠️scratch', 'degbit', 'case-mate', 'availbale', 'piexes', '~sean', 'cracking‼️', 'peepin', '-prices', '-my', 'plusp', 'shatter-resistant', 'non-yellowing', 'remotodo', '.easy', '/6s', '5,5s,5c', 'installationand', '-up', '♦0.26mm', 'fingerprints-', 'resiliant', 'on5', 'anti-blue', 'gold-gold-shiny', 'desgined', '**price', '♠️9h', 'protecter', '*edge', '3/lg', 'thin-0.3mm', 'nwot', 'shield®', '◇express', 'laser-carve', '*when', '¶', '♠️oleophobic', 'buttom', '♦clear', '6,6s,6+,6s+,7', '-smooth', '☑️high', 'no-stick', ':2-pack', 'offers===============', '*9h', '2×', 'film.even', 'chemicaily', 'clarity/anti-scratch/anti-bubbles', '✅wet', 'wet/dry', 'anti-yellowing', '3pcs', 'militaryshield', '·hd', 'products•', 'flipcase', 'scractches.it', 'cambond', '➡️discounted', '+glass', 'temperedglass', 'ultraprecise', 'modles', 'box-retails', '•cellphones', '***bundle', 'protecters', 'parts，othe', 'plus/7', '360°full', 'condition:100', 'easiy', '*protects', 'd3363', 'iphone®', 'parts，the', '6.anti-fingerprint', 'note4', '-anti-bubble', '*alcohol', 'blue-ray', '5/5s/5c', '¶¶compatible', '-0.26mm', '6/6s/7', '⚡package', \"5'5\", '-not', 'highly-sensitive', '6-6s', '3×', 'package/order', 'free⚡️', '8~9h', '-chargs', '✔100℅', 'temperd', 'g5,9h', 'reapairs', '1xalcohol', 'screen/', ',0.37~0.4mm,2.5d', '7+', '1~2', 'mercaris', '-cleaning', 'tempered-glass', '⭐️privacy', 'soon⭐follow', '♠️anti', '✅retail', '8-9h', '•compatible', '➡️free', '*high', '9h*', '♦', '•order', '°9h', '5.5inch', '~oil', 'shipping==============', '0.30mm', '7plus', 'clear.last', '2-pack', '刚化玻璃片3pc', 'air2', '•does', '✔️protects', 'chockers', 'anti-fingerprint/smudge', 'light-transmittance', '**we', '1pcs', 'active/', 'alcohol,1', '■no', 'nani16', '*instructions', 'etc..', '*ultra', 'curve☆', 'included■', 'site/premium', 'explosion-proof/anti-scratch', '•check', 'plus/iphone', '6/s', 'bubble/residue', 'easy-to-install', '*shatter', '*.33', 'anti-pry', '•free', '✨✨', 'easy-to-apply', '7.ultra', '//ivoler.com/installation/', 'anti-fingerprint', 'non-sticky', '6/6swelcome', '=oil', 'friendly-siania', 'lisitngs', '9-h', '•please', 'stalion®', 'absorbant', '6plus', 'ofscreen', 'split-type', 'n7100', 'clear,98', 'pink/rose', '3xpack', '⚡models', '-does', 'anti-scratch', '*fingerprint', 'new/never', 'uv-resistant', '◇standard', 'brandnew', '6/7/6s', '-you', 'itech', 'bump/shock', 'one-push', '*bundle', '•only', '626s', '****', '1pack', '*oleophobic', '-we', 'igottech', 'removeal', 'w/tracking', '✔️strong', 'privacy•', '*iphone', 'oleophobic', '6/6s+', 'sync/charging', '4.dust-free', '4-6s', '~carolina', 'wear-and-tear', 'pleces', '*delicate', '6-iphone', 'hassle-free', '◇for', '+clean', '⭐️2-pack', 'anti-fingerprints', '5s/se', 'friendly-', '3packs', 'hardness,2.5d', '✔️0.3mm', 'hd-clear', '***make', 'stain-proof', '-irx4', 's6/s7', '1*360', 'wet-install', '➡i', 'close.the', 'lumee', '6.9cm', '2016-release', 'zagg', 'shipping✨we', '**fast', 'full-cover', '***i', 'militaryshield®', 'microlouver', '⚡privacy', '*no', '⏺️will', 'optically-correct', '-advance', 'sensitviity', 'treates', '2xdust-absorber', '+.33', '•this', '*100', 'offers~', '/6s/7', '♥️policy♥️if', 'free/pet', '~metalgearliquid', '1+2', '*keeps', 'mothca', '•comes', '✔️comes', 'oleophobic-coating', '360°fully', 'modle', 'resistance,0.3mm', '-impact', '1/2/3,9h', 'se/', 'tempored', 'selfie', '-please', 'anti-grease', '➡️brand', 'thicknes', '✅if', 'newstyle', '❌no', '-shatter', '❤same/next', 'mgiftshop', '6/6s', 'dry/wet', '❤️', '⏺️price', ',3x', '▪️1', 'save*', '============no', '-perfect', '•for', 'ivoler', '-check', '~smiranda66', 'rosegold', '5.7inch', 'inch/ipad', '4.sensitive', '♦0.33mm', '~fits', '•shatter', '**after', '3.original', 'pleson', 'address***', 'jusney', '•bubble', '~court', 'scratch-resistant', '✔️easy', '3ft', 'shatterguard', '4.the', '360°', 'air-air', '-anti-shatter', 'anti-blast', 'cureve', '•no', 'air-bubble-proof', '‼️it', 'techskin', '❗️❗️❗️listing', 'easy-to-do', 'utral', 'j7,2.5d', '•all', '6/6plus', '-scratch-proof', '☆iphone', 'size/model', '7/iphone', 'cout', '⭐️check', 'shatter-proof', '5,6,6+,7,7+', '0.5mm', 'shatterproof/anti', 'nano-surface', 'anti-smudge', '7.compatible', 'smoothy', 'gold/red', '6s+', 'cleophobic', '☺️', 'antiglare', '•high', '×', 'willnorn', '-iphone', 'anti-glare', 'resistant/shatterproof', '➡️', 'skinomi®', '⏺️provides', '*easily', '◇if', 'protector☆', '•price', 'fosmon', 'true-to-form', '0.20mm', \"'delicate\", 'ixcc', '•', 'fontar', 'plus/', '•hd', '14.9cm', 'filmclassified', 'glass+', 'oil-resistant', 'glass/without', '•explosion-proof', 'frustration-free', '3pk', 'oleo-phobic', '.on/off', 'illumi', '¶¶', '➡please', '2.if', '•2600', '-fits', '*more', '5/5c/5s/se', '-top', 'rjv', '⚡', '~brand', '4.7in', '2pcs', 'touch/force', '6+', '☑️100', '•charges', '•premium', 'nippa', 'potection', '♡', 'sooyo', 'iander', '•package', 'aduro', 'scratch/shatter-proof', '-alcohol', 'included•', '☑️0.33mm', '-antifingerprint', '*****', 'gaurd', '9h+', 'plus,6s', 'self-adhering', 'ordering❕', '•nano', 'alook', 'plus/6s', 'thin，with', '*crystal', '6+/6s+', 'no-residue', '*space', 'screeun', '⏺️check', 'resistant/bubble', 'pluscase', '5/5s', 'mini4', '5/5s/5c/se/6/6s/6+/6s+', 'new•', '1×cleaning', '✅available', '•self', 'mothca®', '✔️ultra', 'screenanti-grease', '*purchase', '.dust', 'us⭐', 'anti-scuff', 'monday**', 'devices.innovative', 'film-', 'iphone4/4s', '✨free', '*2.5d', 'plus|', '*an', '7/7plus', '0.3mm', '•we', '6/6+', '✨always', '5/', 'proglass', '3-pack', '✔️package', '*******', 's4-s5-s6-s6edge', 's8+', 'used/opened', '7.no', '-find', '❕❕❕if', 'shatter-safe', 'dust-absorber', 'than99', '·anti-scratch', 'bubble-free', '*not', '6/6p', '♦for', '5/5s/se', 'anti-peeping', 'water-proof', '-package', 'glass/', '5/5s/5c/se', '-surface', '•the', 'included**', 'bodyguardz', '******', '•ultra-thin', 'gotchu', 'fingerprint-free', '6/iphone', '-the', 'black-silver', '2pack', '____________________________________________________________', '_____________________________________________________________', '6s/iphone', 'hotbin', '✔️ultra-clear', 'true-to-color', '°anti', '*full', '+5-1=', '➡️‼huge', 'impact-resistant', '✨screen', '⭐️2', 'kimdor', '5.9h', '-playing', '✔shipping', '-bubble', 'no-hassle', '⚡️', '-custom', 'shatter-proof/bubble', 'anti-spy', 'hope/kind', '0.33mm', '•delicate', '12.9-inch', '*for', '✅dust', '**phone', 'error-proof', 'anti-ultraviolet', 'shock-resistant', '-full', 'coatedwith', 'w/', 'high-sensitivity', '6s/6s', 'warrenty', 'shipping.✨✨', 'tracking••', 're-list', '✅', '·silicone', '.drying', 'chip，therefore', 'sync/charger', '♦scratch', 'air/ipad', 'thin-0.26mm', '4.7inch', 'anti-shattered', \"'buy\", '-bluetooth', '==========free', '×3', '⛔negative', 'skinomi', 'feelself-healing', 'compatible-', '⬅️', 'protector•', '-no', 'dust/debris/', '6\\\\6s', '*anti-shatter', '6s❗️❗️❗️', 'mutiple', '~marina', '=============please=================', 'affordablyyours', 'yootech', '✅glass', 'quantities¶', 'illumishield', '^glitter^', 'acessories', 'sale‼️⬅️', 'soft-touch', '*non', '-screen', 'screeb'}\n"
     ]
    }
   ],
   "source": [
    "voc_diff = voc_set_df_train.difference(voc_set_model)\n",
    "print(\"Vocabulary that is in df_train but is NOT in model:\\nlentght: {}\\nvoc: {}\".format(len(voc_diff), voc_diff))"
   ]
  },
  {
   "cell_type": "markdown",
   "metadata": {},
   "source": [
    "### Random Forest"
   ]
  },
  {
   "cell_type": "code",
   "execution_count": 21,
   "metadata": {},
   "outputs": [
    {
     "data": {
      "text/plain": [
       "RandomForestClassifier(bootstrap=True, class_weight=None, criterion='gini',\n",
       "            max_depth=100, max_features='auto', max_leaf_nodes=None,\n",
       "            min_impurity_decrease=0.0, min_impurity_split=None,\n",
       "            min_samples_leaf=1, min_samples_split=2,\n",
       "            min_weight_fraction_leaf=0.0, n_estimators=100, n_jobs=None,\n",
       "            oob_score=False, random_state=0, verbose=0, warm_start=False)"
      ]
     },
     "execution_count": 21,
     "metadata": {},
     "output_type": "execute_result"
    }
   ],
   "source": [
    "from sklearn.ensemble import RandomForestClassifier\n",
    "\n",
    "clf = RandomForestClassifier(n_estimators=100,\n",
    "                             max_depth=100,\n",
    "                             min_samples_leaf=1,\n",
    "                             random_state=0\n",
    "                            )\n",
    "clf.fit(X_train, y_train)"
   ]
  },
  {
   "cell_type": "code",
   "execution_count": 22,
   "metadata": {},
   "outputs": [],
   "source": [
    "pred_train = clf.predict(X_train)\n",
    "pred_test = clf.predict(X_test)"
   ]
  },
  {
   "cell_type": "code",
   "execution_count": 23,
   "metadata": {},
   "outputs": [
    {
     "name": "stdout",
     "output_type": "stream",
     "text": [
      "Train accuracy:  0.9944237918215614\n",
      "Test accuracy:  0.5613382899628253\n"
     ]
    }
   ],
   "source": [
    "from sklearn.metrics import accuracy_score\n",
    "\n",
    "acc_train = accuracy_score(y_train, pred_train)\n",
    "print('Train accuracy: ', acc_train)\n",
    "\n",
    "acc_test = accuracy_score(y_test, pred_test)\n",
    "print('Test accuracy: ', acc_test)"
   ]
  },
  {
   "cell_type": "markdown",
   "metadata": {},
   "source": [
    "# Naive algorithm: predicting average of the class"
   ]
  },
  {
   "cell_type": "code",
   "execution_count": 24,
   "metadata": {},
   "outputs": [],
   "source": [
    "mode = y_train.mode()\n",
    "\n",
    "pred_train_naive = y_train.copy()\n",
    "pred_test_naive = y_test.copy()\n",
    "pred_train_naive.loc[:] = mode.values[0]\n",
    "pred_test_naive.loc[:] = mode.values[0]"
   ]
  },
  {
   "cell_type": "code",
   "execution_count": 25,
   "metadata": {},
   "outputs": [
    {
     "name": "stdout",
     "output_type": "stream",
     "text": [
      "Naive train accuracy:  0.29120198265179675\n",
      "Naive test accuracy:  0.2732342007434944\n"
     ]
    }
   ],
   "source": [
    "print('Naive train accuracy: ', accuracy_score(y_train, pred_train_naive))\n",
    "print('Naive test accuracy: ', accuracy_score(y_test, pred_test_naive))"
   ]
  },
  {
   "cell_type": "code",
   "execution_count": null,
   "metadata": {},
   "outputs": [],
   "source": []
  },
  {
   "cell_type": "code",
   "execution_count": 26,
   "metadata": {},
   "outputs": [],
   "source": [
    "# from importlib import reload\n",
    "# fe = reload(fe)\n",
    "# lp = reload(lp)"
   ]
  },
  {
   "cell_type": "code",
   "execution_count": null,
   "metadata": {},
   "outputs": [],
   "source": []
  }
 ],
 "metadata": {
  "kernelspec": {
   "display_name": "Python 3",
   "language": "python",
   "name": "python3"
  },
  "language_info": {
   "codemirror_mode": {
    "name": "ipython",
    "version": 3
   },
   "file_extension": ".py",
   "mimetype": "text/x-python",
   "name": "python",
   "nbconvert_exporter": "python",
   "pygments_lexer": "ipython3",
   "version": "3.7.0"
  }
 },
 "nbformat": 4,
 "nbformat_minor": 2
}
