{
 "cells": [
  {
   "cell_type": "code",
   "execution_count": 1,
   "metadata": {},
   "outputs": [],
   "source": [
    "import numpy as np\n",
    "import pandas as pd\n",
    "from tqdm import tqdm_notebook\n",
    "\n",
    "import sys\n",
    "sys.path.append(\"../../../lib\") # Adds higher directory to python modules path.\n",
    "import helper_functions as hf\n",
    "import language_processing as lp\n",
    "import feature_extraction as fe"
   ]
  },
  {
   "cell_type": "code",
   "execution_count": 2,
   "metadata": {},
   "outputs": [],
   "source": [
    "PATH = \"../../../data/\"\n",
    "data_full = pd.read_csv(f'{PATH}train.tsv', sep='\\t')\n",
    "stopwords = [line.rstrip('\\n') for line in open(f'{PATH}stopwords/english')]"
   ]
  },
  {
   "cell_type": "markdown",
   "metadata": {},
   "source": [
    "## Replace NaN"
   ]
  },
  {
   "cell_type": "code",
   "execution_count": 3,
   "metadata": {},
   "outputs": [],
   "source": [
    "data_full = hf.replace_nan(data_full)"
   ]
  },
  {
   "cell_type": "code",
   "execution_count": 4,
   "metadata": {},
   "outputs": [
    {
     "data": {
      "text/html": [
       "<div>\n",
       "<style scoped>\n",
       "    .dataframe tbody tr th:only-of-type {\n",
       "        vertical-align: middle;\n",
       "    }\n",
       "\n",
       "    .dataframe tbody tr th {\n",
       "        vertical-align: top;\n",
       "    }\n",
       "\n",
       "    .dataframe thead th {\n",
       "        text-align: right;\n",
       "    }\n",
       "</style>\n",
       "<table border=\"1\" class=\"dataframe\">\n",
       "  <thead>\n",
       "    <tr style=\"text-align: right;\">\n",
       "      <th></th>\n",
       "      <th>train_id</th>\n",
       "      <th>name</th>\n",
       "      <th>item_condition_id</th>\n",
       "      <th>category_name</th>\n",
       "      <th>brand_name</th>\n",
       "      <th>price</th>\n",
       "      <th>shipping</th>\n",
       "      <th>item_description</th>\n",
       "    </tr>\n",
       "  </thead>\n",
       "  <tbody>\n",
       "    <tr>\n",
       "      <th>0</th>\n",
       "      <td>0</td>\n",
       "      <td>MLB Cincinnati Reds T Shirt Size XL</td>\n",
       "      <td>3</td>\n",
       "      <td>Men/Tops/T-shirts</td>\n",
       "      <td>No Brand</td>\n",
       "      <td>10.0</td>\n",
       "      <td>1</td>\n",
       "      <td>No description yet</td>\n",
       "    </tr>\n",
       "    <tr>\n",
       "      <th>1</th>\n",
       "      <td>1</td>\n",
       "      <td>Razer BlackWidow Chroma Keyboard</td>\n",
       "      <td>3</td>\n",
       "      <td>Electronics/Computers &amp; Tablets/Components &amp; P...</td>\n",
       "      <td>Razer</td>\n",
       "      <td>52.0</td>\n",
       "      <td>0</td>\n",
       "      <td>This keyboard is in great condition and works ...</td>\n",
       "    </tr>\n",
       "    <tr>\n",
       "      <th>2</th>\n",
       "      <td>2</td>\n",
       "      <td>AVA-VIV Blouse</td>\n",
       "      <td>1</td>\n",
       "      <td>Women/Tops &amp; Blouses/Blouse</td>\n",
       "      <td>Target</td>\n",
       "      <td>10.0</td>\n",
       "      <td>1</td>\n",
       "      <td>Adorable top with a hint of lace and a key hol...</td>\n",
       "    </tr>\n",
       "    <tr>\n",
       "      <th>3</th>\n",
       "      <td>3</td>\n",
       "      <td>Leather Horse Statues</td>\n",
       "      <td>1</td>\n",
       "      <td>Home/Home Décor/Home Décor Accents</td>\n",
       "      <td>No Brand</td>\n",
       "      <td>35.0</td>\n",
       "      <td>1</td>\n",
       "      <td>New with tags. Leather horses. Retail for [rm]...</td>\n",
       "    </tr>\n",
       "    <tr>\n",
       "      <th>4</th>\n",
       "      <td>4</td>\n",
       "      <td>24K GOLD plated rose</td>\n",
       "      <td>1</td>\n",
       "      <td>Women/Jewelry/Necklaces</td>\n",
       "      <td>No Brand</td>\n",
       "      <td>44.0</td>\n",
       "      <td>0</td>\n",
       "      <td>Complete with certificate of authenticity</td>\n",
       "    </tr>\n",
       "  </tbody>\n",
       "</table>\n",
       "</div>"
      ],
      "text/plain": [
       "   train_id                                 name  item_condition_id  \\\n",
       "0         0  MLB Cincinnati Reds T Shirt Size XL                  3   \n",
       "1         1     Razer BlackWidow Chroma Keyboard                  3   \n",
       "2         2                       AVA-VIV Blouse                  1   \n",
       "3         3                Leather Horse Statues                  1   \n",
       "4         4                 24K GOLD plated rose                  1   \n",
       "\n",
       "                                       category_name brand_name  price  \\\n",
       "0                                  Men/Tops/T-shirts   No Brand   10.0   \n",
       "1  Electronics/Computers & Tablets/Components & P...      Razer   52.0   \n",
       "2                        Women/Tops & Blouses/Blouse     Target   10.0   \n",
       "3                 Home/Home Décor/Home Décor Accents   No Brand   35.0   \n",
       "4                            Women/Jewelry/Necklaces   No Brand   44.0   \n",
       "\n",
       "   shipping                                   item_description  \n",
       "0         1                                 No description yet  \n",
       "1         0  This keyboard is in great condition and works ...  \n",
       "2         1  Adorable top with a hint of lace and a key hol...  \n",
       "3         1  New with tags. Leather horses. Retail for [rm]...  \n",
       "4         0          Complete with certificate of authenticity  "
      ]
     },
     "execution_count": 4,
     "metadata": {},
     "output_type": "execute_result"
    }
   ],
   "source": [
    "data_full.head()"
   ]
  },
  {
   "cell_type": "markdown",
   "metadata": {},
   "source": [
    "# Work with only 'Electronics/Video Games & Consoles/Video Gaming Merchandise' category"
   ]
  },
  {
   "cell_type": "code",
   "execution_count": 5,
   "metadata": {},
   "outputs": [
    {
     "data": {
      "text/plain": [
       "1151"
      ]
     },
     "execution_count": 5,
     "metadata": {},
     "output_type": "execute_result"
    }
   ],
   "source": [
    "cat_df = data_full.loc[data_full.category_name == 'Electronics/Video Games & Consoles/Video Gaming Merchandise']\n",
    "\n",
    "len(cat_df)"
   ]
  },
  {
   "cell_type": "markdown",
   "metadata": {},
   "source": [
    "## Delete items without description"
   ]
  },
  {
   "cell_type": "code",
   "execution_count": 6,
   "metadata": {},
   "outputs": [
    {
     "data": {
      "text/plain": [
       "1065"
      ]
     },
     "execution_count": 6,
     "metadata": {},
     "output_type": "execute_result"
    }
   ],
   "source": [
    "cat_df = cat_df[cat_df.item_description != 'No description yet']\n",
    "\n",
    "len(cat_df)"
   ]
  },
  {
   "cell_type": "markdown",
   "metadata": {},
   "source": [
    "## Extract labels"
   ]
  },
  {
   "cell_type": "code",
   "execution_count": 7,
   "metadata": {},
   "outputs": [
    {
     "name": "stdout",
     "output_type": "stream",
     "text": [
      "range (0, 9.0) has 209 items\n",
      "range (9.0, 15.0) has 193 items\n",
      "range (15.0, 23.0) has 227 items\n",
      "range (23.0, 38.0) has 218 items\n",
      "range (38.0, 589.0) has 218 items\n"
     ]
    }
   ],
   "source": [
    "import price_classifier\n",
    "\n",
    "pc = price_classifier.PriceClassifier(cat_df, 5)\n",
    "y = pc.extract(cat_df)\n",
    "\n",
    "for range_ in pc.ranges:\n",
    "    print(\"range {} has {} items\".format(range_, (y == (str(range_[0]) + \"-\" + str(range_[1]))).sum()))"
   ]
  },
  {
   "cell_type": "markdown",
   "metadata": {},
   "source": [
    "## Train & Test split"
   ]
  },
  {
   "cell_type": "code",
   "execution_count": 8,
   "metadata": {},
   "outputs": [],
   "source": [
    "from sklearn.model_selection import train_test_split\n",
    "\n",
    "df_train, df_test, y_train, y_test = train_test_split(cat_df, y, test_size=0.20, random_state=42)"
   ]
  },
  {
   "cell_type": "markdown",
   "metadata": {},
   "source": [
    "## Run grid search"
   ]
  },
  {
   "cell_type": "markdown",
   "metadata": {},
   "source": [
    "Run grid search for all combinations of text processing"
   ]
  },
  {
   "cell_type": "code",
   "execution_count": 12,
   "metadata": {},
   "outputs": [
    {
     "data": {
      "application/vnd.jupyter.widget-view+json": {
       "model_id": "a20582e5c46a43deaa3993249e8020dc",
       "version_major": 2,
       "version_minor": 0
      },
      "text/plain": [
       "HBox(children=(IntProgress(value=0, max=64), HTML(value='')))"
      ]
     },
     "metadata": {},
     "output_type": "display_data"
    },
    {
     "name": "stdout",
     "output_type": "stream",
     "text": [
      "New best score achieved 0.34861987776269554\n",
      "Optimization completed\n",
      "Saving pickle\n",
      "Done\n"
     ]
    }
   ],
   "source": [
    "from sklearn.model_selection import ParameterGrid\n",
    "from sklearn.ensemble import RandomForestClassifier\n",
    "from sklearn.model_selection import GridSearchCV\n",
    "\n",
    "NLP_param_grid = {\n",
    "    'desc_stem': [True, False], 'desc_norm': [True, False], 'desc_sw': [stopwords, None],\n",
    "    'name_stem': [True, False], 'name_norm': [True, False], 'name_sw': [stopwords, None],\n",
    "}\n",
    "\n",
    "grid_search_param_grid = {\n",
    "#     'n_estimators':[1, 3, 10, 30, 100, 300, 1000],\n",
    "    'n_estimators':[1],\n",
    "#     'max_depth':[1,3,10,30,100],\n",
    "    'min_samples_leaf':[1,3,10],\n",
    "    'random_state':[42]\n",
    "}\n",
    "\n",
    "optimisation_result = None\n",
    "\n",
    "for gp in tqdm_notebook(list(ParameterGrid(NLP_param_grid))):\n",
    "#     print(\"NLP params:\", gp)\n",
    "\n",
    "    # Create pipeline\n",
    "    pipe = fe.Pipeline(steps=[\n",
    "    #     ('base', fe.BaseFeatureExtractor()),\n",
    "        ('stemmed_tokens_item_desc', lp.CountVectorizer(\n",
    "            df_train,\n",
    "            'item_description',\n",
    "            stem=gp['desc_stem'],\n",
    "            normalize=gp['desc_norm'],\n",
    "            stopwords=gp['desc_sw']\n",
    "        )),\n",
    "        ('stemmed_tokens_name', lp.CountVectorizer(\n",
    "            df_train,\n",
    "            'name',\n",
    "            stem=gp['name_stem'],\n",
    "            normalize=gp['name_norm'],\n",
    "            stopwords=gp['name_sw']\n",
    "        ))    \n",
    "                         ])\n",
    "    # Exctract features\n",
    "#     print(\"Extracting features\")\n",
    "    X_train = pipe.extract_features(df_train)\n",
    "    X_test = pipe.extract_features(df_test)\n",
    "\n",
    "    # Run grid search\n",
    "#     print(\"Running grid search\")\n",
    "    random_forest = RandomForestClassifier()\n",
    "    clf = GridSearchCV(random_forest, grid_search_param_grid, iid=False, cv=5, n_jobs=-1)\n",
    "    clf.fit(X_train, y_train)\n",
    "    \n",
    "    current_result = {\n",
    "        'best_score_': clf.best_score_,\n",
    "        'best_NLP_gp': gp,\n",
    "        'best_params_': clf.best_params_,\n",
    "        'best_estimator_': clf.best_estimator_,\n",
    "        'X_train': X_train,\n",
    "        'X_test': X_test,\n",
    "    }\n",
    "    \n",
    "    if optimisation_result is None:\n",
    "        optimisation_result = current_result\n",
    "#         print()\n",
    "        continue\n",
    "        \n",
    "    if current_result['best_score_'] > optimisation_result['best_score_']:\n",
    "        print(\"New best score achieved\", current_result['best_score_'])\n",
    "        optimisation_result = current_result\n",
    "#     print()\n",
    "\n",
    "# Add the parameters for grid search and the training data\n",
    "print(\"Optimization done, adding additional data into optimisation_result before saving pickle...\")\n",
    "optimisation_result['NLP_param_grid'] = NLP_param_grid\n",
    "optimisation_result['grid_search_param_grid'] = grid_search_param_grid\n",
    "optimisation_result['df_train'] = df_train\n",
    "optimisation_result['df_test'] = df_test\n",
    "optimisation_result['y_train'] = y_train\n",
    "optimisation_result['y_test'] = y_test\n",
    "\n",
    "print(\"Optimization completed\")\n",
    "\n",
    "print(\"Saving pickle\")\n",
    "# hf.save_pickle(optimisation_result, f'{PATH}pickle/BOW_optimisation_result')\n",
    "print(\"Done\")"
   ]
  },
  {
   "cell_type": "code",
   "execution_count": 4,
   "metadata": {},
   "outputs": [],
   "source": [
    "clf_best = optimisation_result['best_estimator_']\n",
    "X_train = optimisation_result['X_train']\n",
    "X_test = optimisation_result['X_test']"
   ]
  },
  {
   "cell_type": "code",
   "execution_count": 5,
   "metadata": {},
   "outputs": [],
   "source": [
    "pred_train = clf_best.predict(X_train)\n",
    "pred_test = clf_best.predict(X_test)"
   ]
  },
  {
   "cell_type": "code",
   "execution_count": 6,
   "metadata": {},
   "outputs": [
    {
     "ename": "NameError",
     "evalue": "name 'y_train' is not defined",
     "output_type": "error",
     "traceback": [
      "\u001b[0;31m---------------------------------------------------------------------------\u001b[0m",
      "\u001b[0;31mNameError\u001b[0m                                 Traceback (most recent call last)",
      "\u001b[0;32m<ipython-input-6-0d6e8d787269>\u001b[0m in \u001b[0;36m<module>\u001b[0;34m()\u001b[0m\n\u001b[1;32m      1\u001b[0m \u001b[0;32mfrom\u001b[0m \u001b[0msklearn\u001b[0m\u001b[0;34m.\u001b[0m\u001b[0mmetrics\u001b[0m \u001b[0;32mimport\u001b[0m \u001b[0maccuracy_score\u001b[0m\u001b[0;34m\u001b[0m\u001b[0m\n\u001b[1;32m      2\u001b[0m \u001b[0;34m\u001b[0m\u001b[0m\n\u001b[0;32m----> 3\u001b[0;31m \u001b[0macc_train\u001b[0m \u001b[0;34m=\u001b[0m \u001b[0maccuracy_score\u001b[0m\u001b[0;34m(\u001b[0m\u001b[0my_train\u001b[0m\u001b[0;34m,\u001b[0m \u001b[0mpred_train\u001b[0m\u001b[0;34m)\u001b[0m\u001b[0;34m\u001b[0m\u001b[0m\n\u001b[0m\u001b[1;32m      4\u001b[0m \u001b[0mprint\u001b[0m\u001b[0;34m(\u001b[0m\u001b[0;34m'Train accuracy: '\u001b[0m\u001b[0;34m,\u001b[0m \u001b[0macc_train\u001b[0m\u001b[0;34m)\u001b[0m\u001b[0;34m\u001b[0m\u001b[0m\n\u001b[1;32m      5\u001b[0m \u001b[0;34m\u001b[0m\u001b[0m\n",
      "\u001b[0;31mNameError\u001b[0m: name 'y_train' is not defined"
     ]
    }
   ],
   "source": [
    "from sklearn.metrics import accuracy_score\n",
    "\n",
    "acc_train = accuracy_score(y_train, pred_train)\n",
    "print('Train accuracy: ', acc_train)\n",
    "\n",
    "acc_test = accuracy_score(y_test, pred_test)\n",
    "print('Test accuracy: ', acc_test)"
   ]
  },
  {
   "cell_type": "markdown",
   "metadata": {},
   "source": [
    "# Naive algorithm: predicting average of the class"
   ]
  },
  {
   "cell_type": "code",
   "execution_count": 96,
   "metadata": {},
   "outputs": [],
   "source": [
    "mode = y_train.mode()\n",
    "\n",
    "pred_train_naive = y_train.copy()\n",
    "pred_test_naive = y_test.copy()\n",
    "pred_train_naive.loc[:] = mode.values[0]\n",
    "pred_test_naive.loc[:] = mode.values[0]"
   ]
  },
  {
   "cell_type": "code",
   "execution_count": 97,
   "metadata": {},
   "outputs": [
    {
     "name": "stdout",
     "output_type": "stream",
     "text": [
      "Naive train accuracy:  0.21679197994987467\n",
      "Naive test accuracy:  0.20224719101123595\n"
     ]
    }
   ],
   "source": [
    "print('Naive train accuracy: ', accuracy_score(y_train, pred_train_naive))\n",
    "print('Naive test accuracy: ', accuracy_score(y_test, pred_test_naive))"
   ]
  },
  {
   "cell_type": "code",
   "execution_count": 20,
   "metadata": {},
   "outputs": [],
   "source": [
    "# from importlib import reload\n",
    "# fe = reload(fe)\n",
    "# lp = reload(lp)"
   ]
  },
  {
   "cell_type": "code",
   "execution_count": null,
   "metadata": {},
   "outputs": [],
   "source": []
  }
 ],
 "metadata": {
  "kernelspec": {
   "display_name": "Python 3",
   "language": "python",
   "name": "python3"
  },
  "language_info": {
   "codemirror_mode": {
    "name": "ipython",
    "version": 3
   },
   "file_extension": ".py",
   "mimetype": "text/x-python",
   "name": "python",
   "nbconvert_exporter": "python",
   "pygments_lexer": "ipython3",
   "version": "3.7.0"
  }
 },
 "nbformat": 4,
 "nbformat_minor": 2
}
